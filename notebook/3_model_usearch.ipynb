{
 "cells": [
  {
   "cell_type": "code",
   "execution_count": 4,
   "id": "49194fed-0181-4c0a-a1f2-ca1ea1643fde",
   "metadata": {},
   "outputs": [
    {
     "name": "stdout",
     "output_type": "stream",
     "text": [
      "Hello, world\n"
     ]
    }
   ],
   "source": [
    "print(\"Hello, world\")"
   ]
  },
  {
   "cell_type": "code",
   "execution_count": 6,
   "id": "8eaaaa94-2fa5-40be-8aff-72354513cf57",
   "metadata": {},
   "outputs": [
    {
     "name": "stdout",
     "output_type": "stream",
     "text": [
      "Requirement already satisfied: numpy in d:\\anaconda3\\envs\\ds_practicum_env\\lib\\site-packages (1.23.5)\n",
      "Requirement already satisfied: usearch in d:\\anaconda3\\envs\\ds_practicum_env\\lib\\site-packages (2.8.13)\n",
      "Requirement already satisfied: tqdm in d:\\anaconda3\\envs\\ds_practicum_env\\lib\\site-packages (from usearch) (4.66.1)\n",
      "Requirement already satisfied: ucall in d:\\anaconda3\\envs\\ds_practicum_env\\lib\\site-packages (from usearch) (0.5.1)\n",
      "Requirement already satisfied: colorama in d:\\anaconda3\\envs\\ds_practicum_env\\lib\\site-packages (from tqdm->usearch) (0.4.6)\n",
      "Requirement already satisfied: pillow in d:\\anaconda3\\envs\\ds_practicum_env\\lib\\site-packages (from ucall->usearch) (10.0.1)\n"
     ]
    },
    {
     "name": "stderr",
     "output_type": "stream",
     "text": [
      "WARNING: Ignoring invalid distribution -atplotlib (d:\\anaconda3\\envs\\ds_practicum_env\\lib\\site-packages)\n",
      "WARNING: Ignoring invalid distribution -illow (d:\\anaconda3\\envs\\ds_practicum_env\\lib\\site-packages)\n",
      "WARNING: Ignoring invalid distribution -atplotlib (d:\\anaconda3\\envs\\ds_practicum_env\\lib\\site-packages)\n",
      "WARNING: Ignoring invalid distribution -illow (d:\\anaconda3\\envs\\ds_practicum_env\\lib\\site-packages)\n"
     ]
    }
   ],
   "source": [
    "!pip install numpy usearch"
   ]
  },
  {
   "cell_type": "code",
   "execution_count": 6,
   "id": "176cf4ce-8ece-4bf4-9c97-70411416d2db",
   "metadata": {},
   "outputs": [],
   "source": [
    "import sys  \n",
    "sys.path.insert(1, '../src')\n",
    "import recsys_support.support_func as rs"
   ]
  },
  {
   "cell_type": "code",
   "execution_count": 1,
   "id": "9219db98-762d-4482-b452-c187b9647515",
   "metadata": {},
   "outputs": [],
   "source": [
    "import numpy as np\n",
    "import pandas as pd\n",
    "from usearch.index import Index\n",
    "from sklearn.preprocessing import RobustScaler"
   ]
  },
  {
   "cell_type": "code",
   "execution_count": 2,
   "id": "1a5814ca-c0bb-462f-a084-1d0300535500",
   "metadata": {},
   "outputs": [],
   "source": [
    "index = Index(ndim=3)\n",
    "\n",
    "vector = np.array([0.2, 0.6, 0.4])\n",
    "index.add(42, vector)\n",
    "\n",
    "matches = index.search(vector, 10)\n",
    "assert matches[0].key == 42\n",
    "assert matches[0].distance <= 0.001\n",
    "#assert np.allclose(index[42], vector)"
   ]
  },
  {
   "cell_type": "markdown",
   "id": "e731b3e5-7577-4945-ad1a-237cc84c5e8d",
   "metadata": {},
   "source": [
    "### Load Data"
   ]
  },
  {
   "cell_type": "code",
   "execution_count": 3,
   "id": "423cf9e6-ca1a-45ef-8717-6cfd0a676be5",
   "metadata": {},
   "outputs": [],
   "source": [
    "df_base = pd.read_parquet(\"../tmp/cleared_df_base.parquet\")"
   ]
  },
  {
   "cell_type": "code",
   "execution_count": 4,
   "id": "4ee43010-c0a1-4eb5-bbc9-8faf5dd9590b",
   "metadata": {},
   "outputs": [],
   "source": [
    "df_train = pd.read_parquet(\"../tmp/cleared_df_train.parquet\")"
   ]
  },
  {
   "cell_type": "code",
   "execution_count": 5,
   "id": "10289949-b969-45de-ad11-df27d961c8aa",
   "metadata": {},
   "outputs": [],
   "source": [
    "def checkRobustScaler(base, train):\n",
    "    scaler = RobustScaler()\n",
    "    scaler.fit(base)\n",
    "\n",
    "    tbase = scaler.transform(base)\n",
    "    tbase = pd.DataFrame(tbase, columns=base.columns)\n",
    "    tbase[\"Id\"] = base.index\n",
    "    tbase = tbase.set_index([\"Id\"])\n",
    "    \n",
    "    ttrain = scaler.transform(train[base.columns])\n",
    "\n",
    "    ttrain = pd.DataFrame(ttrain, columns=base.columns)\n",
    "    ttrain[\"Id\"] = train.index\n",
    "    ttrain = ttrain.set_index([\"Id\"])\n",
    "    ttrain[\"Target\"] = train[\"Target\"]\n",
    "\n",
    "    return tbase, ttrain, scaler"
   ]
  },
  {
   "cell_type": "code",
   "execution_count": 6,
   "id": "51e8ec17-ea0e-4f4e-9af0-9c0d8396c8d4",
   "metadata": {},
   "outputs": [],
   "source": [
    "df_base, df_train, scaler = checkRobustScaler(df_base, df_train)"
   ]
  },
  {
   "cell_type": "code",
   "execution_count": 7,
   "id": "f78f3b1c-d472-4de3-9856-aa70f5179324",
   "metadata": {},
   "outputs": [],
   "source": [
    "df_base = df_base.reset_index()\n",
    "df_train = df_train.reset_index()"
   ]
  },
  {
   "cell_type": "code",
   "execution_count": 8,
   "id": "334a3b0f-c218-463e-86ba-39b1ab33c144",
   "metadata": {},
   "outputs": [],
   "source": [
    "df_base_ids = df_base.pop(\"Id\")\n",
    "df_train_ids = df_train.pop(\"Id\")\n",
    "df_train_target = df_train.pop(\"Target\")"
   ]
  },
  {
   "cell_type": "code",
   "execution_count": 9,
   "id": "79a627e8-8848-4714-bf73-6547d53596dc",
   "metadata": {},
   "outputs": [
    {
     "data": {
      "text/html": [
       "<div>\n",
       "<style scoped>\n",
       "    .dataframe tbody tr th:only-of-type {\n",
       "        vertical-align: middle;\n",
       "    }\n",
       "\n",
       "    .dataframe tbody tr th {\n",
       "        vertical-align: top;\n",
       "    }\n",
       "\n",
       "    .dataframe thead th {\n",
       "        text-align: right;\n",
       "    }\n",
       "</style>\n",
       "<table border=\"1\" class=\"dataframe\">\n",
       "  <thead>\n",
       "    <tr style=\"text-align: right;\">\n",
       "      <th></th>\n",
       "      <th>0</th>\n",
       "      <th>1</th>\n",
       "      <th>2</th>\n",
       "      <th>3</th>\n",
       "      <th>4</th>\n",
       "      <th>5</th>\n",
       "      <th>6</th>\n",
       "      <th>7</th>\n",
       "      <th>8</th>\n",
       "      <th>9</th>\n",
       "      <th>...</th>\n",
       "      <th>61</th>\n",
       "      <th>62</th>\n",
       "      <th>63</th>\n",
       "      <th>64</th>\n",
       "      <th>65</th>\n",
       "      <th>66</th>\n",
       "      <th>67</th>\n",
       "      <th>68</th>\n",
       "      <th>69</th>\n",
       "      <th>71</th>\n",
       "    </tr>\n",
       "  </thead>\n",
       "  <tbody>\n",
       "    <tr>\n",
       "      <th>0</th>\n",
       "      <td>-0.853397</td>\n",
       "      <td>0.460538</td>\n",
       "      <td>-0.412746</td>\n",
       "      <td>1.049610</td>\n",
       "      <td>1.690894</td>\n",
       "      <td>-0.841724</td>\n",
       "      <td>-0.099159</td>\n",
       "      <td>0.273315</td>\n",
       "      <td>-0.350781</td>\n",
       "      <td>0.678173</td>\n",
       "      <td>...</td>\n",
       "      <td>-0.602186</td>\n",
       "      <td>0.886879</td>\n",
       "      <td>0.116154</td>\n",
       "      <td>0.041450</td>\n",
       "      <td>-0.515980</td>\n",
       "      <td>-1.696136</td>\n",
       "      <td>-0.389094</td>\n",
       "      <td>0.219288</td>\n",
       "      <td>-0.027103</td>\n",
       "      <td>-0.218730</td>\n",
       "    </tr>\n",
       "    <tr>\n",
       "      <th>1</th>\n",
       "      <td>1.528277</td>\n",
       "      <td>0.782926</td>\n",
       "      <td>-0.520104</td>\n",
       "      <td>-0.743363</td>\n",
       "      <td>-0.875959</td>\n",
       "      <td>-0.364060</td>\n",
       "      <td>0.713246</td>\n",
       "      <td>-0.655240</td>\n",
       "      <td>-0.491795</td>\n",
       "      <td>0.839484</td>\n",
       "      <td>...</td>\n",
       "      <td>-1.348559</td>\n",
       "      <td>-0.976363</td>\n",
       "      <td>0.181517</td>\n",
       "      <td>-0.072084</td>\n",
       "      <td>-0.633299</td>\n",
       "      <td>0.158452</td>\n",
       "      <td>0.012873</td>\n",
       "      <td>1.279020</td>\n",
       "      <td>0.029052</td>\n",
       "      <td>-0.195393</td>\n",
       "    </tr>\n",
       "    <tr>\n",
       "      <th>2</th>\n",
       "      <td>0.946431</td>\n",
       "      <td>-0.245443</td>\n",
       "      <td>0.292514</td>\n",
       "      <td>0.502795</td>\n",
       "      <td>0.630760</td>\n",
       "      <td>-0.706570</td>\n",
       "      <td>1.004428</td>\n",
       "      <td>0.482669</td>\n",
       "      <td>0.596146</td>\n",
       "      <td>0.478435</td>\n",
       "      <td>...</td>\n",
       "      <td>-0.288257</td>\n",
       "      <td>0.051959</td>\n",
       "      <td>0.321153</td>\n",
       "      <td>-0.994906</td>\n",
       "      <td>0.663859</td>\n",
       "      <td>-0.919329</td>\n",
       "      <td>0.593723</td>\n",
       "      <td>0.074829</td>\n",
       "      <td>0.020445</td>\n",
       "      <td>0.287116</td>\n",
       "    </tr>\n",
       "    <tr>\n",
       "      <th>3</th>\n",
       "      <td>-0.038115</td>\n",
       "      <td>-0.591736</td>\n",
       "      <td>-0.880887</td>\n",
       "      <td>-1.440728</td>\n",
       "      <td>-0.573874</td>\n",
       "      <td>0.332243</td>\n",
       "      <td>0.082551</td>\n",
       "      <td>-0.631718</td>\n",
       "      <td>-0.219211</td>\n",
       "      <td>0.149039</td>\n",
       "      <td>...</td>\n",
       "      <td>-1.406098</td>\n",
       "      <td>0.194882</td>\n",
       "      <td>-1.167681</td>\n",
       "      <td>0.126802</td>\n",
       "      <td>-0.301341</td>\n",
       "      <td>-0.658991</td>\n",
       "      <td>-0.608587</td>\n",
       "      <td>0.758547</td>\n",
       "      <td>0.052023</td>\n",
       "      <td>-0.434720</td>\n",
       "    </tr>\n",
       "    <tr>\n",
       "      <th>4</th>\n",
       "      <td>0.398938</td>\n",
       "      <td>-0.224341</td>\n",
       "      <td>1.752062</td>\n",
       "      <td>0.232106</td>\n",
       "      <td>-1.714228</td>\n",
       "      <td>-1.031150</td>\n",
       "      <td>0.051814</td>\n",
       "      <td>0.283002</td>\n",
       "      <td>-0.203272</td>\n",
       "      <td>-0.133156</td>\n",
       "      <td>...</td>\n",
       "      <td>0.423585</td>\n",
       "      <td>0.529178</td>\n",
       "      <td>0.623368</td>\n",
       "      <td>-0.100573</td>\n",
       "      <td>0.421821</td>\n",
       "      <td>-0.428615</td>\n",
       "      <td>-0.358680</td>\n",
       "      <td>-0.117109</td>\n",
       "      <td>0.682816</td>\n",
       "      <td>0.874164</td>\n",
       "    </tr>\n",
       "  </tbody>\n",
       "</table>\n",
       "<p>5 rows × 69 columns</p>\n",
       "</div>"
      ],
      "text/plain": [
       "          0         1         2         3         4         5         6  \\\n",
       "0 -0.853397  0.460538 -0.412746  1.049610  1.690894 -0.841724 -0.099159   \n",
       "1  1.528277  0.782926 -0.520104 -0.743363 -0.875959 -0.364060  0.713246   \n",
       "2  0.946431 -0.245443  0.292514  0.502795  0.630760 -0.706570  1.004428   \n",
       "3 -0.038115 -0.591736 -0.880887 -1.440728 -0.573874  0.332243  0.082551   \n",
       "4  0.398938 -0.224341  1.752062  0.232106 -1.714228 -1.031150  0.051814   \n",
       "\n",
       "          7         8         9  ...        61        62        63        64  \\\n",
       "0  0.273315 -0.350781  0.678173  ... -0.602186  0.886879  0.116154  0.041450   \n",
       "1 -0.655240 -0.491795  0.839484  ... -1.348559 -0.976363  0.181517 -0.072084   \n",
       "2  0.482669  0.596146  0.478435  ... -0.288257  0.051959  0.321153 -0.994906   \n",
       "3 -0.631718 -0.219211  0.149039  ... -1.406098  0.194882 -1.167681  0.126802   \n",
       "4  0.283002 -0.203272 -0.133156  ...  0.423585  0.529178  0.623368 -0.100573   \n",
       "\n",
       "         65        66        67        68        69        71  \n",
       "0 -0.515980 -1.696136 -0.389094  0.219288 -0.027103 -0.218730  \n",
       "1 -0.633299  0.158452  0.012873  1.279020  0.029052 -0.195393  \n",
       "2  0.663859 -0.919329  0.593723  0.074829  0.020445  0.287116  \n",
       "3 -0.301341 -0.658991 -0.608587  0.758547  0.052023 -0.434720  \n",
       "4  0.421821 -0.428615 -0.358680 -0.117109  0.682816  0.874164  \n",
       "\n",
       "[5 rows x 69 columns]"
      ]
     },
     "execution_count": 9,
     "metadata": {},
     "output_type": "execute_result"
    }
   ],
   "source": [
    "df_base.head(5)"
   ]
  },
  {
   "cell_type": "code",
   "execution_count": 10,
   "id": "70b56d73-87d8-4411-8150-4591263268aa",
   "metadata": {},
   "outputs": [
    {
     "data": {
      "text/html": [
       "<div>\n",
       "<style scoped>\n",
       "    .dataframe tbody tr th:only-of-type {\n",
       "        vertical-align: middle;\n",
       "    }\n",
       "\n",
       "    .dataframe tbody tr th {\n",
       "        vertical-align: top;\n",
       "    }\n",
       "\n",
       "    .dataframe thead th {\n",
       "        text-align: right;\n",
       "    }\n",
       "</style>\n",
       "<table border=\"1\" class=\"dataframe\">\n",
       "  <thead>\n",
       "    <tr style=\"text-align: right;\">\n",
       "      <th></th>\n",
       "      <th>0</th>\n",
       "      <th>1</th>\n",
       "      <th>2</th>\n",
       "      <th>3</th>\n",
       "      <th>4</th>\n",
       "      <th>5</th>\n",
       "      <th>6</th>\n",
       "      <th>7</th>\n",
       "      <th>8</th>\n",
       "      <th>9</th>\n",
       "      <th>...</th>\n",
       "      <th>61</th>\n",
       "      <th>62</th>\n",
       "      <th>63</th>\n",
       "      <th>64</th>\n",
       "      <th>65</th>\n",
       "      <th>66</th>\n",
       "      <th>67</th>\n",
       "      <th>68</th>\n",
       "      <th>69</th>\n",
       "      <th>71</th>\n",
       "    </tr>\n",
       "  </thead>\n",
       "  <tbody>\n",
       "    <tr>\n",
       "      <th>0</th>\n",
       "      <td>0.956813</td>\n",
       "      <td>1.468961</td>\n",
       "      <td>0.034035</td>\n",
       "      <td>-1.398175</td>\n",
       "      <td>1.222708</td>\n",
       "      <td>-0.390937</td>\n",
       "      <td>0.158339</td>\n",
       "      <td>0.203191</td>\n",
       "      <td>-1.744734</td>\n",
       "      <td>-1.089301</td>\n",
       "      <td>...</td>\n",
       "      <td>-0.115111</td>\n",
       "      <td>-0.669636</td>\n",
       "      <td>1.006160</td>\n",
       "      <td>-0.034157</td>\n",
       "      <td>-0.677278</td>\n",
       "      <td>-0.781285</td>\n",
       "      <td>0.152772</td>\n",
       "      <td>-0.149669</td>\n",
       "      <td>0.672481</td>\n",
       "      <td>0.404513</td>\n",
       "    </tr>\n",
       "    <tr>\n",
       "      <th>1</th>\n",
       "      <td>-0.045694</td>\n",
       "      <td>-0.182307</td>\n",
       "      <td>0.235551</td>\n",
       "      <td>-1.146973</td>\n",
       "      <td>0.144349</td>\n",
       "      <td>-0.305307</td>\n",
       "      <td>0.693155</td>\n",
       "      <td>-1.152057</td>\n",
       "      <td>0.120621</td>\n",
       "      <td>0.196990</td>\n",
       "      <td>...</td>\n",
       "      <td>-0.498066</td>\n",
       "      <td>0.936504</td>\n",
       "      <td>-0.854166</td>\n",
       "      <td>0.042657</td>\n",
       "      <td>-0.090459</td>\n",
       "      <td>0.145681</td>\n",
       "      <td>0.023242</td>\n",
       "      <td>0.183252</td>\n",
       "      <td>0.522692</td>\n",
       "      <td>-0.047985</td>\n",
       "    </tr>\n",
       "    <tr>\n",
       "      <th>2</th>\n",
       "      <td>1.072261</td>\n",
       "      <td>-0.620782</td>\n",
       "      <td>-1.447945</td>\n",
       "      <td>-1.265179</td>\n",
       "      <td>1.264912</td>\n",
       "      <td>0.541482</td>\n",
       "      <td>0.950244</td>\n",
       "      <td>-0.594990</td>\n",
       "      <td>0.221400</td>\n",
       "      <td>1.031093</td>\n",
       "      <td>...</td>\n",
       "      <td>-0.636131</td>\n",
       "      <td>0.657624</td>\n",
       "      <td>1.231668</td>\n",
       "      <td>-0.283853</td>\n",
       "      <td>0.399591</td>\n",
       "      <td>-0.738588</td>\n",
       "      <td>-0.069405</td>\n",
       "      <td>1.674534</td>\n",
       "      <td>0.211982</td>\n",
       "      <td>0.465483</td>\n",
       "    </tr>\n",
       "    <tr>\n",
       "      <th>3</th>\n",
       "      <td>1.136416</td>\n",
       "      <td>0.154941</td>\n",
       "      <td>-1.433588</td>\n",
       "      <td>0.969449</td>\n",
       "      <td>-0.278345</td>\n",
       "      <td>-0.958763</td>\n",
       "      <td>-0.746723</td>\n",
       "      <td>0.677757</td>\n",
       "      <td>0.013062</td>\n",
       "      <td>1.394367</td>\n",
       "      <td>...</td>\n",
       "      <td>-0.024586</td>\n",
       "      <td>0.420605</td>\n",
       "      <td>0.278609</td>\n",
       "      <td>0.160191</td>\n",
       "      <td>0.468884</td>\n",
       "      <td>-1.506003</td>\n",
       "      <td>1.143543</td>\n",
       "      <td>0.100472</td>\n",
       "      <td>0.080862</td>\n",
       "      <td>0.512745</td>\n",
       "    </tr>\n",
       "    <tr>\n",
       "      <th>4</th>\n",
       "      <td>0.195197</td>\n",
       "      <td>0.947107</td>\n",
       "      <td>-0.302133</td>\n",
       "      <td>-0.010374</td>\n",
       "      <td>-0.884907</td>\n",
       "      <td>1.430006</td>\n",
       "      <td>0.213437</td>\n",
       "      <td>0.292315</td>\n",
       "      <td>0.241446</td>\n",
       "      <td>-0.235276</td>\n",
       "      <td>...</td>\n",
       "      <td>2.098284</td>\n",
       "      <td>0.241547</td>\n",
       "      <td>0.293211</td>\n",
       "      <td>-0.788086</td>\n",
       "      <td>-0.768877</td>\n",
       "      <td>-0.363233</td>\n",
       "      <td>0.263447</td>\n",
       "      <td>0.032787</td>\n",
       "      <td>-0.844928</td>\n",
       "      <td>0.490466</td>\n",
       "    </tr>\n",
       "  </tbody>\n",
       "</table>\n",
       "<p>5 rows × 69 columns</p>\n",
       "</div>"
      ],
      "text/plain": [
       "          0         1         2         3         4         5         6  \\\n",
       "0  0.956813  1.468961  0.034035 -1.398175  1.222708 -0.390937  0.158339   \n",
       "1 -0.045694 -0.182307  0.235551 -1.146973  0.144349 -0.305307  0.693155   \n",
       "2  1.072261 -0.620782 -1.447945 -1.265179  1.264912  0.541482  0.950244   \n",
       "3  1.136416  0.154941 -1.433588  0.969449 -0.278345 -0.958763 -0.746723   \n",
       "4  0.195197  0.947107 -0.302133 -0.010374 -0.884907  1.430006  0.213437   \n",
       "\n",
       "          7         8         9  ...        61        62        63        64  \\\n",
       "0  0.203191 -1.744734 -1.089301  ... -0.115111 -0.669636  1.006160 -0.034157   \n",
       "1 -1.152057  0.120621  0.196990  ... -0.498066  0.936504 -0.854166  0.042657   \n",
       "2 -0.594990  0.221400  1.031093  ... -0.636131  0.657624  1.231668 -0.283853   \n",
       "3  0.677757  0.013062  1.394367  ... -0.024586  0.420605  0.278609  0.160191   \n",
       "4  0.292315  0.241446 -0.235276  ...  2.098284  0.241547  0.293211 -0.788086   \n",
       "\n",
       "         65        66        67        68        69        71  \n",
       "0 -0.677278 -0.781285  0.152772 -0.149669  0.672481  0.404513  \n",
       "1 -0.090459  0.145681  0.023242  0.183252  0.522692 -0.047985  \n",
       "2  0.399591 -0.738588 -0.069405  1.674534  0.211982  0.465483  \n",
       "3  0.468884 -1.506003  1.143543  0.100472  0.080862  0.512745  \n",
       "4 -0.768877 -0.363233  0.263447  0.032787 -0.844928  0.490466  \n",
       "\n",
       "[5 rows x 69 columns]"
      ]
     },
     "execution_count": 10,
     "metadata": {},
     "output_type": "execute_result"
    }
   ],
   "source": [
    "df_train.head(5)"
   ]
  },
  {
   "cell_type": "markdown",
   "id": "5d181442-d087-407c-a60d-ea76514784e9",
   "metadata": {},
   "source": [
    "### Test Index"
   ]
  },
  {
   "cell_type": "code",
   "execution_count": 32,
   "id": "17b55066-2109-45f9-a62e-fff325682dc3",
   "metadata": {},
   "outputs": [],
   "source": [
    "dims = df_base.shape[1]\n",
    "\n",
    "index = Index(\n",
    "    ndim=dims, # Define the number of dimensions in input vectors\n",
    "    metric='inner_product', # Choose 'l2sq', 'haversine' or other metric, default = 'ip'\n",
    "    dtype='f32', # Quantize to 'f16' or 'i8' if needed, default = 'f32'\n",
    "    #connectivity=16, # Optional: Limit number of neighbors per graph node\n",
    "    #expansion_add=128, # Optional: Control the recall of indexing\n",
    "    #expansion_search=32, # Optional: Control the quality of the search\n",
    "    multi=False, # Optional: Allow multiple vectors per key, default = False\n",
    ")\n",
    "#\"cos\": MetricKind.Cos,\n",
    "#\"cosine\": MetricKind.Cos,\n",
    "#ip\": MetricKind.IP,\n",
    "#\"dot\": MetricKind.IP,\n",
    "#inner_product\": MetricKind.IP,\n",
    "#\"l2sq\": MetricKind.L2sq,\n",
    "#\"l2_sq\": MetricKind.L2sq,\n",
    "#\"haversine\": MetricKind.Haversine,\n",
    "#\"divergence\": MetricKind.Divergence,\n",
    "#\"pearson\": MetricKind.Pearson,\n",
    "#\"hamming\": MetricKind.Hamming,\n",
    "#\"tanimoto\": MetricKind.Tanimoto,\n",
    "#\"sorensen\": MetricKind.Sorensen,\n"
   ]
  },
  {
   "cell_type": "code",
   "execution_count": 33,
   "id": "0cf94736-75ee-4791-91c4-8bd3806a98b3",
   "metadata": {},
   "outputs": [
    {
     "name": "stdout",
     "output_type": "stream",
     "text": [
      "CPU times: total: 47min 28s\n",
      "Wall time: 2min 5s\n"
     ]
    },
    {
     "data": {
      "text/plain": [
       "array([      0,       1,       2, ..., 2918136, 2918137, 2918138],\n",
       "      dtype=uint64)"
      ]
     },
     "execution_count": 33,
     "metadata": {},
     "output_type": "execute_result"
    }
   ],
   "source": [
    "%%time\n",
    "index.add(df_base.index, df_base.values)"
   ]
  },
  {
   "cell_type": "code",
   "execution_count": 43,
   "id": "5985b994-2bc1-4422-a737-dd2c34f2c225",
   "metadata": {},
   "outputs": [
    {
     "name": "stdout",
     "output_type": "stream",
     "text": [
      "CPU times: total: 2h 39min 36s\n",
      "Wall time: 7min 16s\n"
     ]
    }
   ],
   "source": [
    "%%time\n",
    "matches = index.search(df_train.values, 10000)"
   ]
  },
  {
   "cell_type": "code",
   "execution_count": 44,
   "id": "c0ba0118-e99f-49b9-ad52-31a617f3095b",
   "metadata": {},
   "outputs": [
    {
     "name": "stdout",
     "output_type": "stream",
     "text": [
      "CPU times: total: 8min 43s\n",
      "Wall time: 8min 44s\n"
     ]
    }
   ],
   "source": [
    "%%time\n",
    "predict_ids = []\n",
    "for i in matches:\n",
    "    predict_ids.append([z.key for z in i])"
   ]
  },
  {
   "cell_type": "code",
   "execution_count": 45,
   "id": "98d0ee53-3b20-4b7b-97c3-922ef630bf73",
   "metadata": {},
   "outputs": [],
   "source": [
    "# функция вычисления accuracy@n\n",
    "def accuracy(targets, predict_ids, base_index):\n",
    "    acc = 0\n",
    "    for target, candidates in zip(targets.tolist(), predict_ids):\n",
    "        acc += int(target in [base_index[number] for number in candidates])\n",
    "    print(acc)\n",
    "    return (acc / len(predict_ids) * 100)"
   ]
  },
  {
   "cell_type": "code",
   "execution_count": 46,
   "id": "6878a3de-848b-4da9-a392-8b114a3b2ba0",
   "metadata": {},
   "outputs": [
    {
     "name": "stdout",
     "output_type": "stream",
     "text": [
      "556\n",
      "CPU times: total: 15min 19s\n",
      "Wall time: 15min 19s\n"
     ]
    },
    {
     "data": {
      "text/plain": [
       "0.5559999999999999"
      ]
     },
     "execution_count": 46,
     "metadata": {},
     "output_type": "execute_result"
    }
   ],
   "source": [
    "%%time\n",
    "accuracy(df_train_target, predict_ids, {k: df_base_ids.iloc[v] for k, v in enumerate(df_base_ids.index.to_list())})"
   ]
  },
  {
   "cell_type": "code",
   "execution_count": null,
   "id": "eb9b6630-1ef8-40d1-9b0b-7c66fb71f999",
   "metadata": {},
   "outputs": [],
   "source": []
  }
 ],
 "metadata": {
  "kernelspec": {
   "display_name": "Python 3 (ipykernel)",
   "language": "python",
   "name": "python3"
  },
  "language_info": {
   "codemirror_mode": {
    "name": "ipython",
    "version": 3
   },
   "file_extension": ".py",
   "mimetype": "text/x-python",
   "name": "python",
   "nbconvert_exporter": "python",
   "pygments_lexer": "ipython3",
   "version": "3.9.18"
  },
  "widgets": {
   "application/vnd.jupyter.widget-state+json": {
    "state": {},
    "version_major": 2,
    "version_minor": 0
   }
  }
 },
 "nbformat": 4,
 "nbformat_minor": 5
}
