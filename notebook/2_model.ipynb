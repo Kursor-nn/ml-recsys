{
 "cells": [
  {
   "cell_type": "code",
   "execution_count": 1,
   "metadata": {
    "ExecuteTime": {
     "end_time": "2023-11-14T19:16:18.213021Z",
     "start_time": "2023-11-14T19:16:18.123746Z"
    }
   },
   "outputs": [
    {
     "name": "stdout",
     "output_type": "stream",
     "text": [
      "Hello, world\n"
     ]
    }
   ],
   "source": [
    "print(\"Hello, world\")"
   ]
  },
  {
   "cell_type": "code",
   "execution_count": 2,
   "metadata": {
    "ExecuteTime": {
     "end_time": "2023-11-14T19:16:25.308624Z",
     "start_time": "2023-11-14T19:16:24.265148Z"
    },
    "collapsed": false,
    "jupyter": {
     "outputs_hidden": false
    }
   },
   "outputs": [],
   "source": [
    "import pandas as pd\n",
    "import numpy as np\n",
    "import faiss\n",
    "\n",
    "from tqdm.notebook import tqdm\n",
    "from sklearn.preprocessing import RobustScaler\n",
    "from sklearn.preprocessing import StandardScaler\n",
    "from sklearn.preprocessing import MinMaxScaler\n",
    "from sklearn.preprocessing import Normalizer\n",
    "from sklearn.preprocessing import MaxAbsScaler"
   ]
  },
  {
   "cell_type": "code",
   "execution_count": null,
   "metadata": {},
   "outputs": [],
   "source": []
  },
  {
   "cell_type": "markdown",
   "metadata": {},
   "source": [
    "## Head-on Solution"
   ]
  },
  {
   "cell_type": "code",
   "execution_count": 3,
   "metadata": {
    "ExecuteTime": {
     "end_time": "2023-11-14T19:19:51.506802Z",
     "start_time": "2023-11-14T19:19:49.366504Z"
    },
    "collapsed": false,
    "jupyter": {
     "outputs_hidden": false
    }
   },
   "outputs": [],
   "source": [
    "df_base = pd.read_parquet(\"../tmp/cleared_df_base.parquet\")"
   ]
  },
  {
   "cell_type": "code",
   "execution_count": 4,
   "metadata": {},
   "outputs": [
    {
     "data": {
      "text/html": [
       "<div>\n",
       "<style scoped>\n",
       "    .dataframe tbody tr th:only-of-type {\n",
       "        vertical-align: middle;\n",
       "    }\n",
       "\n",
       "    .dataframe tbody tr th {\n",
       "        vertical-align: top;\n",
       "    }\n",
       "\n",
       "    .dataframe thead th {\n",
       "        text-align: right;\n",
       "    }\n",
       "</style>\n",
       "<table border=\"1\" class=\"dataframe\">\n",
       "  <thead>\n",
       "    <tr style=\"text-align: right;\">\n",
       "      <th></th>\n",
       "      <th>0</th>\n",
       "      <th>1</th>\n",
       "      <th>2</th>\n",
       "      <th>3</th>\n",
       "      <th>4</th>\n",
       "      <th>5</th>\n",
       "      <th>6</th>\n",
       "      <th>7</th>\n",
       "      <th>8</th>\n",
       "      <th>9</th>\n",
       "      <th>...</th>\n",
       "      <th>61</th>\n",
       "      <th>62</th>\n",
       "      <th>63</th>\n",
       "      <th>64</th>\n",
       "      <th>65</th>\n",
       "      <th>66</th>\n",
       "      <th>67</th>\n",
       "      <th>68</th>\n",
       "      <th>69</th>\n",
       "      <th>71</th>\n",
       "    </tr>\n",
       "    <tr>\n",
       "      <th>Id</th>\n",
       "      <th></th>\n",
       "      <th></th>\n",
       "      <th></th>\n",
       "      <th></th>\n",
       "      <th></th>\n",
       "      <th></th>\n",
       "      <th></th>\n",
       "      <th></th>\n",
       "      <th></th>\n",
       "      <th></th>\n",
       "      <th></th>\n",
       "      <th></th>\n",
       "      <th></th>\n",
       "      <th></th>\n",
       "      <th></th>\n",
       "      <th></th>\n",
       "      <th></th>\n",
       "      <th></th>\n",
       "      <th></th>\n",
       "      <th></th>\n",
       "      <th></th>\n",
       "    </tr>\n",
       "  </thead>\n",
       "  <tbody>\n",
       "    <tr>\n",
       "      <th>0-base</th>\n",
       "      <td>-115.083893</td>\n",
       "      <td>11.152912</td>\n",
       "      <td>-64.426758</td>\n",
       "      <td>-118.880890</td>\n",
       "      <td>216.482437</td>\n",
       "      <td>-104.698059</td>\n",
       "      <td>-469.070587</td>\n",
       "      <td>44.348083</td>\n",
       "      <td>120.915344</td>\n",
       "      <td>181.449707</td>\n",
       "      <td>...</td>\n",
       "      <td>-138.777634</td>\n",
       "      <td>-42.808693</td>\n",
       "      <td>38.800827</td>\n",
       "      <td>-151.762177</td>\n",
       "      <td>-74.389091</td>\n",
       "      <td>63.666340</td>\n",
       "      <td>-4.703861</td>\n",
       "      <td>92.933609</td>\n",
       "      <td>115.269188</td>\n",
       "      <td>-60.830353</td>\n",
       "    </tr>\n",
       "    <tr>\n",
       "      <th>1-base</th>\n",
       "      <td>-34.562202</td>\n",
       "      <td>13.332763</td>\n",
       "      <td>-69.787613</td>\n",
       "      <td>-166.533478</td>\n",
       "      <td>57.680607</td>\n",
       "      <td>-86.098373</td>\n",
       "      <td>-85.076668</td>\n",
       "      <td>-35.637436</td>\n",
       "      <td>119.718636</td>\n",
       "      <td>195.234192</td>\n",
       "      <td>...</td>\n",
       "      <td>-148.571655</td>\n",
       "      <td>-117.767525</td>\n",
       "      <td>41.099998</td>\n",
       "      <td>-157.829407</td>\n",
       "      <td>-94.446808</td>\n",
       "      <td>68.202110</td>\n",
       "      <td>24.346846</td>\n",
       "      <td>179.937927</td>\n",
       "      <td>116.834000</td>\n",
       "      <td>-59.524609</td>\n",
       "    </tr>\n",
       "    <tr>\n",
       "      <th>2-base</th>\n",
       "      <td>-54.233746</td>\n",
       "      <td>6.379371</td>\n",
       "      <td>-29.210136</td>\n",
       "      <td>-133.413834</td>\n",
       "      <td>150.895828</td>\n",
       "      <td>-99.435326</td>\n",
       "      <td>52.554794</td>\n",
       "      <td>62.381706</td>\n",
       "      <td>128.951447</td>\n",
       "      <td>164.381470</td>\n",
       "      <td>...</td>\n",
       "      <td>-134.658218</td>\n",
       "      <td>-76.397797</td>\n",
       "      <td>46.011803</td>\n",
       "      <td>-207.144424</td>\n",
       "      <td>127.325569</td>\n",
       "      <td>65.566177</td>\n",
       "      <td>66.325684</td>\n",
       "      <td>81.073486</td>\n",
       "      <td>116.594154</td>\n",
       "      <td>-32.527206</td>\n",
       "    </tr>\n",
       "    <tr>\n",
       "      <th>3-base</th>\n",
       "      <td>-87.520126</td>\n",
       "      <td>4.037884</td>\n",
       "      <td>-87.803032</td>\n",
       "      <td>-185.067627</td>\n",
       "      <td>76.369537</td>\n",
       "      <td>-58.985165</td>\n",
       "      <td>-383.182831</td>\n",
       "      <td>-33.611237</td>\n",
       "      <td>122.031914</td>\n",
       "      <td>136.233582</td>\n",
       "      <td>...</td>\n",
       "      <td>-149.326691</td>\n",
       "      <td>-70.647942</td>\n",
       "      <td>-6.358921</td>\n",
       "      <td>-147.201050</td>\n",
       "      <td>-37.692749</td>\n",
       "      <td>66.202888</td>\n",
       "      <td>-20.566910</td>\n",
       "      <td>137.206940</td>\n",
       "      <td>117.474098</td>\n",
       "      <td>-72.915489</td>\n",
       "    </tr>\n",
       "    <tr>\n",
       "      <th>4-base</th>\n",
       "      <td>-72.743851</td>\n",
       "      <td>6.522048</td>\n",
       "      <td>43.671265</td>\n",
       "      <td>-140.608032</td>\n",
       "      <td>5.820023</td>\n",
       "      <td>-112.074081</td>\n",
       "      <td>-397.711273</td>\n",
       "      <td>45.182499</td>\n",
       "      <td>122.167183</td>\n",
       "      <td>112.119064</td>\n",
       "      <td>...</td>\n",
       "      <td>-125.317329</td>\n",
       "      <td>-57.199104</td>\n",
       "      <td>56.642403</td>\n",
       "      <td>-159.351837</td>\n",
       "      <td>85.944725</td>\n",
       "      <td>66.766319</td>\n",
       "      <td>-2.505783</td>\n",
       "      <td>65.315285</td>\n",
       "      <td>135.051590</td>\n",
       "      <td>0.319401</td>\n",
       "    </tr>\n",
       "  </tbody>\n",
       "</table>\n",
       "<p>5 rows × 69 columns</p>\n",
       "</div>"
      ],
      "text/plain": [
       "                 0          1          2           3           4           5  \\\n",
       "Id                                                                             \n",
       "0-base -115.083893  11.152912 -64.426758 -118.880890  216.482437 -104.698059   \n",
       "1-base  -34.562202  13.332763 -69.787613 -166.533478   57.680607  -86.098373   \n",
       "2-base  -54.233746   6.379371 -29.210136 -133.413834  150.895828  -99.435326   \n",
       "3-base  -87.520126   4.037884 -87.803032 -185.067627   76.369537  -58.985165   \n",
       "4-base  -72.743851   6.522048  43.671265 -140.608032    5.820023 -112.074081   \n",
       "\n",
       "                 6          7           8           9  ...          61  \\\n",
       "Id                                                     ...               \n",
       "0-base -469.070587  44.348083  120.915344  181.449707  ... -138.777634   \n",
       "1-base  -85.076668 -35.637436  119.718636  195.234192  ... -148.571655   \n",
       "2-base   52.554794  62.381706  128.951447  164.381470  ... -134.658218   \n",
       "3-base -383.182831 -33.611237  122.031914  136.233582  ... -149.326691   \n",
       "4-base -397.711273  45.182499  122.167183  112.119064  ... -125.317329   \n",
       "\n",
       "                62         63          64          65         66         67  \\\n",
       "Id                                                                            \n",
       "0-base  -42.808693  38.800827 -151.762177  -74.389091  63.666340  -4.703861   \n",
       "1-base -117.767525  41.099998 -157.829407  -94.446808  68.202110  24.346846   \n",
       "2-base  -76.397797  46.011803 -207.144424  127.325569  65.566177  66.325684   \n",
       "3-base  -70.647942  -6.358921 -147.201050  -37.692749  66.202888 -20.566910   \n",
       "4-base  -57.199104  56.642403 -159.351837   85.944725  66.766319  -2.505783   \n",
       "\n",
       "                68          69         71  \n",
       "Id                                         \n",
       "0-base   92.933609  115.269188 -60.830353  \n",
       "1-base  179.937927  116.834000 -59.524609  \n",
       "2-base   81.073486  116.594154 -32.527206  \n",
       "3-base  137.206940  117.474098 -72.915489  \n",
       "4-base   65.315285  135.051590   0.319401  \n",
       "\n",
       "[5 rows x 69 columns]"
      ]
     },
     "execution_count": 4,
     "metadata": {},
     "output_type": "execute_result"
    }
   ],
   "source": [
    "df_base.head()"
   ]
  },
  {
   "cell_type": "code",
   "execution_count": 5,
   "metadata": {
    "ExecuteTime": {
     "end_time": "2023-11-14T19:19:53.360282Z",
     "start_time": "2023-11-14T19:19:52.656228Z"
    },
    "collapsed": false,
    "jupyter": {
     "outputs_hidden": false
    }
   },
   "outputs": [
    {
     "data": {
      "text/html": [
       "<div>\n",
       "<style scoped>\n",
       "    .dataframe tbody tr th:only-of-type {\n",
       "        vertical-align: middle;\n",
       "    }\n",
       "\n",
       "    .dataframe tbody tr th {\n",
       "        vertical-align: top;\n",
       "    }\n",
       "\n",
       "    .dataframe thead th {\n",
       "        text-align: right;\n",
       "    }\n",
       "</style>\n",
       "<table border=\"1\" class=\"dataframe\">\n",
       "  <thead>\n",
       "    <tr style=\"text-align: right;\">\n",
       "      <th></th>\n",
       "      <th>0</th>\n",
       "      <th>1</th>\n",
       "      <th>2</th>\n",
       "      <th>3</th>\n",
       "      <th>4</th>\n",
       "      <th>5</th>\n",
       "      <th>6</th>\n",
       "      <th>7</th>\n",
       "      <th>8</th>\n",
       "      <th>9</th>\n",
       "      <th>...</th>\n",
       "      <th>62</th>\n",
       "      <th>63</th>\n",
       "      <th>64</th>\n",
       "      <th>65</th>\n",
       "      <th>66</th>\n",
       "      <th>67</th>\n",
       "      <th>68</th>\n",
       "      <th>69</th>\n",
       "      <th>71</th>\n",
       "      <th>Target</th>\n",
       "    </tr>\n",
       "    <tr>\n",
       "      <th>Id</th>\n",
       "      <th></th>\n",
       "      <th></th>\n",
       "      <th></th>\n",
       "      <th></th>\n",
       "      <th></th>\n",
       "      <th></th>\n",
       "      <th></th>\n",
       "      <th></th>\n",
       "      <th></th>\n",
       "      <th></th>\n",
       "      <th></th>\n",
       "      <th></th>\n",
       "      <th></th>\n",
       "      <th></th>\n",
       "      <th></th>\n",
       "      <th></th>\n",
       "      <th></th>\n",
       "      <th></th>\n",
       "      <th></th>\n",
       "      <th></th>\n",
       "      <th></th>\n",
       "    </tr>\n",
       "  </thead>\n",
       "  <tbody>\n",
       "    <tr>\n",
       "      <th>0-query</th>\n",
       "      <td>-53.882748</td>\n",
       "      <td>17.971436</td>\n",
       "      <td>-42.117104</td>\n",
       "      <td>-183.936676</td>\n",
       "      <td>187.517487</td>\n",
       "      <td>-87.144928</td>\n",
       "      <td>-347.360596</td>\n",
       "      <td>38.307602</td>\n",
       "      <td>109.085564</td>\n",
       "      <td>30.413513</td>\n",
       "      <td>...</td>\n",
       "      <td>-105.427818</td>\n",
       "      <td>70.107361</td>\n",
       "      <td>-155.802567</td>\n",
       "      <td>-101.965942</td>\n",
       "      <td>65.903793</td>\n",
       "      <td>34.457500</td>\n",
       "      <td>62.642094</td>\n",
       "      <td>134.763596</td>\n",
       "      <td>-25.958572</td>\n",
       "      <td>675816-base</td>\n",
       "    </tr>\n",
       "    <tr>\n",
       "      <th>1-query</th>\n",
       "      <td>-87.776367</td>\n",
       "      <td>6.806268</td>\n",
       "      <td>-32.054546</td>\n",
       "      <td>-177.260391</td>\n",
       "      <td>120.803329</td>\n",
       "      <td>-83.810593</td>\n",
       "      <td>-94.572746</td>\n",
       "      <td>-78.433090</td>\n",
       "      <td>124.915901</td>\n",
       "      <td>140.331070</td>\n",
       "      <td>...</td>\n",
       "      <td>-40.812233</td>\n",
       "      <td>4.669178</td>\n",
       "      <td>-151.697708</td>\n",
       "      <td>-1.638704</td>\n",
       "      <td>68.170876</td>\n",
       "      <td>25.096191</td>\n",
       "      <td>89.974976</td>\n",
       "      <td>130.589630</td>\n",
       "      <td>-51.276833</td>\n",
       "      <td>366656-base</td>\n",
       "    </tr>\n",
       "    <tr>\n",
       "      <th>2-query</th>\n",
       "      <td>-49.979565</td>\n",
       "      <td>3.841486</td>\n",
       "      <td>-116.118591</td>\n",
       "      <td>-180.401978</td>\n",
       "      <td>190.128433</td>\n",
       "      <td>-50.837620</td>\n",
       "      <td>26.943937</td>\n",
       "      <td>-30.447489</td>\n",
       "      <td>125.771164</td>\n",
       "      <td>211.607819</td>\n",
       "      <td>...</td>\n",
       "      <td>-52.031662</td>\n",
       "      <td>78.039764</td>\n",
       "      <td>-169.146194</td>\n",
       "      <td>82.144188</td>\n",
       "      <td>66.008217</td>\n",
       "      <td>18.400496</td>\n",
       "      <td>212.409729</td>\n",
       "      <td>121.931473</td>\n",
       "      <td>-22.547178</td>\n",
       "      <td>1447819-base</td>\n",
       "    </tr>\n",
       "    <tr>\n",
       "      <th>3-query</th>\n",
       "      <td>-47.810562</td>\n",
       "      <td>9.086598</td>\n",
       "      <td>-115.401695</td>\n",
       "      <td>-121.011360</td>\n",
       "      <td>94.652840</td>\n",
       "      <td>-109.255409</td>\n",
       "      <td>-775.150146</td>\n",
       "      <td>79.186523</td>\n",
       "      <td>124.003098</td>\n",
       "      <td>242.650650</td>\n",
       "      <td>...</td>\n",
       "      <td>-61.567047</td>\n",
       "      <td>44.515266</td>\n",
       "      <td>-145.416748</td>\n",
       "      <td>93.990982</td>\n",
       "      <td>64.131348</td>\n",
       "      <td>106.061920</td>\n",
       "      <td>83.178757</td>\n",
       "      <td>118.277725</td>\n",
       "      <td>-19.902788</td>\n",
       "      <td>1472602-base</td>\n",
       "    </tr>\n",
       "    <tr>\n",
       "      <th>4-query</th>\n",
       "      <td>-79.632126</td>\n",
       "      <td>14.442886</td>\n",
       "      <td>-58.903397</td>\n",
       "      <td>-147.052536</td>\n",
       "      <td>57.127068</td>\n",
       "      <td>-16.239529</td>\n",
       "      <td>-321.317963</td>\n",
       "      <td>45.984676</td>\n",
       "      <td>125.941284</td>\n",
       "      <td>103.392670</td>\n",
       "      <td>...</td>\n",
       "      <td>-68.770599</td>\n",
       "      <td>45.028912</td>\n",
       "      <td>-196.092072</td>\n",
       "      <td>-117.626335</td>\n",
       "      <td>66.926224</td>\n",
       "      <td>42.456169</td>\n",
       "      <td>77.621765</td>\n",
       "      <td>92.479927</td>\n",
       "      <td>-21.149351</td>\n",
       "      <td>717819-base</td>\n",
       "    </tr>\n",
       "  </tbody>\n",
       "</table>\n",
       "<p>5 rows × 70 columns</p>\n",
       "</div>"
      ],
      "text/plain": [
       "                 0          1           2           3           4           5  \\\n",
       "Id                                                                              \n",
       "0-query -53.882748  17.971436  -42.117104 -183.936676  187.517487  -87.144928   \n",
       "1-query -87.776367   6.806268  -32.054546 -177.260391  120.803329  -83.810593   \n",
       "2-query -49.979565   3.841486 -116.118591 -180.401978  190.128433  -50.837620   \n",
       "3-query -47.810562   9.086598 -115.401695 -121.011360   94.652840 -109.255409   \n",
       "4-query -79.632126  14.442886  -58.903397 -147.052536   57.127068  -16.239529   \n",
       "\n",
       "                  6          7           8           9  ...          62  \\\n",
       "Id                                                      ...               \n",
       "0-query -347.360596  38.307602  109.085564   30.413513  ... -105.427818   \n",
       "1-query  -94.572746 -78.433090  124.915901  140.331070  ...  -40.812233   \n",
       "2-query   26.943937 -30.447489  125.771164  211.607819  ...  -52.031662   \n",
       "3-query -775.150146  79.186523  124.003098  242.650650  ...  -61.567047   \n",
       "4-query -321.317963  45.984676  125.941284  103.392670  ...  -68.770599   \n",
       "\n",
       "                63          64          65         66          67          68  \\\n",
       "Id                                                                              \n",
       "0-query  70.107361 -155.802567 -101.965942  65.903793   34.457500   62.642094   \n",
       "1-query   4.669178 -151.697708   -1.638704  68.170876   25.096191   89.974976   \n",
       "2-query  78.039764 -169.146194   82.144188  66.008217   18.400496  212.409729   \n",
       "3-query  44.515266 -145.416748   93.990982  64.131348  106.061920   83.178757   \n",
       "4-query  45.028912 -196.092072 -117.626335  66.926224   42.456169   77.621765   \n",
       "\n",
       "                 69         71        Target  \n",
       "Id                                            \n",
       "0-query  134.763596 -25.958572   675816-base  \n",
       "1-query  130.589630 -51.276833   366656-base  \n",
       "2-query  121.931473 -22.547178  1447819-base  \n",
       "3-query  118.277725 -19.902788  1472602-base  \n",
       "4-query   92.479927 -21.149351   717819-base  \n",
       "\n",
       "[5 rows x 70 columns]"
      ]
     },
     "execution_count": 5,
     "metadata": {},
     "output_type": "execute_result"
    }
   ],
   "source": [
    "df_train = pd.read_parquet(\"../tmp/cleared_df_train.parquet\")\n",
    "df_train.head()"
   ]
  },
  {
   "cell_type": "code",
   "execution_count": null,
   "metadata": {},
   "outputs": [],
   "source": [
    "dims = df_base.shape[1]\n",
    "n_cells = 50\n",
    "# how many cells\n",
    "quantizer = faiss.IndexFlatL2(dims)\n",
    "idx_l2 = faiss.IndexIVFFlat(quantizer, dims, n_cells)\n",
    "\n",
    "idx_l2.train(np.ascontiguousarray(df_base.values).astype('float32'))\n",
    "idx_l2.add(np.ascontiguousarray(df_base.values).astype('float32'))\n",
    "\n",
    "base_index = {k: v for k, v in enumerate(df_base.index.to_list())}\n",
    "#del df_base\n",
    "\n",
    "headon_solution_df_train = df_train.copy()\n",
    "targets = headon_solution_df_train[\"Target\"]\n",
    "headon_solution_df_train.drop(\"Target\", axis=1, inplace=True)\n",
    "\n",
    "# %%time\n",
    "k=5\n",
    "vecs, idx = idx_l2.search(np.ascontiguousarray(headon_solution_df_train.values).astype('float32'), k)\n",
    "\n",
    "acc = 0\n",
    "for target, el in zip(targets.values.tolist(), idx.tolist()):\n",
    "    acc += int(target in [base_index[r] for r in el])\n",
    "\n",
    "print(100 * acc / len(idx))"
   ]
  },
  {
   "cell_type": "markdown",
   "metadata": {},
   "source": [
    "### Вывод\n",
    "Решение в лоб - 5.575 попугаев.\n",
    "Очень низкая оценка."
   ]
  },
  {
   "cell_type": "markdown",
   "metadata": {},
   "source": [
    "## Scalers"
   ]
  },
  {
   "cell_type": "markdown",
   "metadata": {},
   "source": [
    "### StandardScaler"
   ]
  },
  {
   "cell_type": "code",
   "execution_count": 11,
   "metadata": {},
   "outputs": [],
   "source": [
    "def checkStandardScaler(base, train):\n",
    "    scaler = StandardScaler()\n",
    "    scaler.fit(base)\n",
    "\n",
    "    tbase = scaler.transform(base)\n",
    "    tbase = pd.DataFrame(tbase, columns=base.columns)\n",
    "    tbase[\"Id\"] = base.index\n",
    "    tbase = tbase.set_index([\"Id\"])\n",
    "    \n",
    "    ttrain = scaler.transform(train[base.columns])\n",
    "\n",
    "    ttrain = pd.DataFrame(ttrain, columns=base.columns)\n",
    "    ttrain[\"Id\"] = train.index\n",
    "    ttrain = ttrain.set_index([\"Id\"])\n",
    "    ttrain[\"Target\"] = train[\"Target\"]\n",
    "\n",
    "    return tbase, ttrain, scaler"
   ]
  },
  {
   "cell_type": "code",
   "execution_count": 12,
   "metadata": {},
   "outputs": [],
   "source": [
    "sscaler_base, sscaler_train, _ = checkStandardScaler(df_base, df_train)"
   ]
  },
  {
   "cell_type": "code",
   "execution_count": 13,
   "metadata": {},
   "outputs": [],
   "source": [
    "def buildA5Score(df_base, df_train, short=True):\n",
    "    dims = df_base.shape[1]\n",
    "    n_cells = 50\n",
    "    # how many cells\n",
    "    quantizer = faiss.IndexFlatL2(dims)\n",
    "    idx_l2 = faiss.IndexIVFFlat(quantizer, dims, n_cells)\n",
    "    idx_l2.train(np.ascontiguousarray(df_base.values).astype('float32'))\n",
    "    idx_l2.add(np.ascontiguousarray(df_base.values).astype('float32'))\n",
    "    \n",
    "    base_index = {k: v for k, v in enumerate(df_base.index.to_list())}\n",
    "    #del df_base\n",
    "    \n",
    "    headon_solution_df_train = df_train.copy()\n",
    "    targets = headon_solution_df_train[\"Target\"]\n",
    "    headon_solution_df_train.drop(\"Target\", axis=1, inplace=True)\n",
    "\n",
    "    k=50\n",
    "    vecs, idx = idx_l2.search(np.ascontiguousarray(headon_solution_df_train.values).astype('float32'), k)\n",
    "    \n",
    "    acc = 0\n",
    "    for target, el in zip(targets.values.tolist(), idx.tolist()):\n",
    "        acc += int(target in [base_index[r] for r in el])\n",
    "    \n",
    "    return 100 * acc / len(idx)"
   ]
  },
  {
   "cell_type": "code",
   "execution_count": 14,
   "metadata": {},
   "outputs": [
    {
     "name": "stdout",
     "output_type": "stream",
     "text": [
      "A@5 Score on Standard Scaler : 64.654\n",
      "CPU times: total: 11min 36s\n",
      "Wall time: 33.9 s\n"
     ]
    }
   ],
   "source": [
    "%%time\n",
    "print(\"A@5 Score on Standard Scaler :\", buildA5Score(sscaler_base, sscaler_train))"
   ]
  },
  {
   "cell_type": "markdown",
   "metadata": {},
   "source": [
    "### RobustScaler"
   ]
  },
  {
   "cell_type": "code",
   "execution_count": 15,
   "metadata": {},
   "outputs": [],
   "source": [
    "def checkRobustScaler(base, train):\n",
    "    scaler = RobustScaler()\n",
    "    scaler.fit(base)\n",
    "\n",
    "    tbase = scaler.transform(base)\n",
    "    tbase = pd.DataFrame(tbase, columns=base.columns)\n",
    "    tbase[\"Id\"] = base.index\n",
    "    tbase = tbase.set_index([\"Id\"])\n",
    "    \n",
    "    ttrain = scaler.transform(train[base.columns])\n",
    "\n",
    "    ttrain = pd.DataFrame(ttrain, columns=base.columns)\n",
    "    ttrain[\"Id\"] = train.index\n",
    "    ttrain = ttrain.set_index([\"Id\"])\n",
    "    ttrain[\"Target\"] = train[\"Target\"]\n",
    "\n",
    "    return tbase, ttrain, scaler"
   ]
  },
  {
   "cell_type": "code",
   "execution_count": 16,
   "metadata": {},
   "outputs": [],
   "source": [
    "rscaler_base, rscaler_train, _ = checkRobustScaler(df_base, df_train)"
   ]
  },
  {
   "cell_type": "code",
   "execution_count": 17,
   "metadata": {},
   "outputs": [
    {
     "name": "stdout",
     "output_type": "stream",
     "text": [
      "A@5 Score on Robust Scaler : 66.507\n",
      "CPU times: total: 11min 55s\n",
      "Wall time: 34.6 s\n"
     ]
    }
   ],
   "source": [
    "%%time\n",
    "print(\"A@5 Score on Robust Scaler :\", buildA5Score(rscaler_base, rscaler_train))"
   ]
  },
  {
   "cell_type": "markdown",
   "metadata": {},
   "source": [
    "### MinMaxScaler"
   ]
  },
  {
   "cell_type": "code",
   "execution_count": 18,
   "metadata": {},
   "outputs": [],
   "source": [
    "def checkMinMaxScaler(base, train):\n",
    "    scaler = MinMaxScaler()\n",
    "    scaler.fit(base)\n",
    "\n",
    "    tbase = scaler.transform(base)\n",
    "    tbase = pd.DataFrame(tbase, columns=base.columns)\n",
    "    tbase[\"Id\"] = base.index\n",
    "    tbase = tbase.set_index([\"Id\"])\n",
    "    \n",
    "    ttrain = scaler.transform(train[base.columns])\n",
    "\n",
    "    ttrain = pd.DataFrame(ttrain, columns=base.columns)\n",
    "    ttrain[\"Id\"] = train.index\n",
    "    ttrain = ttrain.set_index([\"Id\"])\n",
    "    ttrain[\"Target\"] = train[\"Target\"]\n",
    "\n",
    "    return tbase, ttrain, scaler"
   ]
  },
  {
   "cell_type": "code",
   "execution_count": 19,
   "metadata": {},
   "outputs": [],
   "source": [
    "mmscaler_base, mmscaler_train, _ = checkMinMaxScaler(df_base, df_train)"
   ]
  },
  {
   "cell_type": "code",
   "execution_count": 20,
   "metadata": {},
   "outputs": [
    {
     "name": "stdout",
     "output_type": "stream",
     "text": [
      "A@5 Score on Min Max Scaler : 10.776\n",
      "CPU times: total: 11min 52s\n",
      "Wall time: 34.5 s\n"
     ]
    }
   ],
   "source": [
    "%%time\n",
    "print(\"A@5 Score on Min Max Scaler :\", buildA5Score(mmscaler_base, mmscaler_train))"
   ]
  },
  {
   "cell_type": "markdown",
   "metadata": {},
   "source": [
    "### Normalizer"
   ]
  },
  {
   "cell_type": "code",
   "execution_count": 21,
   "metadata": {},
   "outputs": [],
   "source": [
    "def checkNormalizer(base, train):\n",
    "    scaler = Normalizer()\n",
    "    scaler.fit(base)\n",
    "\n",
    "    tbase = scaler.transform(base)\n",
    "    tbase = pd.DataFrame(tbase, columns=base.columns)\n",
    "    tbase[\"Id\"] = base.index\n",
    "    tbase = tbase.set_index([\"Id\"])\n",
    "    \n",
    "    ttrain = scaler.transform(train[base.columns])\n",
    "\n",
    "    ttrain = pd.DataFrame(ttrain, columns=base.columns)\n",
    "    ttrain[\"Id\"] = train.index\n",
    "    ttrain = ttrain.set_index([\"Id\"])\n",
    "    ttrain[\"Target\"] = train[\"Target\"]\n",
    "\n",
    "    return tbase, ttrain, scaler"
   ]
  },
  {
   "cell_type": "code",
   "execution_count": 22,
   "metadata": {},
   "outputs": [],
   "source": [
    "normscaler_base, normscaler_train, _ = checkNormalizer(df_base, df_train)"
   ]
  },
  {
   "cell_type": "code",
   "execution_count": 23,
   "metadata": {},
   "outputs": [
    {
     "name": "stdout",
     "output_type": "stream",
     "text": [
      "A@5 Score on Normalizer : 6.554\n",
      "CPU times: total: 11min 2s\n",
      "Wall time: 32.3 s\n"
     ]
    }
   ],
   "source": [
    "%%time\n",
    "print(\"A@5 Score on Normalizer :\", buildA5Score(normscaler_base, normscaler_train))"
   ]
  },
  {
   "cell_type": "markdown",
   "metadata": {},
   "source": [
    "### MaxAbsScaler"
   ]
  },
  {
   "cell_type": "code",
   "execution_count": 24,
   "metadata": {},
   "outputs": [],
   "source": [
    "def checkMaxAbsScaler(base, train):\n",
    "    scaler = MaxAbsScaler()\n",
    "    scaler.fit(base)\n",
    "\n",
    "    tbase = scaler.transform(base)\n",
    "    tbase = pd.DataFrame(tbase, columns=base.columns)\n",
    "    tbase[\"Id\"] = base.index\n",
    "    tbase = tbase.set_index([\"Id\"])\n",
    "    \n",
    "    ttrain = scaler.transform(train[base.columns])\n",
    "\n",
    "    ttrain = pd.DataFrame(ttrain, columns=base.columns)\n",
    "    ttrain[\"Id\"] = train.index\n",
    "    ttrain = ttrain.set_index([\"Id\"])\n",
    "    ttrain[\"Target\"] = train[\"Target\"]\n",
    "\n",
    "    return tbase, ttrain, scaler"
   ]
  },
  {
   "cell_type": "code",
   "execution_count": 25,
   "metadata": {},
   "outputs": [],
   "source": [
    "maxAbsscaler_base, maxAbsscaler_train, _ = checkMaxAbsScaler(df_base, df_train)"
   ]
  },
  {
   "cell_type": "code",
   "execution_count": 26,
   "metadata": {},
   "outputs": [
    {
     "name": "stdout",
     "output_type": "stream",
     "text": [
      "A@5 Score on Max Abs Scaler : 15.184\n",
      "CPU times: total: 12min 17s\n",
      "Wall time: 35.7 s\n"
     ]
    }
   ],
   "source": [
    "%%time\n",
    "print(\"A@5 Score on Max Abs Scaler :\", buildA5Score(maxAbsscaler_base, maxAbsscaler_train))"
   ]
  },
  {
   "cell_type": "markdown",
   "metadata": {},
   "source": [
    "## FIASS Tuning"
   ]
  },
  {
   "cell_type": "code",
   "execution_count": 27,
   "metadata": {},
   "outputs": [],
   "source": [
    "def buildA5ScoreV2(df_base, df_train, short=True, k_value=50):\n",
    "    dims = df_base.shape[1]\n",
    "    n_cells = 100\n",
    "    # how many cells\n",
    "    #quantizer = faiss.IndexHNSWFlat(dims)\n",
    "    #idx_l2 = faiss.IndexIVFFlat(quantizer, dims, n_cells)\n",
    "    idx_l2 = faiss.IndexLSH(dims, 1024)\n",
    "    if short:\n",
    "        idx_l2.train(np.ascontiguousarray(df_base[:50000].values).astype('float32'))\n",
    "        idx_l2.add(np.ascontiguousarray(df_base[:50000].values).astype('float32'))\n",
    "    else:\n",
    "        idx_l2.train(np.ascontiguousarray(df_base.values).astype('float32'))\n",
    "        idx_l2.add(np.ascontiguousarray(df_base.values).astype('float32'))\n",
    "    \n",
    "    base_index = {k: v for k, v in enumerate(df_base.index.to_list())}\n",
    "    #del df_base\n",
    "    \n",
    "    headon_solution_df_train = df_train.copy()\n",
    "    targets = headon_solution_df_train[\"Target\"]\n",
    "    headon_solution_df_train.drop(\"Target\", axis=1, inplace=True)\n",
    "\n",
    "    k=k_value\n",
    "    vecs, idx = idx_l2.search(np.ascontiguousarray(headon_solution_df_train.values).astype('float32'), k)\n",
    "    \n",
    "    acc = 0\n",
    "    for target, el in zip(targets.values.tolist(), idx.tolist()):\n",
    "        acc += int(target in [base_index[r] for r in el])\n",
    "    \n",
    "    return 100 * acc / len(idx)"
   ]
  },
  {
   "cell_type": "code",
   "execution_count": 28,
   "metadata": {},
   "outputs": [],
   "source": [
    "rscaler_base, rscaler_train, _ = checkRobustScaler(df_base, df_train)"
   ]
  },
  {
   "cell_type": "code",
   "execution_count": 29,
   "metadata": {},
   "outputs": [
    {
     "name": "stdout",
     "output_type": "stream",
     "text": [
      "A@5 Score on Robust Scaler V2: 5.185\n",
      "CPU times: total: 58.6 s\n",
      "Wall time: 3.38 s\n"
     ]
    }
   ],
   "source": [
    "%%time\n",
    "print(\"A@5 Score on Robust Scaler V2:\", buildA5ScoreV2(rscaler_base, rscaler_train))"
   ]
  },
  {
   "cell_type": "markdown",
   "metadata": {},
   "source": [
    "### IndexHNSWFlat"
   ]
  },
  {
   "cell_type": "code",
   "execution_count": null,
   "metadata": {},
   "outputs": [],
   "source": []
  },
  {
   "cell_type": "code",
   "execution_count": 30,
   "metadata": {},
   "outputs": [],
   "source": [
    "def buildA5ScoreV3(df_base, df_train):\n",
    "    dims = df_base.shape[1]\n",
    "    n_cells = 100\n",
    "    # how many cells\n",
    "    #quantizer = faiss.IndexFlatL2(dims)\n",
    "    #idx_l2 = faiss.IndexIVFFlat(quantizer, dims, n_cells)\n",
    "    #idx_l2 = faiss.IndexLSH(dims, 1024)\n",
    "    #M = 2\n",
    "    #d2 = int((dims + M - 1) / M) * M\n",
    "    #q = faiss.IndexPQ (d2, M, 4)\n",
    "    #index_pq = faiss.IndexRefineFlat(q)\n",
    "    #remapper = faiss.RemapDimensionsTransform (dims, d2, True)\n",
    "    #idx_l2 = faiss.IndexPreTransform (remapper, index_pq)\n",
    "    idx_l2 = faiss.index_factory(dims, \"OPQ16_64,IMI2x8,PQ8+16\")\n",
    "    \n",
    "    idx_l2.train(np.ascontiguousarray(df_base[:50000].values).astype('float32'))\n",
    "    idx_l2.add(np.ascontiguousarray(df_base[:50000].values).astype('float32'))\n",
    "    \n",
    "    base_index = {k: v for k, v in enumerate(df_base.index.to_list())}\n",
    "    #del df_base\n",
    "    \n",
    "    headon_solution_df_train = df_train.copy()\n",
    "    targets = headon_solution_df_train[\"Target\"]\n",
    "    headon_solution_df_train.drop(\"Target\", axis=1, inplace=True)\n",
    "\n",
    "    k=250\n",
    "    vecs, idx = idx_l2.search(np.ascontiguousarray(headon_solution_df_train.values).astype('float32'), k)\n",
    "    acc = 0\n",
    "    for target, el in zip(targets.values.tolist(), idx.tolist()):\n",
    "        acc += int(target in [base_index[r] if r in base_index else 0 for r in el])\n",
    "    \n",
    "    return 100 * acc / len(idx)\n",
    "\n"
   ]
  },
  {
   "cell_type": "code",
   "execution_count": 31,
   "metadata": {},
   "outputs": [
    {
     "name": "stdout",
     "output_type": "stream",
     "text": [
      "A@5 Score on Robust Scaler V3: 3.653\n",
      "CPU times: total: 19min 9s\n",
      "Wall time: 51.4 s\n"
     ]
    }
   ],
   "source": [
    "%%time\n",
    "print(\"A@5 Score on Robust Scaler V3:\", buildA5ScoreV3(rscaler_base, rscaler_train))"
   ]
  },
  {
   "cell_type": "code",
   "execution_count": 32,
   "metadata": {},
   "outputs": [],
   "source": [
    "def buildA5ScoreV4(df_base, df_train):\n",
    "    dims = df_base.shape[1]\n",
    "    n_cells = 100\n",
    "    # how many cells\n",
    "    quantizer = faiss.IndexFlatL2(dims)\n",
    "    idx_l2 = faiss.IndexIVFFlat(quantizer, dims, n_cells)\n",
    "\n",
    "    idx_l2.train(np.ascontiguousarray(df_base[:50000].values).astype('float32'))\n",
    "    idx_l2.add(np.ascontiguousarray(df_base[:50000].values).astype('float32'))\n",
    "    \n",
    "    base_index = {k: v for k, v in enumerate(df_base.index.to_list())}\n",
    "    #del df_base\n",
    "    \n",
    "    headon_solution_df_train = df_train.copy()\n",
    "    targets = headon_solution_df_train[\"Target\"]\n",
    "    headon_solution_df_train.drop(\"Target\", axis=1, inplace=True)\n",
    "\n",
    "    k=250\n",
    "    vecs, idx = idx_l2.search(np.ascontiguousarray(headon_solution_df_train.values).astype('float32'), k)\n",
    "    acc = 0\n",
    "    for target, el in zip(targets.values.tolist(), idx.tolist()):\n",
    "        acc += int(target in [base_index[r] if r in base_index else 0 for r in el])\n",
    "    \n",
    "    return 100 * acc / len(idx)\n",
    "    "
   ]
  },
  {
   "cell_type": "code",
   "execution_count": null,
   "metadata": {},
   "outputs": [],
   "source": []
  },
  {
   "cell_type": "code",
   "execution_count": 33,
   "metadata": {},
   "outputs": [
    {
     "name": "stdout",
     "output_type": "stream",
     "text": [
      "A@5 Score on Robust Scaler V3: 4.368\n",
      "CPU times: total: 12.4 s\n",
      "Wall time: 3.01 s\n"
     ]
    }
   ],
   "source": [
    "%%time\n",
    "print(\"A@5 Score on Robust Scaler V3:\", buildA5ScoreV4(rscaler_base, rscaler_train))"
   ]
  },
  {
   "cell_type": "code",
   "execution_count": 34,
   "metadata": {},
   "outputs": [],
   "source": [
    "def buildA5ScoreV5(df_base, df_train):\n",
    "    dims = df_base.shape[1]\n",
    "    n_cells = 100\n",
    "    # how many cells\n",
    "    idx_l2 = faiss.index_factory(dims, \"IVF69,SQ8\")\n",
    "\n",
    "    idx_l2.train(np.ascontiguousarray(df_base[:50000].values).astype('float32'))\n",
    "    idx_l2.add(np.ascontiguousarray(df_base[:50000].values).astype('float32'))\n",
    "    \n",
    "    base_index = {k: v for k, v in enumerate(df_base.index.to_list())}\n",
    "    #del df_base\n",
    "    \n",
    "    headon_solution_df_train = df_train.copy()\n",
    "    targets = headon_solution_df_train[\"Target\"]\n",
    "    headon_solution_df_train.drop(\"Target\", axis=1, inplace=True)\n",
    "\n",
    "    k=250\n",
    "    vecs, idx = idx_l2.search(np.ascontiguousarray(headon_solution_df_train.values).astype('float32'), k)\n",
    "    acc = 0\n",
    "    for target, el in zip(targets.values.tolist(), idx.tolist()):\n",
    "        acc += int(target in [base_index[r] if r in base_index else 0 for r in el])\n",
    "    \n",
    "    return 100 * acc / len(idx)\n",
    "    "
   ]
  },
  {
   "cell_type": "code",
   "execution_count": 35,
   "metadata": {},
   "outputs": [
    {
     "name": "stdout",
     "output_type": "stream",
     "text": [
      "A@5 Score on Robust Scaler V3: 4.377\n",
      "CPU times: total: 20.2 s\n",
      "Wall time: 3.37 s\n"
     ]
    }
   ],
   "source": [
    "%%time\n",
    "print(\"A@5 Score on Robust Scaler V3:\", buildA5ScoreV5(rscaler_base, rscaler_train))"
   ]
  },
  {
   "cell_type": "markdown",
   "metadata": {},
   "source": [
    "## Feature checking"
   ]
  },
  {
   "cell_type": "code",
   "execution_count": 36,
   "metadata": {},
   "outputs": [],
   "source": [
    "extra_columns = []"
   ]
  },
  {
   "cell_type": "code",
   "execution_count": 37,
   "metadata": {},
   "outputs": [
    {
     "name": "stdout",
     "output_type": "stream",
     "text": [
      "A@5 without 0: 5.177\n",
      "A@5 without 1: 5.173\n",
      "A@5 without 2: 5.164\n",
      "A@5 without 3: 5.174\n",
      "A@5 without 4: 5.171\n",
      "A@5 without 5: 5.17\n",
      "A@5 without 6: 5.169\n",
      "A@5 without 7: 5.177\n",
      "A@5 without 8: 5.177\n",
      "A@5 without 9: 5.18\n",
      "A@5 without 10: 5.177\n",
      "A@5 without 11: 5.174\n",
      "A@5 without 12: 5.175\n",
      "A@5 without 13: 5.178\n",
      "A@5 without 14: 5.177\n",
      "A@5 without 15: 5.173\n",
      "A@5 without 16: 5.174\n",
      "A@5 without 17: 5.178\n",
      "A@5 without 18: 5.178\n",
      "A@5 without 19: 5.179\n",
      "A@5 without 20: 5.177\n",
      "A@5 without 22: 5.167\n",
      "A@5 without 23: 5.173\n",
      "A@5 without 24: 5.174\n",
      "A@5 without 26: 5.176\n",
      "A@5 without 27: 5.173\n",
      "A@5 without 28: 5.171\n",
      "A@5 without 29: 5.171\n",
      "A@5 without 30: 5.168\n",
      "A@5 without 31: 5.176\n",
      "A@5 without 32: 5.178\n",
      "A@5 without 33: 5.173\n",
      "A@5 without 34: 5.176\n",
      "A@5 without 35: 5.175\n",
      "A@5 without 36: 5.171\n",
      "A@5 without 37: 5.174\n",
      "A@5 without 38: 5.177\n",
      "A@5 without 39: 5.174\n",
      "A@5 without 40: 5.17\n",
      "A@5 without 41: 5.179\n",
      "A@5 without 42: 5.175\n",
      "A@5 without 43: 5.169\n",
      "A@5 without 44: 5.167\n",
      "A@5 without 45: 5.161\n",
      "A@5 without 46: 5.166\n",
      "A@5 without 47: 5.174\n",
      "A@5 without 48: 5.173\n",
      "A@5 without 49: 5.185\n",
      "A@5 without 50: 5.174\n",
      "A@5 without 51: 5.177\n",
      "A@5 without 52: 5.177\n",
      "A@5 without 53: 5.181\n",
      "A@5 without 54: 5.176\n",
      "A@5 without 55: 5.189\n",
      "A@5 without 56: 5.186\n",
      "A@5 without 57: 5.191\n",
      "A@5 without 58: 5.178\n",
      "A@5 without 59: 5.185\n",
      "A@5 without 60: 5.181\n",
      "A@5 without 61: 5.187\n",
      "A@5 without 62: 5.173\n",
      "A@5 without 63: 5.183\n",
      "A@5 without 64: 5.184\n",
      "A@5 without 65: 5.187\n",
      "A@5 without 66: 5.178\n",
      "A@5 without 67: 5.183\n",
      "A@5 without 68: 5.179\n",
      "A@5 without 69: 5.179\n",
      "A@5 without 71: 5.175\n",
      "CPU times: total: 1h 7min 7s\n",
      "Wall time: 3min 55s\n"
     ]
    }
   ],
   "source": [
    "%%time\n",
    "max_score = 0;\n",
    "max_score_field = \"\";\n",
    "\n",
    "original_column_list = rscaler_base.columns.copy().to_list()\n",
    "for i in original_column_list:\n",
    "    temp_columns = original_column_list.copy()\n",
    "    temp_columns.remove(i)\n",
    "    train_columns = temp_columns.copy()\n",
    "    train_columns.append(\"Target\")\n",
    "    score = buildA5ScoreV2(rscaler_base[temp_columns], rscaler_train[train_columns])\n",
    "    print(f\"A@5 without {i}:\", score)\n",
    "    if score > max_score:\n",
    "        max_score = score\n",
    "        max_score_field = i"
   ]
  },
  {
   "cell_type": "code",
   "execution_count": 38,
   "metadata": {},
   "outputs": [
    {
     "name": "stdout",
     "output_type": "stream",
     "text": [
      "Max score on 5.191, 57\n"
     ]
    }
   ],
   "source": [
    "extra_columns.append(max_score_field)\n",
    "print(f\"Max score on {max_score}, {max_score_field}\")"
   ]
  },
  {
   "cell_type": "code",
   "execution_count": 39,
   "metadata": {},
   "outputs": [
    {
     "name": "stdout",
     "output_type": "stream",
     "text": [
      "A@5 without 0: 5.178\n",
      "A@5 without 1: 5.175\n",
      "A@5 without 2: 5.168\n",
      "A@5 without 3: 5.176\n",
      "A@5 without 4: 5.172\n",
      "A@5 without 5: 5.178\n",
      "A@5 without 6: 5.168\n",
      "A@5 without 7: 5.18\n",
      "A@5 without 8: 5.171\n",
      "A@5 without 9: 5.176\n",
      "A@5 without 10: 5.168\n",
      "A@5 without 11: 5.17\n",
      "A@5 without 12: 5.167\n",
      "A@5 without 13: 5.167\n",
      "A@5 without 14: 5.169\n",
      "A@5 without 15: 5.172\n",
      "A@5 without 16: 5.176\n",
      "A@5 without 17: 5.181\n",
      "A@5 without 18: 5.18\n",
      "A@5 without 19: 5.18\n",
      "A@5 without 20: 5.186\n",
      "A@5 without 22: 5.18\n",
      "A@5 without 23: 5.179\n",
      "A@5 without 24: 5.188\n",
      "A@5 without 26: 5.188\n",
      "A@5 without 27: 5.182\n",
      "A@5 without 28: 5.179\n",
      "A@5 without 29: 5.182\n",
      "A@5 without 30: 5.175\n",
      "A@5 without 31: 5.173\n",
      "A@5 without 32: 5.177\n",
      "A@5 without 33: 5.185\n",
      "A@5 without 34: 5.18\n",
      "A@5 without 35: 5.18\n",
      "A@5 without 36: 5.174\n",
      "A@5 without 37: 5.169\n",
      "A@5 without 38: 5.177\n",
      "A@5 without 39: 5.175\n",
      "A@5 without 40: 5.165\n",
      "A@5 without 41: 5.173\n",
      "A@5 without 42: 5.176\n",
      "A@5 without 43: 5.17\n",
      "A@5 without 44: 5.172\n",
      "A@5 without 45: 5.173\n",
      "A@5 without 46: 5.176\n",
      "A@5 without 47: 5.175\n",
      "A@5 without 48: 5.169\n",
      "A@5 without 49: 5.171\n",
      "A@5 without 50: 5.169\n",
      "A@5 without 51: 5.174\n",
      "A@5 without 52: 5.178\n",
      "A@5 without 53: 5.171\n",
      "A@5 without 54: 5.185\n",
      "A@5 without 55: 5.18\n",
      "A@5 without 56: 5.178\n",
      "A@5 without 58: 5.176\n",
      "A@5 without 59: 5.188\n",
      "A@5 without 60: 5.182\n",
      "A@5 without 61: 5.18\n",
      "A@5 without 62: 5.171\n",
      "A@5 without 63: 5.178\n",
      "A@5 without 64: 5.17\n",
      "A@5 without 65: 5.188\n",
      "A@5 without 66: 5.168\n",
      "A@5 without 67: 5.167\n",
      "A@5 without 68: 5.179\n",
      "A@5 without 69: 5.182\n",
      "A@5 without 71: 5.184\n",
      "CPU times: total: 1h 6min 3s\n",
      "Wall time: 3min 51s\n"
     ]
    }
   ],
   "source": [
    "%%time\n",
    "max_score = 0;\n",
    "max_score_field = \"\";\n",
    "\n",
    "original_column_list = rscaler_base.columns.copy().to_list()\n",
    "for i in original_column_list:\n",
    "    if i not in extra_columns:\n",
    "        temp_columns = original_column_list.copy()\n",
    "        temp_columns.remove(i)\n",
    "\n",
    "        for k in extra_columns:\n",
    "            if k in temp_columns:\n",
    "                temp_columns.remove(k)\n",
    "\n",
    "        \n",
    "        train_columns = temp_columns.copy()\n",
    "        train_columns.append(\"Target\")\n",
    "        score = buildA5ScoreV2(rscaler_base[temp_columns], rscaler_train[train_columns])\n",
    "        print(f\"A@5 without {i}:\", score)\n",
    "    if score > max_score:\n",
    "        max_score = score\n",
    "        max_score_field = i"
   ]
  },
  {
   "cell_type": "code",
   "execution_count": 40,
   "metadata": {},
   "outputs": [],
   "source": [
    "extra_columns.append(\"34\")\n",
    "extra_columns.append(\"35\")\n",
    "extra_columns.append(\"18\")\n",
    "extra_columns.append(\"19\")"
   ]
  },
  {
   "cell_type": "code",
   "execution_count": 41,
   "metadata": {},
   "outputs": [
    {
     "data": {
      "text/plain": [
       "['57', '34', '35', '18', '19']"
      ]
     },
     "execution_count": 41,
     "metadata": {},
     "output_type": "execute_result"
    }
   ],
   "source": [
    "extra_columns"
   ]
  },
  {
   "cell_type": "code",
   "execution_count": 42,
   "metadata": {},
   "outputs": [
    {
     "name": "stdout",
     "output_type": "stream",
     "text": [
      "A@5 without 0: 5.169\n",
      "A@5 without 1: 5.165\n",
      "A@5 without 2: 5.161\n",
      "A@5 without 3: 5.165\n",
      "A@5 without 4: 5.154\n",
      "A@5 without 5: 5.165\n",
      "A@5 without 6: 5.144\n",
      "A@5 without 7: 5.156\n",
      "A@5 without 8: 5.165\n",
      "A@5 without 9: 5.173\n",
      "A@5 without 10: 5.169\n",
      "A@5 without 11: 5.164\n",
      "A@5 without 12: 5.17\n",
      "A@5 without 13: 5.168\n",
      "A@5 without 14: 5.176\n",
      "A@5 without 15: 5.169\n",
      "A@5 without 16: 5.169\n",
      "A@5 without 17: 5.166\n",
      "A@5 without 20: 5.164\n",
      "A@5 without 22: 5.166\n",
      "A@5 without 23: 5.171\n",
      "A@5 without 24: 5.176\n",
      "A@5 without 26: 5.169\n",
      "A@5 without 27: 5.166\n",
      "A@5 without 28: 5.163\n",
      "A@5 without 29: 5.16\n",
      "A@5 without 30: 5.162\n",
      "A@5 without 31: 5.168\n",
      "A@5 without 32: 5.175\n",
      "A@5 without 33: 5.175\n",
      "A@5 without 36: 5.167\n",
      "A@5 without 37: 5.166\n",
      "A@5 without 38: 5.159\n",
      "A@5 without 39: 5.155\n",
      "A@5 without 40: 5.159\n",
      "A@5 without 41: 5.161\n",
      "A@5 without 42: 5.168\n",
      "A@5 without 43: 5.171\n",
      "A@5 without 44: 5.165\n",
      "A@5 without 45: 5.176\n",
      "A@5 without 46: 5.168\n",
      "A@5 without 47: 5.172\n",
      "A@5 without 48: 5.17\n",
      "A@5 without 49: 5.171\n",
      "A@5 without 50: 5.17\n",
      "A@5 without 51: 5.175\n",
      "A@5 without 52: 5.168\n",
      "A@5 without 53: 5.169\n",
      "A@5 without 54: 5.169\n",
      "A@5 without 55: 5.165\n",
      "A@5 without 56: 5.167\n",
      "A@5 without 58: 5.163\n",
      "A@5 without 59: 5.173\n",
      "A@5 without 60: 5.166\n",
      "A@5 without 61: 5.169\n",
      "A@5 without 62: 5.171\n",
      "A@5 without 63: 5.172\n",
      "A@5 without 64: 5.173\n",
      "A@5 without 65: 5.175\n",
      "A@5 without 66: 5.174\n",
      "A@5 without 67: 5.167\n",
      "A@5 without 68: 5.17\n",
      "A@5 without 69: 5.166\n",
      "A@5 without 71: 5.17\n",
      "CPU times: total: 1h 2min 11s\n",
      "Wall time: 3min 38s\n"
     ]
    }
   ],
   "source": [
    "%%time\n",
    "max_score = 0;\n",
    "max_score_field = \"\";\n",
    "\n",
    "original_column_list = rscaler_base.columns.copy().to_list()\n",
    "\n",
    "\n",
    "for k in extra_columns:\n",
    "    if k in original_column_list:\n",
    "        original_column_list.remove(k)\n",
    "\n",
    "for i in original_column_list:\n",
    "    temp_columns = original_column_list.copy()\n",
    "    temp_columns.remove(i)\n",
    "\n",
    "    train_columns = temp_columns.copy()\n",
    "    train_columns.append(\"Target\")\n",
    "    score = buildA5ScoreV2(rscaler_base[temp_columns], rscaler_train[train_columns])\n",
    "    print(f\"A@5 without {i}:\", score)\n",
    "    if score > max_score:\n",
    "        max_score = score\n",
    "        max_score_field = i"
   ]
  },
  {
   "cell_type": "code",
   "execution_count": 43,
   "metadata": {},
   "outputs": [
    {
     "name": "stdout",
     "output_type": "stream",
     "text": [
      "A@5 without 71: 85.291\n",
      "CPU times: total: 50min 39s\n",
      "Wall time: 2min 45s\n"
     ]
    }
   ],
   "source": [
    "%%time\n",
    "original_column_list = rscaler_base.columns.copy().to_list()\n",
    "\n",
    "\n",
    "for k in extra_columns:\n",
    "    if k in original_column_list:\n",
    "        original_column_list.remove(k)\n",
    "\n",
    "train_columns = temp_columns.copy()\n",
    "train_columns.append(\"Target\")\n",
    "score = buildA5ScoreV2(rscaler_base[temp_columns], rscaler_train[train_columns], False, 1000)\n",
    "print(f\"A@5 without {i}:\", score)"
   ]
  },
  {
   "cell_type": "code",
   "execution_count": 44,
   "metadata": {},
   "outputs": [
    {
     "name": "stdout",
     "output_type": "stream",
     "text": [
      "A@5 original: 85.291\n",
      "CPU times: total: 51min 36s\n",
      "Wall time: 3min 3s\n"
     ]
    }
   ],
   "source": [
    "%%time\n",
    "original_column_list = rscaler_base.columns.copy().to_list()\n",
    "\n",
    "score_original = buildA5ScoreV2(rscaler_base, rscaler_train, False, 1500)\n",
    "print(f\"A@5 original:\", score)"
   ]
  }
 ],
 "metadata": {
  "kernelspec": {
   "display_name": "Python 3 (ipykernel)",
   "language": "python",
   "name": "python3"
  },
  "language_info": {
   "codemirror_mode": {
    "name": "ipython",
    "version": 3
   },
   "file_extension": ".py",
   "mimetype": "text/x-python",
   "name": "python",
   "nbconvert_exporter": "python",
   "pygments_lexer": "ipython3",
   "version": "3.9.18"
  },
  "widgets": {
   "application/vnd.jupyter.widget-state+json": {
    "state": {},
    "version_major": 2,
    "version_minor": 0
   }
  }
 },
 "nbformat": 4,
 "nbformat_minor": 4
}
