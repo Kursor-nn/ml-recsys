{
 "cells": [
  {
   "cell_type": "code",
   "execution_count": 2,
   "metadata": {
    "ExecuteTime": {
     "end_time": "2023-11-14T19:16:18.213021Z",
     "start_time": "2023-11-14T19:16:18.123746Z"
    }
   },
   "outputs": [
    {
     "name": "stdout",
     "output_type": "stream",
     "text": [
      "Hello, world\n"
     ]
    }
   ],
   "source": [
    "print(\"Hello, world\")"
   ]
  },
  {
   "cell_type": "code",
   "execution_count": 3,
   "metadata": {},
   "outputs": [
    {
     "name": "stdout",
     "output_type": "stream",
     "text": [
      "Requirement already satisfied: tqdm-multiprocess in d:\\anaconda3\\envs\\ds_practicum_env\\lib\\site-packages (0.0.11)\n",
      "Requirement already satisfied: tqdm in d:\\anaconda3\\envs\\ds_practicum_env\\lib\\site-packages (from tqdm-multiprocess) (4.66.1)\n",
      "Requirement already satisfied: colorama in d:\\anaconda3\\envs\\ds_practicum_env\\lib\\site-packages (from tqdm-multiprocess) (0.4.6)\n"
     ]
    },
    {
     "name": "stderr",
     "output_type": "stream",
     "text": [
      "WARNING: Ignoring invalid distribution -atplotlib (d:\\anaconda3\\envs\\ds_practicum_env\\lib\\site-packages)\n",
      "WARNING: Ignoring invalid distribution -illow (d:\\anaconda3\\envs\\ds_practicum_env\\lib\\site-packages)\n",
      "WARNING: Ignoring invalid distribution -atplotlib (d:\\anaconda3\\envs\\ds_practicum_env\\lib\\site-packages)\n",
      "WARNING: Ignoring invalid distribution -illow (d:\\anaconda3\\envs\\ds_practicum_env\\lib\\site-packages)\n"
     ]
    }
   ],
   "source": [
    "!pip install tqdm-multiprocess"
   ]
  },
  {
   "cell_type": "code",
   "execution_count": 4,
   "metadata": {
    "ExecuteTime": {
     "end_time": "2023-11-14T19:16:25.308624Z",
     "start_time": "2023-11-14T19:16:24.265148Z"
    },
    "collapsed": false,
    "jupyter": {
     "outputs_hidden": false
    }
   },
   "outputs": [],
   "source": [
    "import pandas as pd\n",
    "import numpy as np\n",
    "import faiss\n",
    "import time\n",
    "\n",
    "from tqdm.notebook import tqdm\n",
    "from tqdm import trange\n",
    "from sklearn.preprocessing import RobustScaler\n",
    "from sklearn.preprocessing import StandardScaler\n",
    "from sklearn.preprocessing import MinMaxScaler\n",
    "from sklearn.preprocessing import Normalizer\n",
    "from sklearn.preprocessing import MaxAbsScaler\n",
    "\n",
    "from sklearn.metrics.pairwise import additive_chi2_kernel\n",
    "from sklearn.metrics.pairwise import chi2_kernel\n",
    "from sklearn.metrics.pairwise import cosine_similarity\n",
    "from sklearn.metrics.pairwise import cosine_distances\n",
    "from sklearn.metrics.pairwise import euclidean_distances\n",
    "from sklearn.metrics.pairwise import haversine_distances\n",
    "from sklearn.metrics.pairwise import laplacian_kernel\n",
    "from sklearn.metrics.pairwise import linear_kernel\n",
    "from sklearn.metrics.pairwise import manhattan_distances\n",
    "from sklearn.metrics.pairwise import nan_euclidean_distances\n",
    "from sklearn.metrics.pairwise import pairwise_kernels\n",
    "from sklearn.metrics.pairwise import polynomial_kernel\n",
    "from sklearn.metrics.pairwise import rbf_kernel\n",
    "from sklearn.metrics.pairwise import sigmoid_kernel\n",
    "from sklearn.metrics.pairwise import paired_euclidean_distances\n",
    "from sklearn.metrics.pairwise import paired_manhattan_distances\n",
    "from sklearn.metrics.pairwise import paired_cosine_distances\n",
    "from sklearn.metrics.pairwise import paired_distances\n",
    "\n",
    "import multiprocessing\n",
    "from multiprocessing import Pool\n",
    "from tqdm.contrib.concurrent import process_map"
   ]
  },
  {
   "cell_type": "markdown",
   "metadata": {},
   "source": [
    "## Head-on Solution"
   ]
  },
  {
   "cell_type": "code",
   "execution_count": 5,
   "metadata": {
    "ExecuteTime": {
     "end_time": "2023-11-14T19:19:51.506802Z",
     "start_time": "2023-11-14T19:19:49.366504Z"
    },
    "collapsed": false,
    "jupyter": {
     "outputs_hidden": false
    }
   },
   "outputs": [],
   "source": [
    "df_base = pd.read_parquet(\"../tmp/cleared_df_base_new_features.parquet\")\n",
    "df_train = pd.read_parquet(\"../tmp/cleared_df_train_new_features.parquet\")\n",
    "df_validation = pd.read_parquet(\"../tmp/cleared_df_validation_new_features.parquet\")"
   ]
  },
  {
   "cell_type": "code",
   "execution_count": 6,
   "metadata": {},
   "outputs": [
    {
     "data": {
      "text/html": [
       "<div>\n",
       "<style scoped>\n",
       "    .dataframe tbody tr th:only-of-type {\n",
       "        vertical-align: middle;\n",
       "    }\n",
       "\n",
       "    .dataframe tbody tr th {\n",
       "        vertical-align: top;\n",
       "    }\n",
       "\n",
       "    .dataframe thead th {\n",
       "        text-align: right;\n",
       "    }\n",
       "</style>\n",
       "<table border=\"1\" class=\"dataframe\">\n",
       "  <thead>\n",
       "    <tr style=\"text-align: right;\">\n",
       "      <th></th>\n",
       "      <th>0</th>\n",
       "      <th>1</th>\n",
       "      <th>2</th>\n",
       "      <th>3</th>\n",
       "      <th>4</th>\n",
       "      <th>5</th>\n",
       "      <th>7</th>\n",
       "      <th>8</th>\n",
       "      <th>9</th>\n",
       "      <th>10</th>\n",
       "      <th>...</th>\n",
       "      <th>69</th>\n",
       "      <th>71</th>\n",
       "      <th>6</th>\n",
       "      <th>21</th>\n",
       "      <th>25</th>\n",
       "      <th>33</th>\n",
       "      <th>44</th>\n",
       "      <th>59</th>\n",
       "      <th>65</th>\n",
       "      <th>70</th>\n",
       "    </tr>\n",
       "    <tr>\n",
       "      <th>Id</th>\n",
       "      <th></th>\n",
       "      <th></th>\n",
       "      <th></th>\n",
       "      <th></th>\n",
       "      <th></th>\n",
       "      <th></th>\n",
       "      <th></th>\n",
       "      <th></th>\n",
       "      <th></th>\n",
       "      <th></th>\n",
       "      <th></th>\n",
       "      <th></th>\n",
       "      <th></th>\n",
       "      <th></th>\n",
       "      <th></th>\n",
       "      <th></th>\n",
       "      <th></th>\n",
       "      <th></th>\n",
       "      <th></th>\n",
       "      <th></th>\n",
       "      <th></th>\n",
       "    </tr>\n",
       "  </thead>\n",
       "  <tbody>\n",
       "    <tr>\n",
       "      <th>0-base</th>\n",
       "      <td>-115.083893</td>\n",
       "      <td>11.152912</td>\n",
       "      <td>-64.426758</td>\n",
       "      <td>-118.880890</td>\n",
       "      <td>216.482437</td>\n",
       "      <td>-104.698059</td>\n",
       "      <td>44.348083</td>\n",
       "      <td>120.915344</td>\n",
       "      <td>181.449707</td>\n",
       "      <td>-124.061508</td>\n",
       "      <td>...</td>\n",
       "      <td>115.269188</td>\n",
       "      <td>-60.830353</td>\n",
       "      <td>-0.105615</td>\n",
       "      <td>0.503497</td>\n",
       "      <td>0.247134</td>\n",
       "      <td>-0.146048</td>\n",
       "      <td>-0.937798</td>\n",
       "      <td>1.541230</td>\n",
       "      <td>-0.722587</td>\n",
       "      <td>1.349423</td>\n",
       "    </tr>\n",
       "    <tr>\n",
       "      <th>1-base</th>\n",
       "      <td>-34.562202</td>\n",
       "      <td>13.332763</td>\n",
       "      <td>-69.787613</td>\n",
       "      <td>-166.533478</td>\n",
       "      <td>57.680607</td>\n",
       "      <td>-86.098373</td>\n",
       "      <td>-35.637436</td>\n",
       "      <td>119.718636</td>\n",
       "      <td>195.234192</td>\n",
       "      <td>-141.304352</td>\n",
       "      <td>...</td>\n",
       "      <td>116.834000</td>\n",
       "      <td>-59.524609</td>\n",
       "      <td>0.917676</td>\n",
       "      <td>-1.390413</td>\n",
       "      <td>0.247134</td>\n",
       "      <td>0.860725</td>\n",
       "      <td>0.395763</td>\n",
       "      <td>0.212176</td>\n",
       "      <td>-0.918577</td>\n",
       "      <td>1.424935</td>\n",
       "    </tr>\n",
       "    <tr>\n",
       "      <th>2-base</th>\n",
       "      <td>-54.233746</td>\n",
       "      <td>6.379371</td>\n",
       "      <td>-29.210136</td>\n",
       "      <td>-133.413834</td>\n",
       "      <td>150.895828</td>\n",
       "      <td>-99.435326</td>\n",
       "      <td>62.381706</td>\n",
       "      <td>128.951447</td>\n",
       "      <td>164.381470</td>\n",
       "      <td>-140.822449</td>\n",
       "      <td>...</td>\n",
       "      <td>116.594154</td>\n",
       "      <td>-32.527206</td>\n",
       "      <td>1.620933</td>\n",
       "      <td>0.503497</td>\n",
       "      <td>0.247134</td>\n",
       "      <td>-0.718462</td>\n",
       "      <td>-0.315012</td>\n",
       "      <td>-0.820666</td>\n",
       "      <td>0.941837</td>\n",
       "      <td>-0.520661</td>\n",
       "    </tr>\n",
       "    <tr>\n",
       "      <th>3-base</th>\n",
       "      <td>-87.520126</td>\n",
       "      <td>4.037884</td>\n",
       "      <td>-87.803032</td>\n",
       "      <td>-185.067627</td>\n",
       "      <td>76.369537</td>\n",
       "      <td>-58.985165</td>\n",
       "      <td>-33.611237</td>\n",
       "      <td>122.031914</td>\n",
       "      <td>136.233582</td>\n",
       "      <td>-108.470444</td>\n",
       "      <td>...</td>\n",
       "      <td>117.474098</td>\n",
       "      <td>-72.915489</td>\n",
       "      <td>0.086817</td>\n",
       "      <td>-0.286135</td>\n",
       "      <td>0.247134</td>\n",
       "      <td>-0.023839</td>\n",
       "      <td>1.705571</td>\n",
       "      <td>-0.865241</td>\n",
       "      <td>-0.405384</td>\n",
       "      <td>-0.520661</td>\n",
       "    </tr>\n",
       "    <tr>\n",
       "      <th>4-base</th>\n",
       "      <td>-72.743851</td>\n",
       "      <td>6.522048</td>\n",
       "      <td>43.671265</td>\n",
       "      <td>-140.608032</td>\n",
       "      <td>5.820023</td>\n",
       "      <td>-112.074081</td>\n",
       "      <td>45.182499</td>\n",
       "      <td>122.167183</td>\n",
       "      <td>112.119064</td>\n",
       "      <td>-110.342453</td>\n",
       "      <td>...</td>\n",
       "      <td>135.051590</td>\n",
       "      <td>0.319401</td>\n",
       "      <td>0.051583</td>\n",
       "      <td>-0.473158</td>\n",
       "      <td>-1.377040</td>\n",
       "      <td>-0.320173</td>\n",
       "      <td>0.333797</td>\n",
       "      <td>-0.822464</td>\n",
       "      <td>0.541299</td>\n",
       "      <td>-0.520661</td>\n",
       "    </tr>\n",
       "  </tbody>\n",
       "</table>\n",
       "<p>5 rows × 72 columns</p>\n",
       "</div>"
      ],
      "text/plain": [
       "                 0          1          2           3           4           5  \\\n",
       "Id                                                                             \n",
       "0-base -115.083893  11.152912 -64.426758 -118.880890  216.482437 -104.698059   \n",
       "1-base  -34.562202  13.332763 -69.787613 -166.533478   57.680607  -86.098373   \n",
       "2-base  -54.233746   6.379371 -29.210136 -133.413834  150.895828  -99.435326   \n",
       "3-base  -87.520126   4.037884 -87.803032 -185.067627   76.369537  -58.985165   \n",
       "4-base  -72.743851   6.522048  43.671265 -140.608032    5.820023 -112.074081   \n",
       "\n",
       "                7           8           9          10  ...          69  \\\n",
       "Id                                                     ...               \n",
       "0-base  44.348083  120.915344  181.449707 -124.061508  ...  115.269188   \n",
       "1-base -35.637436  119.718636  195.234192 -141.304352  ...  116.834000   \n",
       "2-base  62.381706  128.951447  164.381470 -140.822449  ...  116.594154   \n",
       "3-base -33.611237  122.031914  136.233582 -108.470444  ...  117.474098   \n",
       "4-base  45.182499  122.167183  112.119064 -110.342453  ...  135.051590   \n",
       "\n",
       "               71         6        21        25        33        44        59  \\\n",
       "Id                                                                              \n",
       "0-base -60.830353 -0.105615  0.503497  0.247134 -0.146048 -0.937798  1.541230   \n",
       "1-base -59.524609  0.917676 -1.390413  0.247134  0.860725  0.395763  0.212176   \n",
       "2-base -32.527206  1.620933  0.503497  0.247134 -0.718462 -0.315012 -0.820666   \n",
       "3-base -72.915489  0.086817 -0.286135  0.247134 -0.023839  1.705571 -0.865241   \n",
       "4-base   0.319401  0.051583 -0.473158 -1.377040 -0.320173  0.333797 -0.822464   \n",
       "\n",
       "              65        70  \n",
       "Id                          \n",
       "0-base -0.722587  1.349423  \n",
       "1-base -0.918577  1.424935  \n",
       "2-base  0.941837 -0.520661  \n",
       "3-base -0.405384 -0.520661  \n",
       "4-base  0.541299 -0.520661  \n",
       "\n",
       "[5 rows x 72 columns]"
      ]
     },
     "execution_count": 6,
     "metadata": {},
     "output_type": "execute_result"
    }
   ],
   "source": [
    "df_base.head()"
   ]
  },
  {
   "cell_type": "code",
   "execution_count": 7,
   "metadata": {},
   "outputs": [
    {
     "data": {
      "text/plain": [
       "Id\n",
       "0-query     675816-base\n",
       "1-query     366656-base\n",
       "2-query    1447819-base\n",
       "3-query    1472602-base\n",
       "4-query     717819-base\n",
       "Name: Target, dtype: object"
      ]
     },
     "execution_count": 7,
     "metadata": {},
     "output_type": "execute_result"
    }
   ],
   "source": [
    "df_train[\"Target\"].head()"
   ]
  },
  {
   "cell_type": "markdown",
   "metadata": {},
   "source": [
    "## A-n Score function"
   ]
  },
  {
   "cell_type": "code",
   "execution_count": 8,
   "metadata": {},
   "outputs": [],
   "source": [
    "def getAScore(targets, seached_idxs, base_index):\n",
    "    defineActualBaseTargets = lambda x: base_index[x]\n",
    "    \n",
    "    start_score = time.time()\n",
    "    acc = 0\n",
    "    for target, el in zip(targets, seached_idxs):\n",
    "        acc += int(np.isin(target, np.array([base_index[r] for r in el])))\n",
    "    print(\"Score time:\", time.time() - start_score)\n",
    "    return 100 * acc / len(seached_idxs)"
   ]
  },
  {
   "cell_type": "markdown",
   "metadata": {},
   "source": [
    "## Scalers"
   ]
  },
  {
   "cell_type": "code",
   "execution_count": 9,
   "metadata": {},
   "outputs": [],
   "source": [
    "def buildA5Score(df_base, df_train, short=True, k=10):\n",
    "    dims = df_base.shape[1]\n",
    "    n_cells = 50\n",
    "    # how many cells\n",
    "    quantizer = faiss.IndexFlatL2(dims)\n",
    "    idx_l2 = faiss.IndexIVFFlat(quantizer, dims, n_cells)\n",
    "    idx_l2.train(np.ascontiguousarray(df_base.values).astype('float32'))\n",
    "    idx_l2.add(np.ascontiguousarray(df_base.values).astype('float32'))\n",
    "    \n",
    "    base_index = {k: v for k, v in enumerate(df_base.index.to_list())}\n",
    "    #del df_base\n",
    "    \n",
    "    headon_solution_df_train = df_train.copy()\n",
    "    targets = headon_solution_df_train[\"Target\"]\n",
    "    headon_solution_df_train.drop(\"Target\", axis=1, inplace=True)\n",
    "\n",
    "    vecs, idx = idx_l2.search(np.ascontiguousarray(headon_solution_df_train.values).astype('float32'), k)\n",
    "    \n",
    "    score = getAScore(targes.values.tolist(), idx.to_list(), base_index)\n",
    "    return score"
   ]
  },
  {
   "cell_type": "markdown",
   "metadata": {},
   "source": [
    "### RobustScaler"
   ]
  },
  {
   "cell_type": "code",
   "execution_count": 10,
   "metadata": {},
   "outputs": [],
   "source": [
    "def checkRobustScaler(base, train, validation):\n",
    "    scaler = RobustScaler()\n",
    "    scaler.fit(base)\n",
    "\n",
    "    tbase = scaler.transform(base)\n",
    "    tbase = pd.DataFrame(tbase, columns=base.columns)\n",
    "    tbase[\"Id\"] = base.index\n",
    "    tbase = tbase.set_index([\"Id\"])\n",
    "    \n",
    "    ttrain = scaler.transform(train[base.columns])\n",
    "    ttrain = pd.DataFrame(ttrain, columns=base.columns)\n",
    "    ttrain[\"Id\"] = train.index\n",
    "    ttrain = ttrain.set_index([\"Id\"])\n",
    "    ttrain[\"Target\"] = train[\"Target\"]\n",
    "\n",
    "    tvalidation = scaler.transform(validation[base.columns])\n",
    "    tvalidation = pd.DataFrame(tvalidation, columns=base.columns)\n",
    "    tvalidation[\"Id\"] = tvalidation.index\n",
    "    tvalidation = tvalidation.set_index([\"Id\"])\n",
    "\n",
    "    return tbase, ttrain, tvalidation, scaler"
   ]
  },
  {
   "cell_type": "markdown",
   "metadata": {},
   "source": [
    "## FIASS Tuning"
   ]
  },
  {
   "cell_type": "markdown",
   "metadata": {},
   "source": [
    "### IndexLSH"
   ]
  },
  {
   "cell_type": "code",
   "execution_count": 11,
   "metadata": {},
   "outputs": [],
   "source": [
    "important_feautres = ['18', '12', '63', '62', '49', '2', '24', '19', '27', '64', '4',\n",
    "       '47', '30', '9', '31', '23', '26', '50', '51', '60', '28', '67',\n",
    "       '55', '69', '29', '53', '39', '11', '22', '38', '7', '15', '13',\n",
    "       '14', '8', '32', '56', '58', '46', '41', '3', '52', '40', '20',\n",
    "       '10', '66', '48', '36', '70', '0', '34', '37', '17', '71', '68',\n",
    "       '43', '1', '25', '5', '16', '45', '42', '57', '54', '61', '35',\n",
    "       '21', '33', '44', '65', '6', '59']\n",
    "\n",
    "important_feautres_for_train = important_feautres.copy()\n",
    "important_feautres_for_train.append(\"Target\")\n",
    "\n",
    "rscaler_base, rscaler_train, rscaler_validation, _ = checkRobustScaler(df_base[important_feautres], df_train[important_feautres_for_train], df_validation[important_feautres])"
   ]
  },
  {
   "cell_type": "code",
   "execution_count": 12,
   "metadata": {},
   "outputs": [],
   "source": [
    "def train_index(df_base, df_train, short=True, k_value=50):\n",
    "    start_train = time.time()\n",
    "    dims = df_base.shape[1]\n",
    "\n",
    "    idx_l2 = faiss.index_factory(dims, \"Pad70,ITQ70,LSHrt\", faiss.METRIC_L2)\n",
    "    headon_solution_df_train = df_train.copy()\n",
    "\n",
    "    df_base_sample = df_base.copy()\n",
    "\n",
    "    if short:\n",
    "        df_base_sample = df_base[:50000]\n",
    "        headon_solution_df_train = headon_solution_df_train[headon_solution_df_train[\"Target\"].isin(df_base_sample.index)]\n",
    "\n",
    "        idx_l2.train(np.ascontiguousarray(df_base_sample.values).astype('float32'))\n",
    "        idx_l2.add(np.ascontiguousarray(df_base_sample.values).astype('float32'))\n",
    "    else:\n",
    "        idx_l2.train(np.ascontiguousarray(df_base.values).astype('float32'))\n",
    "        idx_l2.add(np.ascontiguousarray(df_base.values).astype('float32'))\n",
    "\n",
    "    #base_index = {k: v for k, v in enumerate(df_base.index.to_list())}\n",
    "    base_index = np.array(df_base.index.to_list())\n",
    "\n",
    "    print(\"Learning index for:\", time.time() - start_train)\n",
    "    return df_base_sample, headon_solution_df_train, idx_l2, base_index\n",
    "    "
   ]
  },
  {
   "cell_type": "code",
   "execution_count": 13,
   "metadata": {},
   "outputs": [],
   "source": [
    "def searchByIndex(index, train, k_value):\n",
    "    targets = train[\"Target\"]\n",
    "    train.drop(\"Target\", axis=1, inplace=True)\n",
    "\n",
    "    search_start = time.time()\n",
    "    k=k_value\n",
    "    vecs, idx = index.search(np.ascontiguousarray(train.values).astype('float32'), k)\n",
    "    search_time = time.time() - search_start\n",
    "    print(\"Search for:\", search_time)\n",
    "    return vecs, idx, search_time"
   ]
  },
  {
   "cell_type": "code",
   "execution_count": 14,
   "metadata": {},
   "outputs": [],
   "source": [
    "def buildA5ScoreV2(df_base, df_train, short=True, k_value=50):\n",
    "    base, train, index, base_index = train_index(df_base, df_train, short, k_value)\n",
    "    targets = train[\"Target\"]\n",
    "    \n",
    "    vecs, idx, search_time = searchByIndex(index, train, k_value)\n",
    "    score = getAScore(targets.values.tolist(), idx.tolist(), base_index)\n",
    "\n",
    "    searched_targets = []\n",
    "    for i in idx:\n",
    "        searched_targets.append([base_index[k] for k in i])\n",
    "    \n",
    "    return score, index, searched_targets, (k_value, search_time, score), base_index"
   ]
  },
  {
   "cell_type": "code",
   "execution_count": 15,
   "metadata": {
    "scrolled": true
   },
   "outputs": [
    {
     "data": {
      "application/vnd.jupyter.widget-view+json": {
       "model_id": "d09eb8fd2fcb488489bb91a07c52b74c",
       "version_major": 2,
       "version_minor": 0
      },
      "text/plain": [
       "  0%|          | 0/28 [00:00<?, ?it/s]"
      ]
     },
     "metadata": {},
     "output_type": "display_data"
    },
    {
     "name": "stdout",
     "output_type": "stream",
     "text": [
      "Learning index for: 1.363999366760254\n",
      "Search for: 0.08099913597106934\n",
      "Score time: 0.08899998664855957\n",
      "Learning index for: 1.1704964637756348\n",
      "Search for: 0.07299923896789551\n",
      "Score time: 0.13900017738342285\n",
      "Learning index for: 1.185004711151123\n",
      "Search for: 0.07699871063232422\n",
      "Score time: 0.15000057220458984\n",
      "Learning index for: 1.2165248394012451\n",
      "Search for: 0.07499933242797852\n",
      "Score time: 0.14600110054016113\n",
      "Learning index for: 1.1814179420471191\n",
      "Search for: 0.09599900245666504\n",
      "Score time: 0.16700077056884766\n",
      "Learning index for: 1.1850132942199707\n",
      "Search for: 0.07599878311157227\n",
      "Score time: 0.1810007095336914\n",
      "Learning index for: 1.180999517440796\n",
      "Search for: 0.07499957084655762\n",
      "Score time: 0.18900084495544434\n",
      "Learning index for: 1.178999423980713\n",
      "Search for: 0.060999393463134766\n",
      "Score time: 0.19900012016296387\n",
      "Learning index for: 1.2099995613098145\n",
      "Search for: 0.07899928092956543\n",
      "Score time: 0.21600079536437988\n",
      "Learning index for: 1.1980392932891846\n",
      "Search for: 0.07399892807006836\n",
      "Score time: 0.22500085830688477\n",
      "Learning index for: 1.1870005130767822\n",
      "Search for: 0.07799935340881348\n",
      "Score time: 0.24200081825256348\n",
      "Learning index for: 1.2019147872924805\n",
      "Search for: 0.08100056648254395\n",
      "Score time: 0.24500060081481934\n",
      "Learning index for: 1.187004566192627\n",
      "Search for: 0.0859992504119873\n",
      "Score time: 0.2550008296966553\n",
      "Learning index for: 1.225999355316162\n",
      "Search for: 0.07799935340881348\n",
      "Score time: 0.2670009136199951\n",
      "Learning index for: 1.172999620437622\n",
      "Search for: 0.08299922943115234\n",
      "Score time: 0.2770857810974121\n",
      "Learning index for: 1.227562665939331\n",
      "Search for: 0.07899928092956543\n",
      "Score time: 0.2850005626678467\n",
      "Learning index for: 1.2020137310028076\n",
      "Search for: 0.08600020408630371\n",
      "Score time: 0.29400634765625\n",
      "Learning index for: 1.2090044021606445\n",
      "Search for: 0.07699942588806152\n",
      "Score time: 0.30407285690307617\n",
      "Learning index for: 1.2059457302093506\n",
      "Search for: 0.08196735382080078\n",
      "Score time: 0.3139994144439697\n",
      "Learning index for: 1.1930084228515625\n",
      "Search for: 0.07750535011291504\n",
      "Score time: 0.3249995708465576\n",
      "Learning index for: 1.207005262374878\n",
      "Search for: 0.08999943733215332\n",
      "Score time: 0.5270018577575684\n",
      "Learning index for: 1.200333833694458\n",
      "Search for: 0.10399913787841797\n",
      "Score time: 0.7310049533843994\n",
      "Learning index for: 1.2130014896392822\n",
      "Search for: 0.11299967765808105\n",
      "Score time: 0.8980066776275635\n",
      "Learning index for: 1.1709997653961182\n",
      "Search for: 0.11199951171875\n",
      "Score time: 1.123004674911499\n",
      "Learning index for: 1.1900064945220947\n",
      "Search for: 0.13299942016601562\n",
      "Score time: 1.3075146675109863\n",
      "Learning index for: 1.1879992485046387\n",
      "Search for: 0.13699960708618164\n",
      "Score time: 1.5049998760223389\n",
      "Learning index for: 1.1949973106384277\n",
      "Search for: 0.17499971389770508\n",
      "Score time: 1.730027437210083\n",
      "Learning index for: 1.2248666286468506\n",
      "Search for: 0.16199970245361328\n",
      "Score time: 1.921004295349121\n",
      "CPU times: total: 8min 39s\n",
      "Wall time: 59.6 s\n"
     ]
    }
   ],
   "source": [
    "%%time\n",
    "results = []\n",
    "#for kvalue in tqdm(list(range(5, 100, 5)) + list(range(100, 1000, 100)) + list(range(1000, 30000, 1000))):\n",
    "for kvalue in tqdm(list(range(5, 100, 5)) + list(range(100, 1000, 100))):\n",
    "    lsh_score, lsh_index, targets, stats, _ = buildA5ScoreV2(rscaler_base, rscaler_train, short=True, k_value=kvalue)\n",
    "    results.append(stats)"
   ]
  },
  {
   "cell_type": "code",
   "execution_count": 16,
   "metadata": {},
   "outputs": [
    {
     "data": {
      "text/plain": [
       "[(5, 0.08099913597106934, 77.07095421181405),\n",
       " (10, 0.07299923896789551, 80.63614120936735),\n",
       " (15, 0.07699871063232422, 82.45368752184551),\n",
       " (20, 0.07499933242797852, 83.34498427123384),\n",
       " (25, 0.09599900245666504, 84.14889898636841),\n",
       " (30, 0.07599878311157227, 84.77804963299546),\n",
       " (35, 0.07499957084655762, 85.12757777001049),\n",
       " (40, 0.060999393463134766, 85.35477105907026),\n",
       " (45, 0.07899928092956543, 85.73925200978678),\n",
       " (50, 0.07399892807006836, 86.05382733310032),\n",
       " (55, 0.07799935340881348, 86.3159734358616),\n",
       " (60, 0.08100056648254395, 86.49073750436911),\n",
       " (65, 0.0859992504119873, 86.85774204823488),\n",
       " (70, 0.07799935340881348, 87.01502970989165),\n",
       " (75, 0.08299922943115234, 87.18979377839916),\n",
       " (80, 0.07899928092956543, 87.32960503320517),\n",
       " (85, 0.08600020408630371, 87.41698706745893),\n",
       " (90, 0.07699942588806152, 87.62670394966794),\n",
       " (95, 0.08196735382080078, 87.7140859839217),\n",
       " (100, 0.07750535011291504, 87.83642083187696),\n",
       " (200, 0.08999943733215332, 89.14715134568333),\n",
       " (300, 0.10399913787841797, 90.16078294302692),\n",
       " (400, 0.11299967765808105, 90.58021670744495),\n",
       " (500, 0.11199951171875, 90.85983921705697),\n",
       " (600, 0.13299942016601562, 91.26179657462426),\n",
       " (700, 0.13699960708618164, 91.55889549108703),\n",
       " (800, 0.17499971389770508, 91.8559944075498),\n",
       " (900, 0.16199970245361328, 92.04823488290808)]"
      ]
     },
     "execution_count": 16,
     "metadata": {},
     "output_type": "execute_result"
    }
   ],
   "source": [
    "[i for i in results if i[1] < 1.1 ]"
   ]
  },
  {
   "cell_type": "code",
   "execution_count": 17,
   "metadata": {},
   "outputs": [],
   "source": [
    "if False:\n",
    "    k_value = 4000\n",
    "    lsh_score, lsh_index, searched_targets, full_stats, _= buildA5ScoreV2(rscaler_base, rscaler_train, short=False, k_value=k_value)\n",
    "    print(f\"Score on full dataset and k_value {k_value}\", lsh_score)"
   ]
  },
  {
   "cell_type": "code",
   "execution_count": 18,
   "metadata": {},
   "outputs": [
    {
     "name": "stdout",
     "output_type": "stream",
     "text": [
      "Learning index for: 16.48949956893921\n",
      "Search for: 37.222501277923584\n",
      "Score time: 10.309020042419434\n"
     ]
    },
    {
     "data": {
      "text/plain": [
       "(200, 37.222501277923584, 72.103)"
      ]
     },
     "execution_count": 18,
     "metadata": {},
     "output_type": "execute_result"
    }
   ],
   "source": [
    "#rscaler_train_top_100 = rscaler_train.sample(1000)\n",
    "rscaler_train_top_100 = rscaler_train\n",
    "lsh_score, lsh_index, target_index, stats, common_base_index = buildA5ScoreV2(rscaler_base, rscaler_train_top_100, short=False, k_value=200)\n",
    "stats"
   ]
  },
  {
   "cell_type": "code",
   "execution_count": 19,
   "metadata": {},
   "outputs": [],
   "source": [
    "if False:\n",
    "    def defineMostImportantCandidatesForSingleRow(base, target, target_index):\n",
    "        searched = base.loc[target_index]\n",
    "        cosine_distances_v = cosine_similarity(searched.values, [target[searched.columns].values])\n",
    "        cosine_distances_v = [item for sublist in cosine_distances_v for item in sublist]\n",
    "    \n",
    "        indexes = np.argpartition(cosine_distances_v, 100)[:-100]\n",
    "        #TODO: Check it\n",
    "        #indexes = np.argmin(cosine_distances_v)\n",
    "        return searched.iloc[indexes].index.tolist()\n",
    "    \n",
    "    index_results = []\n",
    "    for irow in trange(0, len(rscaler_train_top_100)):\n",
    "        row = rscaler_train_top_100.iloc[irow]\n",
    "        row_index = target_index[irow]\n",
    "        index_results.append(defineMostImportantCandidatesForSingleRow(rscaler_base, row, row_index))\n",
    "\n",
    "    acc = 0\n",
    "    for irow in trange(0, len(rscaler_train_top_100)):\n",
    "        if rscaler_train_top_100.iloc[irow].Target in index_results[irow]:\n",
    "            acc+=1\n",
    "    \n",
    "    print(acc/len(rscaler_train_top_100) * 100)\n",
    "\n",
    "#newTarget"
   ]
  },
  {
   "cell_type": "code",
   "execution_count": null,
   "metadata": {},
   "outputs": [],
   "source": []
  },
  {
   "cell_type": "markdown",
   "metadata": {},
   "source": [
    "### Validation predict"
   ]
  },
  {
   "cell_type": "code",
   "execution_count": 20,
   "metadata": {},
   "outputs": [],
   "source": [
    "#validation_vecs, validation_idx, validation_search_time = searchByIndex(index, train, k_value)\n",
    "validation_vect, validation_ids = lsh_index.search(np.ascontiguousarray(rscaler_validation.values).astype('float32'), 200)"
   ]
  },
  {
   "cell_type": "code",
   "execution_count": 21,
   "metadata": {},
   "outputs": [],
   "source": [
    "searched_validation_targets = []\n",
    "for i in validation_ids:\n",
    "    searched_validation_targets.append([common_base_index[k] for k in i])"
   ]
  },
  {
   "cell_type": "markdown",
   "metadata": {},
   "source": [
    "## Save searched indexes "
   ]
  },
  {
   "cell_type": "code",
   "execution_count": 22,
   "metadata": {},
   "outputs": [],
   "source": [
    "target_idx = rscaler_train_top_100.copy().reset_index()[[\"Id\", \"Target\"]]\n",
    "predictions = pd.DataFrame(pd.Series(target_index), columns=[\"predictions\"])\n",
    "train_results = pd.merge(target_idx, predictions, left_index=True, right_index=True)\n",
    "train_results[\"is_match\"] = train_results.apply(lambda x: x[\"Target\"] in x[\"predictions\"], axis=1)\n",
    "train_results.set_index(\"Id\", inplace = True)"
   ]
  },
  {
   "cell_type": "code",
   "execution_count": 23,
   "metadata": {},
   "outputs": [],
   "source": [
    "#validation_predictions = pd.DataFrame(searched_validation_targets, columns=[\"predictions\"])\n",
    "validation_idx = df_validation.copy().reset_index()[[\"Id\"]]\n",
    "validation_predictions = pd.DataFrame(pd.Series(searched_validation_targets), columns=[\"predictions\"])\n",
    "validation_results = pd.merge(validation_idx, validation_predictions, left_index=True, right_index=True)\n",
    "validation_results.head()\n",
    "validation_results.set_index(\"Id\", inplace = True)"
   ]
  },
  {
   "cell_type": "code",
   "execution_count": 24,
   "metadata": {},
   "outputs": [
    {
     "data": {
      "text/html": [
       "<div>\n",
       "<style scoped>\n",
       "    .dataframe tbody tr th:only-of-type {\n",
       "        vertical-align: middle;\n",
       "    }\n",
       "\n",
       "    .dataframe tbody tr th {\n",
       "        vertical-align: top;\n",
       "    }\n",
       "\n",
       "    .dataframe thead th {\n",
       "        text-align: right;\n",
       "    }\n",
       "</style>\n",
       "<table border=\"1\" class=\"dataframe\">\n",
       "  <thead>\n",
       "    <tr style=\"text-align: right;\">\n",
       "      <th></th>\n",
       "      <th>0</th>\n",
       "      <th>1</th>\n",
       "      <th>2</th>\n",
       "      <th>3</th>\n",
       "      <th>4</th>\n",
       "      <th>5</th>\n",
       "      <th>7</th>\n",
       "      <th>8</th>\n",
       "      <th>9</th>\n",
       "      <th>10</th>\n",
       "      <th>...</th>\n",
       "      <th>69</th>\n",
       "      <th>71</th>\n",
       "      <th>6</th>\n",
       "      <th>21</th>\n",
       "      <th>25</th>\n",
       "      <th>33</th>\n",
       "      <th>44</th>\n",
       "      <th>59</th>\n",
       "      <th>65</th>\n",
       "      <th>70</th>\n",
       "    </tr>\n",
       "    <tr>\n",
       "      <th>Id</th>\n",
       "      <th></th>\n",
       "      <th></th>\n",
       "      <th></th>\n",
       "      <th></th>\n",
       "      <th></th>\n",
       "      <th></th>\n",
       "      <th></th>\n",
       "      <th></th>\n",
       "      <th></th>\n",
       "      <th></th>\n",
       "      <th></th>\n",
       "      <th></th>\n",
       "      <th></th>\n",
       "      <th></th>\n",
       "      <th></th>\n",
       "      <th></th>\n",
       "      <th></th>\n",
       "      <th></th>\n",
       "      <th></th>\n",
       "      <th></th>\n",
       "      <th></th>\n",
       "    </tr>\n",
       "  </thead>\n",
       "  <tbody>\n",
       "    <tr>\n",
       "      <th>100000-query</th>\n",
       "      <td>-57.372734</td>\n",
       "      <td>3.597752</td>\n",
       "      <td>-13.213642</td>\n",
       "      <td>-125.926790</td>\n",
       "      <td>110.745940</td>\n",
       "      <td>-81.279594</td>\n",
       "      <td>139.815720</td>\n",
       "      <td>112.880980</td>\n",
       "      <td>75.215750</td>\n",
       "      <td>-131.89280</td>\n",
       "      <td>...</td>\n",
       "      <td>115.140656</td>\n",
       "      <td>-117.079360</td>\n",
       "      <td>0.169541</td>\n",
       "      <td>-0.830982</td>\n",
       "      <td>0.247134</td>\n",
       "      <td>0.860725</td>\n",
       "      <td>0.395763</td>\n",
       "      <td>1.954331</td>\n",
       "      <td>-1.009224</td>\n",
       "      <td>0.778056</td>\n",
       "    </tr>\n",
       "    <tr>\n",
       "      <th>100001-query</th>\n",
       "      <td>-53.758705</td>\n",
       "      <td>12.790300</td>\n",
       "      <td>-43.268543</td>\n",
       "      <td>-134.417620</td>\n",
       "      <td>114.449910</td>\n",
       "      <td>-90.520130</td>\n",
       "      <td>63.995087</td>\n",
       "      <td>127.117905</td>\n",
       "      <td>53.128998</td>\n",
       "      <td>-153.71725</td>\n",
       "      <td>...</td>\n",
       "      <td>123.391640</td>\n",
       "      <td>-25.009320</td>\n",
       "      <td>0.879729</td>\n",
       "      <td>-1.554872</td>\n",
       "      <td>0.247134</td>\n",
       "      <td>1.176890</td>\n",
       "      <td>1.297239</td>\n",
       "      <td>-0.523412</td>\n",
       "      <td>-0.117699</td>\n",
       "      <td>0.069525</td>\n",
       "    </tr>\n",
       "    <tr>\n",
       "      <th>100002-query</th>\n",
       "      <td>-64.175095</td>\n",
       "      <td>-3.980927</td>\n",
       "      <td>-7.679249</td>\n",
       "      <td>-170.160930</td>\n",
       "      <td>96.446160</td>\n",
       "      <td>-62.377740</td>\n",
       "      <td>87.477554</td>\n",
       "      <td>131.270110</td>\n",
       "      <td>168.920320</td>\n",
       "      <td>-220.30954</td>\n",
       "      <td>...</td>\n",
       "      <td>141.081630</td>\n",
       "      <td>-70.969604</td>\n",
       "      <td>1.416623</td>\n",
       "      <td>0.503497</td>\n",
       "      <td>0.247134</td>\n",
       "      <td>-1.887753</td>\n",
       "      <td>0.471004</td>\n",
       "      <td>0.555915</td>\n",
       "      <td>0.513739</td>\n",
       "      <td>-0.520661</td>\n",
       "    </tr>\n",
       "    <tr>\n",
       "      <th>100003-query</th>\n",
       "      <td>-99.286860</td>\n",
       "      <td>16.123936</td>\n",
       "      <td>9.837166</td>\n",
       "      <td>-148.060440</td>\n",
       "      <td>83.697080</td>\n",
       "      <td>-133.729720</td>\n",
       "      <td>-19.046660</td>\n",
       "      <td>115.042404</td>\n",
       "      <td>75.206730</td>\n",
       "      <td>-114.27196</td>\n",
       "      <td>...</td>\n",
       "      <td>143.252940</td>\n",
       "      <td>-89.392670</td>\n",
       "      <td>-2.195064</td>\n",
       "      <td>0.503497</td>\n",
       "      <td>0.247134</td>\n",
       "      <td>-1.887753</td>\n",
       "      <td>0.447305</td>\n",
       "      <td>-0.227860</td>\n",
       "      <td>0.609955</td>\n",
       "      <td>-0.520661</td>\n",
       "    </tr>\n",
       "    <tr>\n",
       "      <th>100004-query</th>\n",
       "      <td>-79.532920</td>\n",
       "      <td>-0.364173</td>\n",
       "      <td>-16.027431</td>\n",
       "      <td>-170.884950</td>\n",
       "      <td>165.453920</td>\n",
       "      <td>-28.291668</td>\n",
       "      <td>34.411217</td>\n",
       "      <td>128.903980</td>\n",
       "      <td>102.086914</td>\n",
       "      <td>-76.21417</td>\n",
       "      <td>...</td>\n",
       "      <td>101.700640</td>\n",
       "      <td>-125.307890</td>\n",
       "      <td>0.233082</td>\n",
       "      <td>0.503497</td>\n",
       "      <td>0.247134</td>\n",
       "      <td>-0.718462</td>\n",
       "      <td>-0.680013</td>\n",
       "      <td>0.396024</td>\n",
       "      <td>-1.228321</td>\n",
       "      <td>-0.520661</td>\n",
       "    </tr>\n",
       "    <tr>\n",
       "      <th>...</th>\n",
       "      <td>...</td>\n",
       "      <td>...</td>\n",
       "      <td>...</td>\n",
       "      <td>...</td>\n",
       "      <td>...</td>\n",
       "      <td>...</td>\n",
       "      <td>...</td>\n",
       "      <td>...</td>\n",
       "      <td>...</td>\n",
       "      <td>...</td>\n",
       "      <td>...</td>\n",
       "      <td>...</td>\n",
       "      <td>...</td>\n",
       "      <td>...</td>\n",
       "      <td>...</td>\n",
       "      <td>...</td>\n",
       "      <td>...</td>\n",
       "      <td>...</td>\n",
       "      <td>...</td>\n",
       "      <td>...</td>\n",
       "      <td>...</td>\n",
       "    </tr>\n",
       "    <tr>\n",
       "      <th>199995-query</th>\n",
       "      <td>-46.672780</td>\n",
       "      <td>6.644193</td>\n",
       "      <td>7.376480</td>\n",
       "      <td>-116.126400</td>\n",
       "      <td>80.031715</td>\n",
       "      <td>-48.248695</td>\n",
       "      <td>108.150240</td>\n",
       "      <td>122.729744</td>\n",
       "      <td>103.643906</td>\n",
       "      <td>-178.22714</td>\n",
       "      <td>...</td>\n",
       "      <td>112.273720</td>\n",
       "      <td>-82.804726</td>\n",
       "      <td>-0.214665</td>\n",
       "      <td>0.503497</td>\n",
       "      <td>0.247134</td>\n",
       "      <td>-0.718462</td>\n",
       "      <td>0.043924</td>\n",
       "      <td>-0.677313</td>\n",
       "      <td>-0.007341</td>\n",
       "      <td>-0.520661</td>\n",
       "    </tr>\n",
       "    <tr>\n",
       "      <th>199996-query</th>\n",
       "      <td>-94.786316</td>\n",
       "      <td>10.852646</td>\n",
       "      <td>13.700245</td>\n",
       "      <td>-125.619385</td>\n",
       "      <td>21.545967</td>\n",
       "      <td>-89.625534</td>\n",
       "      <td>-46.513206</td>\n",
       "      <td>123.578730</td>\n",
       "      <td>74.033020</td>\n",
       "      <td>-154.07349</td>\n",
       "      <td>...</td>\n",
       "      <td>86.279526</td>\n",
       "      <td>-63.491104</td>\n",
       "      <td>0.804415</td>\n",
       "      <td>0.503497</td>\n",
       "      <td>0.247134</td>\n",
       "      <td>1.154615</td>\n",
       "      <td>0.499474</td>\n",
       "      <td>-0.792892</td>\n",
       "      <td>-0.816249</td>\n",
       "      <td>-1.533957</td>\n",
       "    </tr>\n",
       "    <tr>\n",
       "      <th>199997-query</th>\n",
       "      <td>-59.224453</td>\n",
       "      <td>13.585838</td>\n",
       "      <td>22.655106</td>\n",
       "      <td>-134.926030</td>\n",
       "      <td>145.205690</td>\n",
       "      <td>-63.278100</td>\n",
       "      <td>16.277431</td>\n",
       "      <td>128.150040</td>\n",
       "      <td>168.835420</td>\n",
       "      <td>-142.90079</td>\n",
       "      <td>...</td>\n",
       "      <td>97.924790</td>\n",
       "      <td>-28.081186</td>\n",
       "      <td>-0.017617</td>\n",
       "      <td>-0.987279</td>\n",
       "      <td>0.247134</td>\n",
       "      <td>0.106841</td>\n",
       "      <td>0.312760</td>\n",
       "      <td>-1.482030</td>\n",
       "      <td>0.057363</td>\n",
       "      <td>0.404942</td>\n",
       "    </tr>\n",
       "    <tr>\n",
       "      <th>199998-query</th>\n",
       "      <td>-33.353630</td>\n",
       "      <td>11.671304</td>\n",
       "      <td>-31.577808</td>\n",
       "      <td>-127.493970</td>\n",
       "      <td>75.580860</td>\n",
       "      <td>-36.508230</td>\n",
       "      <td>-80.221510</td>\n",
       "      <td>123.711910</td>\n",
       "      <td>32.942696</td>\n",
       "      <td>-143.35397</td>\n",
       "      <td>...</td>\n",
       "      <td>149.608570</td>\n",
       "      <td>-60.923080</td>\n",
       "      <td>-0.827479</td>\n",
       "      <td>0.503497</td>\n",
       "      <td>0.247134</td>\n",
       "      <td>0.731515</td>\n",
       "      <td>-1.137677</td>\n",
       "      <td>0.750809</td>\n",
       "      <td>-0.913030</td>\n",
       "      <td>-0.520661</td>\n",
       "    </tr>\n",
       "    <tr>\n",
       "      <th>199999-query</th>\n",
       "      <td>-40.757560</td>\n",
       "      <td>6.832712</td>\n",
       "      <td>-29.993444</td>\n",
       "      <td>-156.309200</td>\n",
       "      <td>108.846780</td>\n",
       "      <td>-59.340584</td>\n",
       "      <td>-42.484253</td>\n",
       "      <td>119.490900</td>\n",
       "      <td>54.073837</td>\n",
       "      <td>-142.38810</td>\n",
       "      <td>...</td>\n",
       "      <td>131.007740</td>\n",
       "      <td>-33.217857</td>\n",
       "      <td>0.936154</td>\n",
       "      <td>0.503497</td>\n",
       "      <td>0.247134</td>\n",
       "      <td>-0.516356</td>\n",
       "      <td>1.767657</td>\n",
       "      <td>-0.809889</td>\n",
       "      <td>-0.763324</td>\n",
       "      <td>1.572534</td>\n",
       "    </tr>\n",
       "  </tbody>\n",
       "</table>\n",
       "<p>100000 rows × 72 columns</p>\n",
       "</div>"
      ],
      "text/plain": [
       "                      0          1          2           3           4  \\\n",
       "Id                                                                      \n",
       "100000-query -57.372734   3.597752 -13.213642 -125.926790  110.745940   \n",
       "100001-query -53.758705  12.790300 -43.268543 -134.417620  114.449910   \n",
       "100002-query -64.175095  -3.980927  -7.679249 -170.160930   96.446160   \n",
       "100003-query -99.286860  16.123936   9.837166 -148.060440   83.697080   \n",
       "100004-query -79.532920  -0.364173 -16.027431 -170.884950  165.453920   \n",
       "...                 ...        ...        ...         ...         ...   \n",
       "199995-query -46.672780   6.644193   7.376480 -116.126400   80.031715   \n",
       "199996-query -94.786316  10.852646  13.700245 -125.619385   21.545967   \n",
       "199997-query -59.224453  13.585838  22.655106 -134.926030  145.205690   \n",
       "199998-query -33.353630  11.671304 -31.577808 -127.493970   75.580860   \n",
       "199999-query -40.757560   6.832712 -29.993444 -156.309200  108.846780   \n",
       "\n",
       "                       5           7           8           9         10  ...  \\\n",
       "Id                                                                       ...   \n",
       "100000-query  -81.279594  139.815720  112.880980   75.215750 -131.89280  ...   \n",
       "100001-query  -90.520130   63.995087  127.117905   53.128998 -153.71725  ...   \n",
       "100002-query  -62.377740   87.477554  131.270110  168.920320 -220.30954  ...   \n",
       "100003-query -133.729720  -19.046660  115.042404   75.206730 -114.27196  ...   \n",
       "100004-query  -28.291668   34.411217  128.903980  102.086914  -76.21417  ...   \n",
       "...                  ...         ...         ...         ...        ...  ...   \n",
       "199995-query  -48.248695  108.150240  122.729744  103.643906 -178.22714  ...   \n",
       "199996-query  -89.625534  -46.513206  123.578730   74.033020 -154.07349  ...   \n",
       "199997-query  -63.278100   16.277431  128.150040  168.835420 -142.90079  ...   \n",
       "199998-query  -36.508230  -80.221510  123.711910   32.942696 -143.35397  ...   \n",
       "199999-query  -59.340584  -42.484253  119.490900   54.073837 -142.38810  ...   \n",
       "\n",
       "                      69          71         6        21        25        33  \\\n",
       "Id                                                                             \n",
       "100000-query  115.140656 -117.079360  0.169541 -0.830982  0.247134  0.860725   \n",
       "100001-query  123.391640  -25.009320  0.879729 -1.554872  0.247134  1.176890   \n",
       "100002-query  141.081630  -70.969604  1.416623  0.503497  0.247134 -1.887753   \n",
       "100003-query  143.252940  -89.392670 -2.195064  0.503497  0.247134 -1.887753   \n",
       "100004-query  101.700640 -125.307890  0.233082  0.503497  0.247134 -0.718462   \n",
       "...                  ...         ...       ...       ...       ...       ...   \n",
       "199995-query  112.273720  -82.804726 -0.214665  0.503497  0.247134 -0.718462   \n",
       "199996-query   86.279526  -63.491104  0.804415  0.503497  0.247134  1.154615   \n",
       "199997-query   97.924790  -28.081186 -0.017617 -0.987279  0.247134  0.106841   \n",
       "199998-query  149.608570  -60.923080 -0.827479  0.503497  0.247134  0.731515   \n",
       "199999-query  131.007740  -33.217857  0.936154  0.503497  0.247134 -0.516356   \n",
       "\n",
       "                    44        59        65        70  \n",
       "Id                                                    \n",
       "100000-query  0.395763  1.954331 -1.009224  0.778056  \n",
       "100001-query  1.297239 -0.523412 -0.117699  0.069525  \n",
       "100002-query  0.471004  0.555915  0.513739 -0.520661  \n",
       "100003-query  0.447305 -0.227860  0.609955 -0.520661  \n",
       "100004-query -0.680013  0.396024 -1.228321 -0.520661  \n",
       "...                ...       ...       ...       ...  \n",
       "199995-query  0.043924 -0.677313 -0.007341 -0.520661  \n",
       "199996-query  0.499474 -0.792892 -0.816249 -1.533957  \n",
       "199997-query  0.312760 -1.482030  0.057363  0.404942  \n",
       "199998-query -1.137677  0.750809 -0.913030 -0.520661  \n",
       "199999-query  1.767657 -0.809889 -0.763324  1.572534  \n",
       "\n",
       "[100000 rows x 72 columns]"
      ]
     },
     "execution_count": 24,
     "metadata": {},
     "output_type": "execute_result"
    }
   ],
   "source": [
    "df_validation"
   ]
  },
  {
   "cell_type": "code",
   "execution_count": 25,
   "metadata": {},
   "outputs": [],
   "source": [
    "train_results.to_parquet(\"../tmp/predicted_targets.parquet\", compression=\"gzip\")"
   ]
  },
  {
   "cell_type": "code",
   "execution_count": 26,
   "metadata": {},
   "outputs": [],
   "source": [
    "validation_results.to_parquet(\"../tmp/predicted_validations.parquet\", compression=\"gzip\")"
   ]
  },
  {
   "cell_type": "code",
   "execution_count": 27,
   "metadata": {},
   "outputs": [],
   "source": [
    "faiss.write_index(lsh_index, \"../tmp/lsh_search_index_2.faiss\") "
   ]
  },
  {
   "cell_type": "code",
   "execution_count": null,
   "metadata": {},
   "outputs": [],
   "source": []
  }
 ],
 "metadata": {
  "kernelspec": {
   "display_name": "Python 3 (ipykernel)",
   "language": "python",
   "name": "python3"
  },
  "language_info": {
   "codemirror_mode": {
    "name": "ipython",
    "version": 3
   },
   "file_extension": ".py",
   "mimetype": "text/x-python",
   "name": "python",
   "nbconvert_exporter": "python",
   "pygments_lexer": "ipython3",
   "version": "3.9.18"
  },
  "widgets": {
   "application/vnd.jupyter.widget-state+json": {
    "state": {
     "0885b6c523854d528622012e334ff00c": {
      "model_module": "@jupyter-widgets/controls",
      "model_module_version": "2.0.0",
      "model_name": "ProgressStyleModel",
      "state": {
       "description_width": ""
      }
     },
     "1ef7bc5a5537470e86e46b6e1edc2062": {
      "model_module": "@jupyter-widgets/controls",
      "model_module_version": "2.0.0",
      "model_name": "FloatProgressModel",
      "state": {
       "bar_style": "success",
       "layout": "IPY_MODEL_d2d1c5806688410e8928ead56367f454",
       "max": 28,
       "style": "IPY_MODEL_0885b6c523854d528622012e334ff00c",
       "value": 28
      }
     },
     "20032016a5914d8bb1c2f27db2cb56ff": {
      "model_module": "@jupyter-widgets/controls",
      "model_module_version": "2.0.0",
      "model_name": "HBoxModel",
      "state": {
       "children": [
        "IPY_MODEL_3f34bd8f824542bd8dffaf1679f16294",
        "IPY_MODEL_b902d54e63104336b8c362cf719d9031",
        "IPY_MODEL_ddb9f1e8278745bcad2984cb6bd755cd"
       ],
       "layout": "IPY_MODEL_5e0298c2bceb493ba95963f7a4247b88"
      }
     },
     "22c8cad31ba04a6b83816dd7e4fc55c7": {
      "model_module": "@jupyter-widgets/controls",
      "model_module_version": "2.0.0",
      "model_name": "FloatProgressModel",
      "state": {
       "bar_style": "success",
       "layout": "IPY_MODEL_50bb7152fab64e9d8f74c6c5de22324a",
       "max": 28,
       "style": "IPY_MODEL_372cb2add16344b8a7455d9b8c7bf0ae",
       "value": 28
      }
     },
     "33257ff6c9864a0298914301e9cb8b51": {
      "model_module": "@jupyter-widgets/controls",
      "model_module_version": "2.0.0",
      "model_name": "HTMLModel",
      "state": {
       "layout": "IPY_MODEL_d73fa5c930614795aa9c22d9d3c1d5b3",
       "style": "IPY_MODEL_7b25e052a5c84bc391c3b10605d4a6d3",
       "value": " 28/28 [00:59&lt;00:00,  3.91s/it]"
      }
     },
     "372cb2add16344b8a7455d9b8c7bf0ae": {
      "model_module": "@jupyter-widgets/controls",
      "model_module_version": "2.0.0",
      "model_name": "ProgressStyleModel",
      "state": {
       "description_width": ""
      }
     },
     "3f34bd8f824542bd8dffaf1679f16294": {
      "model_module": "@jupyter-widgets/controls",
      "model_module_version": "2.0.0",
      "model_name": "HTMLModel",
      "state": {
       "layout": "IPY_MODEL_44d02023d45c458fb8aff9d51481b212",
       "style": "IPY_MODEL_f3c9616ef6c7452d992910450def24de",
       "value": "100%"
      }
     },
     "433395ebd8a149f9a268efeadfc42b1e": {
      "model_module": "@jupyter-widgets/controls",
      "model_module_version": "2.0.0",
      "model_name": "ProgressStyleModel",
      "state": {
       "description_width": ""
      }
     },
     "441a08aec0f74cb5b1b7140fadce8167": {
      "model_module": "@jupyter-widgets/controls",
      "model_module_version": "2.0.0",
      "model_name": "HTMLStyleModel",
      "state": {
       "description_width": "",
       "font_size": null,
       "text_color": null
      }
     },
     "44d02023d45c458fb8aff9d51481b212": {
      "model_module": "@jupyter-widgets/base",
      "model_module_version": "2.0.0",
      "model_name": "LayoutModel",
      "state": {}
     },
     "47b3c82727a6433e97f81b4a69bee796": {
      "model_module": "@jupyter-widgets/controls",
      "model_module_version": "2.0.0",
      "model_name": "HBoxModel",
      "state": {
       "children": [
        "IPY_MODEL_b5e0f12646b049dc8adcf5a4e6666ad2",
        "IPY_MODEL_1ef7bc5a5537470e86e46b6e1edc2062",
        "IPY_MODEL_7f1e1700cf2047839ee038a598da1815"
       ],
       "layout": "IPY_MODEL_9f83e0dba7c3416ba48204db7da75558"
      }
     },
     "50bb7152fab64e9d8f74c6c5de22324a": {
      "model_module": "@jupyter-widgets/base",
      "model_module_version": "2.0.0",
      "model_name": "LayoutModel",
      "state": {}
     },
     "54c6114d0de24321b9c8b244ca5f4816": {
      "model_module": "@jupyter-widgets/controls",
      "model_module_version": "2.0.0",
      "model_name": "HTMLStyleModel",
      "state": {
       "description_width": "",
       "font_size": null,
       "text_color": null
      }
     },
     "5e0298c2bceb493ba95963f7a4247b88": {
      "model_module": "@jupyter-widgets/base",
      "model_module_version": "2.0.0",
      "model_name": "LayoutModel",
      "state": {}
     },
     "5f1983e5bca84dc086816c8b6e010563": {
      "model_module": "@jupyter-widgets/base",
      "model_module_version": "2.0.0",
      "model_name": "LayoutModel",
      "state": {}
     },
     "6c8157b41223450a99a056c25db0ed82": {
      "model_module": "@jupyter-widgets/base",
      "model_module_version": "2.0.0",
      "model_name": "LayoutModel",
      "state": {}
     },
     "75e0ff6f9d524f3aa788d9b6669a7927": {
      "model_module": "@jupyter-widgets/base",
      "model_module_version": "2.0.0",
      "model_name": "LayoutModel",
      "state": {}
     },
     "7b25e052a5c84bc391c3b10605d4a6d3": {
      "model_module": "@jupyter-widgets/controls",
      "model_module_version": "2.0.0",
      "model_name": "HTMLStyleModel",
      "state": {
       "description_width": "",
       "font_size": null,
       "text_color": null
      }
     },
     "7f1e1700cf2047839ee038a598da1815": {
      "model_module": "@jupyter-widgets/controls",
      "model_module_version": "2.0.0",
      "model_name": "HTMLModel",
      "state": {
       "layout": "IPY_MODEL_5f1983e5bca84dc086816c8b6e010563",
       "style": "IPY_MODEL_8da3a2dc1a5e450c99b5d060304a23c1",
       "value": " 28/28 [00:58&lt;00:00,  3.88s/it]"
      }
     },
     "8c07e71c92fd42319f3959180209f1d0": {
      "model_module": "@jupyter-widgets/controls",
      "model_module_version": "2.0.0",
      "model_name": "HTMLStyleModel",
      "state": {
       "description_width": "",
       "font_size": null,
       "text_color": null
      }
     },
     "8da3a2dc1a5e450c99b5d060304a23c1": {
      "model_module": "@jupyter-widgets/controls",
      "model_module_version": "2.0.0",
      "model_name": "HTMLStyleModel",
      "state": {
       "description_width": "",
       "font_size": null,
       "text_color": null
      }
     },
     "989658ca84d94ac4a16669bb11b8936e": {
      "model_module": "@jupyter-widgets/controls",
      "model_module_version": "2.0.0",
      "model_name": "HTMLModel",
      "state": {
       "layout": "IPY_MODEL_c8ab78faf6ea4b92b44d49a99a0c1a2a",
       "style": "IPY_MODEL_54c6114d0de24321b9c8b244ca5f4816",
       "value": "100%"
      }
     },
     "9f83e0dba7c3416ba48204db7da75558": {
      "model_module": "@jupyter-widgets/base",
      "model_module_version": "2.0.0",
      "model_name": "LayoutModel",
      "state": {}
     },
     "a8c191ee38de4793b75fee472f5c8e6d": {
      "model_module": "@jupyter-widgets/base",
      "model_module_version": "2.0.0",
      "model_name": "LayoutModel",
      "state": {}
     },
     "b5e0f12646b049dc8adcf5a4e6666ad2": {
      "model_module": "@jupyter-widgets/controls",
      "model_module_version": "2.0.0",
      "model_name": "HTMLModel",
      "state": {
       "layout": "IPY_MODEL_6c8157b41223450a99a056c25db0ed82",
       "style": "IPY_MODEL_441a08aec0f74cb5b1b7140fadce8167",
       "value": "100%"
      }
     },
     "b902d54e63104336b8c362cf719d9031": {
      "model_module": "@jupyter-widgets/controls",
      "model_module_version": "2.0.0",
      "model_name": "FloatProgressModel",
      "state": {
       "bar_style": "success",
       "layout": "IPY_MODEL_d3a2348942994ceab283e14ac2df45c5",
       "max": 28,
       "style": "IPY_MODEL_433395ebd8a149f9a268efeadfc42b1e",
       "value": 28
      }
     },
     "c8ab78faf6ea4b92b44d49a99a0c1a2a": {
      "model_module": "@jupyter-widgets/base",
      "model_module_version": "2.0.0",
      "model_name": "LayoutModel",
      "state": {}
     },
     "d09eb8fd2fcb488489bb91a07c52b74c": {
      "model_module": "@jupyter-widgets/controls",
      "model_module_version": "2.0.0",
      "model_name": "HBoxModel",
      "state": {
       "children": [
        "IPY_MODEL_989658ca84d94ac4a16669bb11b8936e",
        "IPY_MODEL_22c8cad31ba04a6b83816dd7e4fc55c7",
        "IPY_MODEL_33257ff6c9864a0298914301e9cb8b51"
       ],
       "layout": "IPY_MODEL_a8c191ee38de4793b75fee472f5c8e6d"
      }
     },
     "d2d1c5806688410e8928ead56367f454": {
      "model_module": "@jupyter-widgets/base",
      "model_module_version": "2.0.0",
      "model_name": "LayoutModel",
      "state": {}
     },
     "d3a2348942994ceab283e14ac2df45c5": {
      "model_module": "@jupyter-widgets/base",
      "model_module_version": "2.0.0",
      "model_name": "LayoutModel",
      "state": {}
     },
     "d73fa5c930614795aa9c22d9d3c1d5b3": {
      "model_module": "@jupyter-widgets/base",
      "model_module_version": "2.0.0",
      "model_name": "LayoutModel",
      "state": {}
     },
     "ddb9f1e8278745bcad2984cb6bd755cd": {
      "model_module": "@jupyter-widgets/controls",
      "model_module_version": "2.0.0",
      "model_name": "HTMLModel",
      "state": {
       "layout": "IPY_MODEL_75e0ff6f9d524f3aa788d9b6669a7927",
       "style": "IPY_MODEL_8c07e71c92fd42319f3959180209f1d0",
       "value": " 28/28 [00:59&lt;00:00,  3.86s/it]"
      }
     },
     "f3c9616ef6c7452d992910450def24de": {
      "model_module": "@jupyter-widgets/controls",
      "model_module_version": "2.0.0",
      "model_name": "HTMLStyleModel",
      "state": {
       "description_width": "",
       "font_size": null,
       "text_color": null
      }
     }
    },
    "version_major": 2,
    "version_minor": 0
   }
  }
 },
 "nbformat": 4,
 "nbformat_minor": 4
}
