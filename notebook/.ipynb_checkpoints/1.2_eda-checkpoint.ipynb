{
 "cells": [
  {
   "cell_type": "code",
   "execution_count": 1,
   "metadata": {
    "ExecuteTime": {
     "end_time": "2023-11-14T11:18:50.030207Z",
     "start_time": "2023-11-14T11:18:50.009441Z"
    }
   },
   "outputs": [
    {
     "name": "stdout",
     "output_type": "stream",
     "text": [
      "Hello, world\n"
     ]
    }
   ],
   "source": [
    "print(\"Hello, world\")"
   ]
  },
  {
   "cell_type": "code",
   "execution_count": null,
   "metadata": {
    "ExecuteTime": {
     "end_time": "2023-11-14T11:19:02.507890Z",
     "start_time": "2023-11-14T11:19:02.503428Z"
    },
    "collapsed": false,
    "jupyter": {
     "outputs_hidden": false
    }
   },
   "outputs": [
    {
     "name": "stdout",
     "output_type": "stream",
     "text": [
      "Requirement already satisfied: numpy in d:\\anaconda3\\envs\\ds_practicum_env\\lib\\site-packages (1.23.5)\n"
     ]
    },
    {
     "name": "stderr",
     "output_type": "stream",
     "text": [
      "WARNING: Ignoring invalid distribution -atplotlib (d:\\anaconda3\\envs\\ds_practicum_env\\lib\\site-packages)\n",
      "WARNING: Ignoring invalid distribution -illow (d:\\anaconda3\\envs\\ds_practicum_env\\lib\\site-packages)\n",
      "WARNING: Ignoring invalid distribution -atplotlib (d:\\anaconda3\\envs\\ds_practicum_env\\lib\\site-packages)\n",
      "WARNING: Ignoring invalid distribution -illow (d:\\anaconda3\\envs\\ds_practicum_env\\lib\\site-packages)\n"
     ]
    },
    {
     "name": "stdout",
     "output_type": "stream",
     "text": [
      "Requirement already satisfied: faiss-cpu in d:\\anaconda3\\envs\\ds_practicum_env\\lib\\site-packages (1.7.4)\n"
     ]
    },
    {
     "name": "stderr",
     "output_type": "stream",
     "text": [
      "WARNING: Ignoring invalid distribution -atplotlib (d:\\anaconda3\\envs\\ds_practicum_env\\lib\\site-packages)\n",
      "WARNING: Ignoring invalid distribution -illow (d:\\anaconda3\\envs\\ds_practicum_env\\lib\\site-packages)\n",
      "WARNING: Ignoring invalid distribution -atplotlib (d:\\anaconda3\\envs\\ds_practicum_env\\lib\\site-packages)\n",
      "WARNING: Ignoring invalid distribution -illow (d:\\anaconda3\\envs\\ds_practicum_env\\lib\\site-packages)\n"
     ]
    }
   ],
   "source": [
    "!pip install numpy\n",
    "!pip install --use-pep517 faiss-cpu\n",
    "!pip install --use-pep517 faiss-gpu\n",
    "!pip install fastparquet\n",
    "!pip install --user matplotlib\n",
    "!pip install phik"
   ]
  },
  {
   "cell_type": "code",
   "execution_count": null,
   "metadata": {},
   "outputs": [],
   "source": []
  },
  {
   "cell_type": "code",
   "execution_count": null,
   "metadata": {},
   "outputs": [],
   "source": [
    "import pandas as pd\n",
    "import numpy as np\n",
    "import faiss\n",
    "from tqdm.notebook import tqdm\n",
    "from sklearn.preprocessing import RobustScaler\n",
    "\n",
    "import phik\n",
    "from phik.report import plot_correlation_matrix\n",
    "from phik import report\n",
    "\n",
    "import matplotlib.pyplot as plt"
   ]
  },
  {
   "cell_type": "code",
   "execution_count": null,
   "metadata": {
    "tags": []
   },
   "outputs": [],
   "source": [
    "#from joblib.parallel import parallel_config\n",
    "from joblib import parallel\n",
    "\n",
    "import os\n",
    "os.environ['JOBLIB_TEMP_FOLDER'] = 'F:/tmp/'\n"
   ]
  },
  {
   "cell_type": "markdown",
   "metadata": {},
   "source": [
    "## Load data"
   ]
  },
  {
   "cell_type": "markdown",
   "metadata": {},
   "source": [
    "### Base data"
   ]
  },
  {
   "cell_type": "code",
   "execution_count": null,
   "metadata": {},
   "outputs": [],
   "source": [
    "dict_base = {}\n",
    "for i in range(72):\n",
    "    dict_base[str(i)] = 'float32'\n",
    "dict_base\n",
    "dict_train = dict_base.copy()\n",
    "dict_train['Target'] = 'str'"
   ]
  },
  {
   "cell_type": "code",
   "execution_count": null,
   "metadata": {},
   "outputs": [],
   "source": [
    "df_base = pd.read_csv(\"../data/base.csv\", index_col=0, dtype=dict_base)\n",
    "df_base.head()"
   ]
  },
  {
   "cell_type": "markdown",
   "metadata": {},
   "source": [
    "### Train data"
   ]
  },
  {
   "cell_type": "code",
   "execution_count": null,
   "metadata": {},
   "outputs": [],
   "source": [
    "df_train = pd.read_csv(\"../data/train.csv\", index_col=0, dtype=dict_train)\n",
    "df_train.shape"
   ]
  },
  {
   "cell_type": "code",
   "execution_count": null,
   "metadata": {},
   "outputs": [],
   "source": [
    "df_train.head()"
   ]
  },
  {
   "cell_type": "code",
   "execution_count": null,
   "metadata": {},
   "outputs": [],
   "source": [
    "df_validation = pd.read_csv(\"../data/validation.csv\", index_col=0)\n",
    "df_validation.shape"
   ]
  },
  {
   "cell_type": "code",
   "execution_count": null,
   "metadata": {},
   "outputs": [],
   "source": [
    "df_validation.head()"
   ]
  },
  {
   "cell_type": "code",
   "execution_count": null,
   "metadata": {},
   "outputs": [],
   "source": [
    "df_validation_answer = pd.read_csv(\"../data/validation_answer.csv\", index_col=0)\n",
    "df_validation_answer.shape"
   ]
  },
  {
   "cell_type": "code",
   "execution_count": null,
   "metadata": {},
   "outputs": [],
   "source": [
    "df_validation_answer.head()"
   ]
  },
  {
   "cell_type": "markdown",
   "metadata": {},
   "source": [
    "## EDA"
   ]
  },
  {
   "cell_type": "code",
   "execution_count": null,
   "metadata": {},
   "outputs": [],
   "source": [
    "df_base.hist(figsize=[20, 20], bins=50);"
   ]
  },
  {
   "cell_type": "code",
   "execution_count": null,
   "metadata": {
    "ExecuteTime": {
     "end_time": "2023-11-15T09:29:11.608498Z",
     "start_time": "2023-11-15T09:29:11.507961Z"
    }
   },
   "outputs": [],
   "source": [
    "strange_features = [\"6\", \"21\", \"25\", \"33\", \"44\", \"59\", \"65\", \"70\"]"
   ]
  },
  {
   "cell_type": "code",
   "execution_count": null,
   "metadata": {
    "ExecuteTime": {
     "end_time": "2023-11-15T09:32:15.208969Z",
     "start_time": "2023-11-15T09:32:12.447826Z"
    }
   },
   "outputs": [],
   "source": [
    "df_base[strange_features].hist(figsize=[15, 15], bins=100)"
   ]
  },
  {
   "cell_type": "markdown",
   "metadata": {},
   "source": []
  },
  {
   "cell_type": "markdown",
   "metadata": {},
   "source": [
    "\n",
    "Фичи 6, 59,65 выглядят интересно в плане распределения. Возможно, данные фичи связаны с какими-то стандартными величинами, типа размера упаковки или чего-то подобного.\n",
    "Несмотря на то, что у 6 фичи есть явный выброс, ее можно оставить и создать новую категориальную фичу.\n",
    "59 и 65 - так же выглядят, как кандидаты для категоризации.\n",
    "\n",
    "Фичи 33 и 44 - распеределение не особо радует, поэтому категоризурем данные фичи.\n",
    "\n",
    "Фичи 21, 25, 70 - по идее, тоже можно было бы категоризовать, но у них есть сильный выбросы, что скорее всего помешает обучению.\n",
    "Данные фичи нужно исключить из выборки.\n",
    "\n",
    "Итого. 21, 25, 70 - удаляем из выборке.\n",
    "6, 59, 65,33 и 44 - сотавляем для дальнейшего анализа."
   ]
  },
  {
   "cell_type": "code",
   "execution_count": null,
   "metadata": {
    "tags": []
   },
   "outputs": [],
   "source": [
    "df_base = df_base.drop(columns=[\"21\", \"25\", \"70\"])\n",
    "df_train = df_train.drop(columns=[\"21\", \"25\", \"70\"])"
   ]
  },
  {
   "cell_type": "markdown",
   "metadata": {},
   "source": [
    "### Phik Correlations"
   ]
  },
  {
   "cell_type": "code",
   "execution_count": null,
   "metadata": {
    "tags": []
   },
   "outputs": [],
   "source": [
    "phik_corrs = df_base.phik_matrix()"
   ]
  },
  {
   "cell_type": "code",
   "execution_count": null,
   "metadata": {
    "tags": []
   },
   "outputs": [],
   "source": [
    "%%time\n",
    "plot_correlation_matrix(phik_corrs.values, \n",
    "                        x_labels=phik_corrs.columns, \n",
    "                        y_labels=phik_corrs.index, \n",
    "                        vmin=0, vmax=1, color_map=\"Blues\", \n",
    "                        title=r\"correlation $\\phi_K$\", \n",
    "                        fontsize_factor=1.5, \n",
    "                        figsize=(60, 60))\n",
    "plt.show()"
   ]
  },
  {
   "cell_type": "markdown",
   "metadata": {},
   "source": [
    "Отрицательный результат, тоже результат.\n",
    "По большоей части, ни каких корреляция между фичами нет, а значит и сильной мультиколлинеарности тоже не будет.\n",
    "Оставяем данные, как есть."
   ]
  },
  {
   "cell_type": "markdown",
   "metadata": {},
   "source": [
    "## Save data"
   ]
  },
  {
   "cell_type": "code",
   "execution_count": null,
   "metadata": {
    "tags": []
   },
   "outputs": [],
   "source": [
    "df_base.to_parquet(\"../tmp/cleared_df_base.parquet\", compression=\"gzip\")"
   ]
  },
  {
   "cell_type": "code",
   "execution_count": null,
   "metadata": {
    "tags": []
   },
   "outputs": [],
   "source": [
    "df_train.to_parquet(\"../tmp/cleared_df_train.parquet\", compression=\"gzip\")"
   ]
  }
 ],
 "metadata": {
  "kernelspec": {
   "display_name": "Python 3 (ipykernel)",
   "language": "python",
   "name": "python3"
  },
  "language_info": {
   "codemirror_mode": {
    "name": "ipython",
    "version": 3
   },
   "file_extension": ".py",
   "mimetype": "text/x-python",
   "name": "python",
   "nbconvert_exporter": "python",
   "pygments_lexer": "ipython3",
   "version": "3.9.18"
  },
  "widgets": {
   "application/vnd.jupyter.widget-state+json": {
    "state": {},
    "version_major": 2,
    "version_minor": 0
   }
  }
 },
 "nbformat": 4,
 "nbformat_minor": 4
}
