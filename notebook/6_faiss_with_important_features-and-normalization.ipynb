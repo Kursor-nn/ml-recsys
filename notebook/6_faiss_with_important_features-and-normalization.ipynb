{
 "cells": [
  {
   "cell_type": "code",
   "execution_count": 2,
   "metadata": {
    "ExecuteTime": {
     "end_time": "2023-11-14T19:16:18.213021Z",
     "start_time": "2023-11-14T19:16:18.123746Z"
    }
   },
   "outputs": [
    {
     "name": "stdout",
     "output_type": "stream",
     "text": [
      "Hello, world\n"
     ]
    }
   ],
   "source": [
    "print(\"Hello, world\")"
   ]
  },
  {
   "cell_type": "code",
   "execution_count": 3,
   "metadata": {
    "ExecuteTime": {
     "end_time": "2023-11-14T19:16:25.308624Z",
     "start_time": "2023-11-14T19:16:24.265148Z"
    },
    "collapsed": false,
    "jupyter": {
     "outputs_hidden": false
    }
   },
   "outputs": [],
   "source": [
    "import pandas as pd\n",
    "import numpy as np\n",
    "import faiss\n",
    "\n",
    "from tqdm.notebook import tqdm\n",
    "from sklearn.preprocessing import RobustScaler\n",
    "from sklearn.preprocessing import StandardScaler\n",
    "from sklearn.preprocessing import MinMaxScaler\n",
    "from sklearn.preprocessing import Normalizer\n",
    "from sklearn.preprocessing import MaxAbsScaler"
   ]
  },
  {
   "cell_type": "code",
   "execution_count": 4,
   "metadata": {},
   "outputs": [],
   "source": [
    "important_feautres = ['20', 'norm', 'log_20', '63_minus_10', '10_minus_63', '63', '10',\n",
    "       '63_minus_35', 'log_33', '35_plus_63', '46', '64', '61', '49',\n",
    "       '55', '35', '12', '8', '36', '39', '24', '26', '29', '60', '32',\n",
    "       '28', '27', '15', '52', '19', '37', '68', '22', '67', '3', '66',\n",
    "       '47', '30', '18', '56', '4', '50', '48', '11', '45', '58', '62',\n",
    "       '9', '34', '0', '41', '14', '17', '31', '71', '69', '43', '57',\n",
    "       '40', '53', '51', '16', '38']"
   ]
  },
  {
   "cell_type": "markdown",
   "metadata": {},
   "source": [
    "## Head-on Solution"
   ]
  },
  {
   "cell_type": "code",
   "execution_count": 5,
   "metadata": {
    "ExecuteTime": {
     "end_time": "2023-11-14T19:19:51.506802Z",
     "start_time": "2023-11-14T19:19:49.366504Z"
    },
    "collapsed": false,
    "jupyter": {
     "outputs_hidden": false
    }
   },
   "outputs": [],
   "source": [
    "df_base = pd.read_parquet(\"../tmp/cleared_df_base_new_features.parquet\")"
   ]
  },
  {
   "cell_type": "code",
   "execution_count": 6,
   "metadata": {},
   "outputs": [
    {
     "data": {
      "text/html": [
       "<div>\n",
       "<style scoped>\n",
       "    .dataframe tbody tr th:only-of-type {\n",
       "        vertical-align: middle;\n",
       "    }\n",
       "\n",
       "    .dataframe tbody tr th {\n",
       "        vertical-align: top;\n",
       "    }\n",
       "\n",
       "    .dataframe thead th {\n",
       "        text-align: right;\n",
       "    }\n",
       "</style>\n",
       "<table border=\"1\" class=\"dataframe\">\n",
       "  <thead>\n",
       "    <tr style=\"text-align: right;\">\n",
       "      <th></th>\n",
       "      <th>0</th>\n",
       "      <th>1</th>\n",
       "      <th>2</th>\n",
       "      <th>3</th>\n",
       "      <th>4</th>\n",
       "      <th>5</th>\n",
       "      <th>7</th>\n",
       "      <th>8</th>\n",
       "      <th>9</th>\n",
       "      <th>10</th>\n",
       "      <th>...</th>\n",
       "      <th>59</th>\n",
       "      <th>65</th>\n",
       "      <th>70</th>\n",
       "      <th>63_minus_10</th>\n",
       "      <th>10_minus_63</th>\n",
       "      <th>63_minus_35</th>\n",
       "      <th>35_plus_63</th>\n",
       "      <th>log_20</th>\n",
       "      <th>log_33</th>\n",
       "      <th>norm</th>\n",
       "    </tr>\n",
       "    <tr>\n",
       "      <th>Id</th>\n",
       "      <th></th>\n",
       "      <th></th>\n",
       "      <th></th>\n",
       "      <th></th>\n",
       "      <th></th>\n",
       "      <th></th>\n",
       "      <th></th>\n",
       "      <th></th>\n",
       "      <th></th>\n",
       "      <th></th>\n",
       "      <th></th>\n",
       "      <th></th>\n",
       "      <th></th>\n",
       "      <th></th>\n",
       "      <th></th>\n",
       "      <th></th>\n",
       "      <th></th>\n",
       "      <th></th>\n",
       "      <th></th>\n",
       "      <th></th>\n",
       "      <th></th>\n",
       "    </tr>\n",
       "  </thead>\n",
       "  <tbody>\n",
       "    <tr>\n",
       "      <th>0-base</th>\n",
       "      <td>-115.083893</td>\n",
       "      <td>11.152912</td>\n",
       "      <td>-64.426758</td>\n",
       "      <td>-118.880890</td>\n",
       "      <td>216.482437</td>\n",
       "      <td>-104.698059</td>\n",
       "      <td>44.348083</td>\n",
       "      <td>120.915344</td>\n",
       "      <td>181.449707</td>\n",
       "      <td>-124.061508</td>\n",
       "      <td>...</td>\n",
       "      <td>1.541230</td>\n",
       "      <td>-0.722587</td>\n",
       "      <td>1.349423</td>\n",
       "      <td>162.862335</td>\n",
       "      <td>-162.862335</td>\n",
       "      <td>72.717850</td>\n",
       "      <td>150.319504</td>\n",
       "      <td>10803.333984</td>\n",
       "      <td>0.021330</td>\n",
       "      <td>10833.963867</td>\n",
       "    </tr>\n",
       "    <tr>\n",
       "      <th>1-base</th>\n",
       "      <td>-34.562202</td>\n",
       "      <td>13.332763</td>\n",
       "      <td>-69.787613</td>\n",
       "      <td>-166.533478</td>\n",
       "      <td>57.680607</td>\n",
       "      <td>-86.098373</td>\n",
       "      <td>-35.637436</td>\n",
       "      <td>119.718636</td>\n",
       "      <td>195.234192</td>\n",
       "      <td>-141.304352</td>\n",
       "      <td>...</td>\n",
       "      <td>0.212176</td>\n",
       "      <td>-0.918577</td>\n",
       "      <td>1.424935</td>\n",
       "      <td>182.404358</td>\n",
       "      <td>-182.404358</td>\n",
       "      <td>12.294678</td>\n",
       "      <td>94.494675</td>\n",
       "      <td>6689.283691</td>\n",
       "      <td>0.740848</td>\n",
       "      <td>6740.816895</td>\n",
       "    </tr>\n",
       "    <tr>\n",
       "      <th>2-base</th>\n",
       "      <td>-54.233746</td>\n",
       "      <td>6.379371</td>\n",
       "      <td>-29.210136</td>\n",
       "      <td>-133.413834</td>\n",
       "      <td>150.895828</td>\n",
       "      <td>-99.435326</td>\n",
       "      <td>62.381706</td>\n",
       "      <td>128.951447</td>\n",
       "      <td>164.381470</td>\n",
       "      <td>-140.822449</td>\n",
       "      <td>...</td>\n",
       "      <td>-0.820666</td>\n",
       "      <td>0.941837</td>\n",
       "      <td>-0.520661</td>\n",
       "      <td>186.834259</td>\n",
       "      <td>-186.834259</td>\n",
       "      <td>33.769753</td>\n",
       "      <td>125.793358</td>\n",
       "      <td>6798.427246</td>\n",
       "      <td>0.516188</td>\n",
       "      <td>6843.204102</td>\n",
       "    </tr>\n",
       "    <tr>\n",
       "      <th>3-base</th>\n",
       "      <td>-87.520126</td>\n",
       "      <td>4.037884</td>\n",
       "      <td>-87.803032</td>\n",
       "      <td>-185.067627</td>\n",
       "      <td>76.369537</td>\n",
       "      <td>-58.985165</td>\n",
       "      <td>-33.611237</td>\n",
       "      <td>122.031914</td>\n",
       "      <td>136.233582</td>\n",
       "      <td>-108.470444</td>\n",
       "      <td>...</td>\n",
       "      <td>-0.865241</td>\n",
       "      <td>-0.405384</td>\n",
       "      <td>-0.520661</td>\n",
       "      <td>102.111526</td>\n",
       "      <td>-102.111526</td>\n",
       "      <td>99.165222</td>\n",
       "      <td>86.447388</td>\n",
       "      <td>11651.750977</td>\n",
       "      <td>0.000568</td>\n",
       "      <td>11676.433594</td>\n",
       "    </tr>\n",
       "    <tr>\n",
       "      <th>4-base</th>\n",
       "      <td>-72.743851</td>\n",
       "      <td>6.522048</td>\n",
       "      <td>43.671265</td>\n",
       "      <td>-140.608032</td>\n",
       "      <td>5.820023</td>\n",
       "      <td>-112.074081</td>\n",
       "      <td>45.182499</td>\n",
       "      <td>122.167183</td>\n",
       "      <td>112.119064</td>\n",
       "      <td>-110.342453</td>\n",
       "      <td>...</td>\n",
       "      <td>-0.822464</td>\n",
       "      <td>0.541299</td>\n",
       "      <td>-0.520661</td>\n",
       "      <td>166.984863</td>\n",
       "      <td>-166.984863</td>\n",
       "      <td>14.419121</td>\n",
       "      <td>127.703926</td>\n",
       "      <td>3345.922852</td>\n",
       "      <td>0.102511</td>\n",
       "      <td>3439.661621</td>\n",
       "    </tr>\n",
       "  </tbody>\n",
       "</table>\n",
       "<p>5 rows × 79 columns</p>\n",
       "</div>"
      ],
      "text/plain": [
       "                 0          1          2           3           4           5  \\\n",
       "Id                                                                             \n",
       "0-base -115.083893  11.152912 -64.426758 -118.880890  216.482437 -104.698059   \n",
       "1-base  -34.562202  13.332763 -69.787613 -166.533478   57.680607  -86.098373   \n",
       "2-base  -54.233746   6.379371 -29.210136 -133.413834  150.895828  -99.435326   \n",
       "3-base  -87.520126   4.037884 -87.803032 -185.067627   76.369537  -58.985165   \n",
       "4-base  -72.743851   6.522048  43.671265 -140.608032    5.820023 -112.074081   \n",
       "\n",
       "                7           8           9          10  ...        59  \\\n",
       "Id                                                     ...             \n",
       "0-base  44.348083  120.915344  181.449707 -124.061508  ...  1.541230   \n",
       "1-base -35.637436  119.718636  195.234192 -141.304352  ...  0.212176   \n",
       "2-base  62.381706  128.951447  164.381470 -140.822449  ... -0.820666   \n",
       "3-base -33.611237  122.031914  136.233582 -108.470444  ... -0.865241   \n",
       "4-base  45.182499  122.167183  112.119064 -110.342453  ... -0.822464   \n",
       "\n",
       "              65        70  63_minus_10  10_minus_63  63_minus_35  35_plus_63  \\\n",
       "Id                                                                              \n",
       "0-base -0.722587  1.349423   162.862335  -162.862335    72.717850  150.319504   \n",
       "1-base -0.918577  1.424935   182.404358  -182.404358    12.294678   94.494675   \n",
       "2-base  0.941837 -0.520661   186.834259  -186.834259    33.769753  125.793358   \n",
       "3-base -0.405384 -0.520661   102.111526  -102.111526    99.165222   86.447388   \n",
       "4-base  0.541299 -0.520661   166.984863  -166.984863    14.419121  127.703926   \n",
       "\n",
       "              log_20    log_33          norm  \n",
       "Id                                            \n",
       "0-base  10803.333984  0.021330  10833.963867  \n",
       "1-base   6689.283691  0.740848   6740.816895  \n",
       "2-base   6798.427246  0.516188   6843.204102  \n",
       "3-base  11651.750977  0.000568  11676.433594  \n",
       "4-base   3345.922852  0.102511   3439.661621  \n",
       "\n",
       "[5 rows x 79 columns]"
      ]
     },
     "execution_count": 6,
     "metadata": {},
     "output_type": "execute_result"
    }
   ],
   "source": [
    "df_base.head()"
   ]
  },
  {
   "cell_type": "code",
   "execution_count": 7,
   "metadata": {
    "ExecuteTime": {
     "end_time": "2023-11-14T19:19:53.360282Z",
     "start_time": "2023-11-14T19:19:52.656228Z"
    },
    "collapsed": false,
    "jupyter": {
     "outputs_hidden": false
    }
   },
   "outputs": [
    {
     "data": {
      "text/html": [
       "<div>\n",
       "<style scoped>\n",
       "    .dataframe tbody tr th:only-of-type {\n",
       "        vertical-align: middle;\n",
       "    }\n",
       "\n",
       "    .dataframe tbody tr th {\n",
       "        vertical-align: top;\n",
       "    }\n",
       "\n",
       "    .dataframe thead th {\n",
       "        text-align: right;\n",
       "    }\n",
       "</style>\n",
       "<table border=\"1\" class=\"dataframe\">\n",
       "  <thead>\n",
       "    <tr style=\"text-align: right;\">\n",
       "      <th></th>\n",
       "      <th>0</th>\n",
       "      <th>1</th>\n",
       "      <th>2</th>\n",
       "      <th>3</th>\n",
       "      <th>4</th>\n",
       "      <th>5</th>\n",
       "      <th>7</th>\n",
       "      <th>8</th>\n",
       "      <th>9</th>\n",
       "      <th>10</th>\n",
       "      <th>...</th>\n",
       "      <th>71</th>\n",
       "      <th>6</th>\n",
       "      <th>21</th>\n",
       "      <th>25</th>\n",
       "      <th>33</th>\n",
       "      <th>44</th>\n",
       "      <th>59</th>\n",
       "      <th>65</th>\n",
       "      <th>70</th>\n",
       "      <th>norm</th>\n",
       "    </tr>\n",
       "    <tr>\n",
       "      <th>Id</th>\n",
       "      <th></th>\n",
       "      <th></th>\n",
       "      <th></th>\n",
       "      <th></th>\n",
       "      <th></th>\n",
       "      <th></th>\n",
       "      <th></th>\n",
       "      <th></th>\n",
       "      <th></th>\n",
       "      <th></th>\n",
       "      <th></th>\n",
       "      <th></th>\n",
       "      <th></th>\n",
       "      <th></th>\n",
       "      <th></th>\n",
       "      <th></th>\n",
       "      <th></th>\n",
       "      <th></th>\n",
       "      <th></th>\n",
       "      <th></th>\n",
       "      <th></th>\n",
       "    </tr>\n",
       "  </thead>\n",
       "  <tbody>\n",
       "    <tr>\n",
       "      <th>0-query</th>\n",
       "      <td>-53.882748</td>\n",
       "      <td>17.971436</td>\n",
       "      <td>-42.117104</td>\n",
       "      <td>-183.936676</td>\n",
       "      <td>187.517487</td>\n",
       "      <td>-87.144928</td>\n",
       "      <td>38.307602</td>\n",
       "      <td>109.085564</td>\n",
       "      <td>30.413513</td>\n",
       "      <td>-88.082687</td>\n",
       "      <td>...</td>\n",
       "      <td>-25.958572</td>\n",
       "      <td>0.169541</td>\n",
       "      <td>-0.830982</td>\n",
       "      <td>0.247134</td>\n",
       "      <td>0.860725</td>\n",
       "      <td>0.395763</td>\n",
       "      <td>1.954331</td>\n",
       "      <td>-1.009224</td>\n",
       "      <td>0.778056</td>\n",
       "      <td>830.638733</td>\n",
       "    </tr>\n",
       "    <tr>\n",
       "      <th>1-query</th>\n",
       "      <td>-87.776367</td>\n",
       "      <td>6.806268</td>\n",
       "      <td>-32.054546</td>\n",
       "      <td>-177.260391</td>\n",
       "      <td>120.803329</td>\n",
       "      <td>-83.810593</td>\n",
       "      <td>-78.433090</td>\n",
       "      <td>124.915901</td>\n",
       "      <td>140.331070</td>\n",
       "      <td>-177.605804</td>\n",
       "      <td>...</td>\n",
       "      <td>-51.276833</td>\n",
       "      <td>0.879729</td>\n",
       "      <td>-1.554872</td>\n",
       "      <td>0.247134</td>\n",
       "      <td>1.176890</td>\n",
       "      <td>1.297239</td>\n",
       "      <td>-0.523412</td>\n",
       "      <td>-0.117699</td>\n",
       "      <td>0.069525</td>\n",
       "      <td>759.059692</td>\n",
       "    </tr>\n",
       "    <tr>\n",
       "      <th>2-query</th>\n",
       "      <td>-49.979565</td>\n",
       "      <td>3.841486</td>\n",
       "      <td>-116.118591</td>\n",
       "      <td>-180.401978</td>\n",
       "      <td>190.128433</td>\n",
       "      <td>-50.837620</td>\n",
       "      <td>-30.447489</td>\n",
       "      <td>125.771164</td>\n",
       "      <td>211.607819</td>\n",
       "      <td>-86.346558</td>\n",
       "      <td>...</td>\n",
       "      <td>-22.547178</td>\n",
       "      <td>1.416623</td>\n",
       "      <td>0.503497</td>\n",
       "      <td>0.247134</td>\n",
       "      <td>-1.887753</td>\n",
       "      <td>0.471004</td>\n",
       "      <td>0.555915</td>\n",
       "      <td>0.513739</td>\n",
       "      <td>-0.520661</td>\n",
       "      <td>809.018555</td>\n",
       "    </tr>\n",
       "    <tr>\n",
       "      <th>3-query</th>\n",
       "      <td>-47.810562</td>\n",
       "      <td>9.086598</td>\n",
       "      <td>-115.401695</td>\n",
       "      <td>-121.011360</td>\n",
       "      <td>94.652840</td>\n",
       "      <td>-109.255409</td>\n",
       "      <td>79.186523</td>\n",
       "      <td>124.003098</td>\n",
       "      <td>242.650650</td>\n",
       "      <td>-146.517075</td>\n",
       "      <td>...</td>\n",
       "      <td>-19.902788</td>\n",
       "      <td>-2.195064</td>\n",
       "      <td>0.503497</td>\n",
       "      <td>0.247134</td>\n",
       "      <td>-1.887753</td>\n",
       "      <td>0.447305</td>\n",
       "      <td>-0.227860</td>\n",
       "      <td>0.609955</td>\n",
       "      <td>-0.520661</td>\n",
       "      <td>779.801270</td>\n",
       "    </tr>\n",
       "    <tr>\n",
       "      <th>4-query</th>\n",
       "      <td>-79.632126</td>\n",
       "      <td>14.442886</td>\n",
       "      <td>-58.903397</td>\n",
       "      <td>-147.052536</td>\n",
       "      <td>57.127068</td>\n",
       "      <td>-16.239529</td>\n",
       "      <td>45.984676</td>\n",
       "      <td>125.941284</td>\n",
       "      <td>103.392670</td>\n",
       "      <td>-107.153023</td>\n",
       "      <td>...</td>\n",
       "      <td>-21.149351</td>\n",
       "      <td>0.233082</td>\n",
       "      <td>0.503497</td>\n",
       "      <td>0.247134</td>\n",
       "      <td>-0.718462</td>\n",
       "      <td>-0.680013</td>\n",
       "      <td>0.396024</td>\n",
       "      <td>-1.228321</td>\n",
       "      <td>-0.520661</td>\n",
       "      <td>729.090942</td>\n",
       "    </tr>\n",
       "  </tbody>\n",
       "</table>\n",
       "<p>5 rows × 73 columns</p>\n",
       "</div>"
      ],
      "text/plain": [
       "                 0          1           2           3           4           5  \\\n",
       "Id                                                                              \n",
       "0-query -53.882748  17.971436  -42.117104 -183.936676  187.517487  -87.144928   \n",
       "1-query -87.776367   6.806268  -32.054546 -177.260391  120.803329  -83.810593   \n",
       "2-query -49.979565   3.841486 -116.118591 -180.401978  190.128433  -50.837620   \n",
       "3-query -47.810562   9.086598 -115.401695 -121.011360   94.652840 -109.255409   \n",
       "4-query -79.632126  14.442886  -58.903397 -147.052536   57.127068  -16.239529   \n",
       "\n",
       "                 7           8           9          10  ...         71  \\\n",
       "Id                                                      ...              \n",
       "0-query  38.307602  109.085564   30.413513  -88.082687  ... -25.958572   \n",
       "1-query -78.433090  124.915901  140.331070 -177.605804  ... -51.276833   \n",
       "2-query -30.447489  125.771164  211.607819  -86.346558  ... -22.547178   \n",
       "3-query  79.186523  124.003098  242.650650 -146.517075  ... -19.902788   \n",
       "4-query  45.984676  125.941284  103.392670 -107.153023  ... -21.149351   \n",
       "\n",
       "                6        21        25        33        44        59        65  \\\n",
       "Id                                                                              \n",
       "0-query  0.169541 -0.830982  0.247134  0.860725  0.395763  1.954331 -1.009224   \n",
       "1-query  0.879729 -1.554872  0.247134  1.176890  1.297239 -0.523412 -0.117699   \n",
       "2-query  1.416623  0.503497  0.247134 -1.887753  0.471004  0.555915  0.513739   \n",
       "3-query -2.195064  0.503497  0.247134 -1.887753  0.447305 -0.227860  0.609955   \n",
       "4-query  0.233082  0.503497  0.247134 -0.718462 -0.680013  0.396024 -1.228321   \n",
       "\n",
       "               70        norm  \n",
       "Id                             \n",
       "0-query  0.778056  830.638733  \n",
       "1-query  0.069525  759.059692  \n",
       "2-query -0.520661  809.018555  \n",
       "3-query -0.520661  779.801270  \n",
       "4-query -0.520661  729.090942  \n",
       "\n",
       "[5 rows x 73 columns]"
      ]
     },
     "execution_count": 7,
     "metadata": {},
     "output_type": "execute_result"
    }
   ],
   "source": [
    "df_train = pd.read_parquet(\"../tmp/cleared_df_train_new_features.parquet\")\n",
    "df_train.head()"
   ]
  },
  {
   "cell_type": "code",
   "execution_count": 8,
   "metadata": {
    "collapsed": false,
    "jupyter": {
     "outputs_hidden": false
    }
   },
   "outputs": [],
   "source": [
    "dims = df_base.shape[1]\n",
    "n_cells = 50\n",
    "# how many cells\n",
    "quantizer = faiss.IndexFlatL2(dims)\n",
    "idx_l2 = faiss.IndexIVFFlat(quantizer, dims, n_cells)"
   ]
  },
  {
   "cell_type": "code",
   "execution_count": 9,
   "metadata": {},
   "outputs": [],
   "source": [
    "idx_l2.train(np.ascontiguousarray(df_base.values).astype('float32'))\n",
    "idx_l2.add(np.ascontiguousarray(df_base.values).astype('float32'))"
   ]
  },
  {
   "cell_type": "code",
   "execution_count": 10,
   "metadata": {},
   "outputs": [],
   "source": [
    "base_index = {k: v for k, v in enumerate(df_base.index.to_list())}\n",
    "#del df_base"
   ]
  },
  {
   "cell_type": "code",
   "execution_count": 11,
   "metadata": {},
   "outputs": [],
   "source": [
    "headon_solution_df_train = df_train.copy()\n",
    "targets = headon_solution_df_train[\"Target\"]\n",
    "headon_solution_df_train.drop(\"Target\", axis=1, inplace=True)"
   ]
  },
  {
   "cell_type": "code",
   "execution_count": 12,
   "metadata": {},
   "outputs": [
    {
     "name": "stdout",
     "output_type": "stream",
     "text": [
      "60.551\n",
      "CPU times: total: 10min 16s\n",
      "Wall time: 28.5 s\n"
     ]
    }
   ],
   "source": [
    "%%time\n",
    "k=5\n",
    "vecs, idx = idx_l2.search(np.ascontiguousarray(headon_solution_df_train.values).astype('float32'), k)\n",
    "\n",
    "acc = 0\n",
    "for target, el in zip(targets.values.tolist(), idx.tolist()):\n",
    "    acc += int(target in [base_index[r] for r in el])\n",
    "\n",
    "print(100 * acc / len(idx))"
   ]
  },
  {
   "cell_type": "markdown",
   "metadata": {},
   "source": [
    "### Вывод\n",
    "Решение в лоб - 5.575 попугаев.\n",
    "Очень низкая оценка."
   ]
  },
  {
   "cell_type": "markdown",
   "metadata": {},
   "source": [
    "## Scalers"
   ]
  },
  {
   "cell_type": "markdown",
   "metadata": {},
   "source": [
    "### StandardScaler"
   ]
  },
  {
   "cell_type": "code",
   "execution_count": 13,
   "metadata": {},
   "outputs": [],
   "source": [
    "def checkStandardScaler(base, train):\n",
    "    scaler = StandardScaler()\n",
    "    scaler.fit(base)\n",
    "\n",
    "    tbase = scaler.transform(base)\n",
    "    tbase = pd.DataFrame(tbase, columns=base.columns)\n",
    "    tbase[\"Id\"] = base.index\n",
    "    tbase = tbase.set_index([\"Id\"])\n",
    "    \n",
    "    ttrain = scaler.transform(train[base.columns])\n",
    "\n",
    "    ttrain = pd.DataFrame(ttrain, columns=base.columns)\n",
    "    ttrain[\"Id\"] = train.index\n",
    "    ttrain = ttrain.set_index([\"Id\"])\n",
    "    ttrain[\"Target\"] = train[\"Target\"]\n",
    "\n",
    "    return tbase, ttrain, scaler"
   ]
  },
  {
   "cell_type": "code",
   "execution_count": 14,
   "metadata": {},
   "outputs": [],
   "source": [
    "sscaler_base, sscaler_train, _ = checkStandardScaler(df_base, df_train)"
   ]
  },
  {
   "cell_type": "code",
   "execution_count": 15,
   "metadata": {},
   "outputs": [],
   "source": [
    "def buildA5Score(df_base, df_train, short=True, k=10):\n",
    "    dims = df_base.shape[1]\n",
    "    n_cells = 50\n",
    "    # how many cells\n",
    "    quantizer = faiss.IndexFlatL2(dims)\n",
    "    idx_l2 = faiss.IndexIVFFlat(quantizer, dims, n_cells)\n",
    "    idx_l2.train(np.ascontiguousarray(df_base.values).astype('float32'))\n",
    "    idx_l2.add(np.ascontiguousarray(df_base.values).astype('float32'))\n",
    "    \n",
    "    base_index = {k: v for k, v in enumerate(df_base.index.to_list())}\n",
    "    #del df_base\n",
    "    \n",
    "    headon_solution_df_train = df_train.copy()\n",
    "    targets = headon_solution_df_train[\"Target\"]\n",
    "    headon_solution_df_train.drop(\"Target\", axis=1, inplace=True)\n",
    "\n",
    "    vecs, idx = idx_l2.search(np.ascontiguousarray(headon_solution_df_train.values).astype('float32'), k)\n",
    "    \n",
    "    acc = 0\n",
    "    for target, el in zip(targets.values.tolist(), idx.tolist()):\n",
    "        acc += int(target in [base_index[r] for r in el])\n",
    "    \n",
    "    return 100 * acc / len(idx)"
   ]
  },
  {
   "cell_type": "code",
   "execution_count": 16,
   "metadata": {},
   "outputs": [
    {
     "name": "stdout",
     "output_type": "stream",
     "text": [
      "A@5 Score on Standard Scaler : 59.031\n",
      "CPU times: total: 11min 46s\n",
      "Wall time: 33.7 s\n"
     ]
    }
   ],
   "source": [
    "%%time\n",
    "print(\"A@5 Score on Standard Scaler :\", buildA5Score(sscaler_base, sscaler_train))"
   ]
  },
  {
   "cell_type": "markdown",
   "metadata": {},
   "source": [
    "### RobustScaler"
   ]
  },
  {
   "cell_type": "code",
   "execution_count": 8,
   "metadata": {},
   "outputs": [],
   "source": [
    "def checkRobustScaler(base, train):\n",
    "    scaler = RobustScaler()\n",
    "    scaler.fit(base)\n",
    "\n",
    "    tbase = scaler.transform(base)\n",
    "    tbase = pd.DataFrame(tbase, columns=base.columns)\n",
    "    tbase[\"Id\"] = base.index\n",
    "    tbase = tbase.set_index([\"Id\"])\n",
    "    \n",
    "    ttrain = scaler.transform(train[base.columns])\n",
    "\n",
    "    ttrain = pd.DataFrame(ttrain, columns=base.columns)\n",
    "    ttrain[\"Id\"] = train.index\n",
    "    ttrain = ttrain.set_index([\"Id\"])\n",
    "    ttrain[\"Target\"] = train[\"Target\"]\n",
    "\n",
    "    return tbase, ttrain, scaler"
   ]
  },
  {
   "cell_type": "code",
   "execution_count": 18,
   "metadata": {},
   "outputs": [],
   "source": [
    "important_feautres_for_train = important_feautres.copy()\n",
    "important_feautres_for_train.append(\"Target\")\n",
    "rscaler_base, rscaler_train, _ = checkRobustScaler(df_base[important_feautres], df_train[important_feautres_for_train])"
   ]
  },
  {
   "cell_type": "code",
   "execution_count": 19,
   "metadata": {},
   "outputs": [
    {
     "name": "stdout",
     "output_type": "stream",
     "text": [
      "A@5 Score on Robust Scaler : 61.621\n",
      "CPU times: total: 10min 30s\n",
      "Wall time: 29.2 s\n"
     ]
    }
   ],
   "source": [
    "%%time\n",
    "print(\"A@5 Score on Robust Scaler :\", buildA5Score(rscaler_base, rscaler_train, k=5))"
   ]
  },
  {
   "cell_type": "markdown",
   "metadata": {},
   "source": [
    "### MinMaxScaler"
   ]
  },
  {
   "cell_type": "code",
   "execution_count": 20,
   "metadata": {},
   "outputs": [],
   "source": [
    "def checkMinMaxScaler(base, train):\n",
    "    scaler = MinMaxScaler()\n",
    "    scaler.fit(base)\n",
    "\n",
    "    tbase = scaler.transform(base)\n",
    "    tbase = pd.DataFrame(tbase, columns=base.columns)\n",
    "    tbase[\"Id\"] = base.index\n",
    "    tbase = tbase.set_index([\"Id\"])\n",
    "    \n",
    "    ttrain = scaler.transform(train[base.columns])\n",
    "\n",
    "    ttrain = pd.DataFrame(ttrain, columns=base.columns)\n",
    "    ttrain[\"Id\"] = train.index\n",
    "    ttrain = ttrain.set_index([\"Id\"])\n",
    "    ttrain[\"Target\"] = train[\"Target\"]\n",
    "\n",
    "    return tbase, ttrain, scaler"
   ]
  },
  {
   "cell_type": "code",
   "execution_count": 21,
   "metadata": {},
   "outputs": [],
   "source": [
    "mmscaler_base, mmscaler_train, _ = checkMinMaxScaler(df_base, df_train)"
   ]
  },
  {
   "cell_type": "code",
   "execution_count": 22,
   "metadata": {},
   "outputs": [
    {
     "name": "stdout",
     "output_type": "stream",
     "text": [
      "A@5 Score on Min Max Scaler : 61.7\n",
      "CPU times: total: 11min 58s\n",
      "Wall time: 34.4 s\n"
     ]
    }
   ],
   "source": [
    "%%time\n",
    "print(\"A@5 Score on Min Max Scaler :\", buildA5Score(mmscaler_base, mmscaler_train))"
   ]
  },
  {
   "cell_type": "markdown",
   "metadata": {},
   "source": [
    "### Normalizer"
   ]
  },
  {
   "cell_type": "code",
   "execution_count": 23,
   "metadata": {},
   "outputs": [],
   "source": [
    "def checkNormalizer(base, train):\n",
    "    scaler = Normalizer()\n",
    "    scaler.fit(base)\n",
    "\n",
    "    tbase = scaler.transform(base)\n",
    "    tbase = pd.DataFrame(tbase, columns=base.columns)\n",
    "    tbase[\"Id\"] = base.index\n",
    "    tbase = tbase.set_index([\"Id\"])\n",
    "    \n",
    "    ttrain = scaler.transform(train[base.columns])\n",
    "\n",
    "    ttrain = pd.DataFrame(ttrain, columns=base.columns)\n",
    "    ttrain[\"Id\"] = train.index\n",
    "    ttrain = ttrain.set_index([\"Id\"])\n",
    "    ttrain[\"Target\"] = train[\"Target\"]\n",
    "\n",
    "    return tbase, ttrain, scaler"
   ]
  },
  {
   "cell_type": "code",
   "execution_count": 24,
   "metadata": {},
   "outputs": [],
   "source": [
    "normscaler_base, normscaler_train, _ = checkNormalizer(df_base, df_train)"
   ]
  },
  {
   "cell_type": "code",
   "execution_count": 25,
   "metadata": {},
   "outputs": [
    {
     "name": "stdout",
     "output_type": "stream",
     "text": [
      "A@5 Score on Normalizer : 62.008\n",
      "CPU times: total: 10min 36s\n",
      "Wall time: 30.5 s\n"
     ]
    }
   ],
   "source": [
    "%%time\n",
    "print(\"A@5 Score on Normalizer :\", buildA5Score(normscaler_base, normscaler_train))"
   ]
  },
  {
   "cell_type": "markdown",
   "metadata": {},
   "source": [
    "### MaxAbsScaler"
   ]
  },
  {
   "cell_type": "code",
   "execution_count": 26,
   "metadata": {},
   "outputs": [],
   "source": [
    "def checkMaxAbsScaler(base, train):\n",
    "    scaler = MaxAbsScaler()\n",
    "    scaler.fit(base)\n",
    "\n",
    "    tbase = scaler.transform(base)\n",
    "    tbase = pd.DataFrame(tbase, columns=base.columns)\n",
    "    tbase[\"Id\"] = base.index\n",
    "    tbase = tbase.set_index([\"Id\"])\n",
    "    \n",
    "    ttrain = scaler.transform(train[base.columns])\n",
    "\n",
    "    ttrain = pd.DataFrame(ttrain, columns=base.columns)\n",
    "    ttrain[\"Id\"] = train.index\n",
    "    ttrain = ttrain.set_index([\"Id\"])\n",
    "    ttrain[\"Target\"] = train[\"Target\"]\n",
    "\n",
    "    return tbase, ttrain, scaler"
   ]
  },
  {
   "cell_type": "code",
   "execution_count": 27,
   "metadata": {},
   "outputs": [],
   "source": [
    "maxAbsscaler_base, maxAbsscaler_train, _ = checkMaxAbsScaler(df_base, df_train)"
   ]
  },
  {
   "cell_type": "code",
   "execution_count": 28,
   "metadata": {},
   "outputs": [
    {
     "name": "stdout",
     "output_type": "stream",
     "text": [
      "A@5 Score on Max Abs Scaler : 50.261\n",
      "CPU times: total: 11min 42s\n",
      "Wall time: 33.7 s\n"
     ]
    }
   ],
   "source": [
    "%%time\n",
    "print(\"A@5 Score on Max Abs Scaler :\", buildA5Score(maxAbsscaler_base, maxAbsscaler_train))"
   ]
  },
  {
   "cell_type": "markdown",
   "metadata": {},
   "source": [
    "## FIASS Tuning"
   ]
  },
  {
   "cell_type": "markdown",
   "metadata": {},
   "source": [
    "### IndexLSH"
   ]
  },
  {
   "cell_type": "code",
   "execution_count": 10,
   "metadata": {},
   "outputs": [],
   "source": [
    "lsh_failed_targets = []\n",
    "\n",
    "def buildA5ScoreV2(df_base, df_train, short=True, k_value=50):\n",
    "    dims = df_base.shape[1]\n",
    "    n_cells = 100\n",
    "    # how many cells\n",
    "    #quantizer = faiss.IndexHNSWFlat(dims)\n",
    "    #idx_l2 = faiss.IndexIVFFlat(quantizer, dims, n_cells)\n",
    "    idx_l2 = faiss.IndexLSH(dims, 2048)\n",
    "    if short:\n",
    "        idx_l2.train(np.ascontiguousarray(df_base[:50000].values).astype('float32'))\n",
    "        idx_l2.add(np.ascontiguousarray(df_base[:50000].values).astype('float32'))\n",
    "    else:\n",
    "        idx_l2.train(np.ascontiguousarray(df_base.values).astype('float32'))\n",
    "        idx_l2.add(np.ascontiguousarray(df_base.values).astype('float32'))\n",
    "    \n",
    "    base_index = {k: v for k, v in enumerate(df_base.index.to_list())}\n",
    "    #del df_base\n",
    "    \n",
    "    headon_solution_df_train = df_train.copy()\n",
    "    targets = headon_solution_df_train[\"Target\"]\n",
    "    headon_solution_df_train.drop(\"Target\", axis=1, inplace=True)\n",
    "\n",
    "    k=k_value\n",
    "    vecs, idx = idx_l2.search(np.ascontiguousarray(headon_solution_df_train.values).astype('float32'), k)\n",
    "    \n",
    "    acc = 0\n",
    "    for target, el in zip(targets.values.tolist(), idx.tolist()):\n",
    "        plus_one = int(target in [base_index[r] for r in el])\n",
    "        acc += plus_one\n",
    "        if plus_one == 0:\n",
    "            lsh_failed_targets.append(target)\n",
    "    \n",
    "    return 100 * acc / len(idx), idx_l2"
   ]
  },
  {
   "cell_type": "code",
   "execution_count": 11,
   "metadata": {},
   "outputs": [],
   "source": [
    "important_feautres = ['20', 'norm', 'log_20', '63_minus_10', '10_minus_63', '63', '10',\n",
    "       '63_minus_35', 'log_33', '35_plus_63', '46', '64', '61', '49',\n",
    "       '55', '35', '12', '8', '36', '39', '24', '26', '29', '60', '32',\n",
    "       '28', '27', '15', '52', '19', '37', '68', '22', '67', '3', '66',\n",
    "       '47', '30', '18', '56', '4', '50', '48', '11', '45', '58', '62',\n",
    "       '9', '34', '0', '41', '14', '17', '31', '71', '69', '43', '57',\n",
    "       '40', '53', '51', '16', '38']\n",
    "\n",
    "important_feautres_for_train = important_feautres.copy()\n",
    "important_feautres_for_train.append(\"Target\")"
   ]
  },
  {
   "cell_type": "code",
   "execution_count": 139,
   "metadata": {},
   "outputs": [],
   "source": [
    "#numer_of_imprtant_features = len(important_feautres)\n",
    "#mat = faiss.PCAMatrix (numer_of_imprtant_features, numer_of_imprtant_features-10)\n",
    "#mat.train(df_base[important_feautres].values)\n",
    "#assert mat.is_trained\n",
    "#base_array = mat.apply(df_base[important_feautres].values)\n",
    "#train_array = mat.apply(df_train[important_feautres].values)\n",
    "# print this to show that the magnitude of tr's columns is decreasin\n",
    "#df_pca_base = pd.DataFrame(base_array)\n",
    "#df_pca_train = pd.DataFrame(train_array)\n",
    "#df_pca_train[\"Target\"] = pd.Series(df_train[\"Target\"].values)\n"
   ]
  },
  {
   "cell_type": "code",
   "execution_count": 12,
   "metadata": {},
   "outputs": [
    {
     "ename": "KeyError",
     "evalue": "\"['log_20', '63_minus_10', '10_minus_63', '63_minus_35', 'log_33', '35_plus_63', 'Target'] not in index\"",
     "output_type": "error",
     "traceback": [
      "\u001b[1;31m---------------------------------------------------------------------------\u001b[0m",
      "\u001b[1;31mKeyError\u001b[0m                                  Traceback (most recent call last)",
      "Cell \u001b[1;32mIn[12], line 1\u001b[0m\n\u001b[1;32m----> 1\u001b[0m rscaler_base, rscaler_train, _ \u001b[38;5;241m=\u001b[39m checkRobustScaler(df_base[important_feautres], \u001b[43mdf_train\u001b[49m\u001b[43m[\u001b[49m\u001b[43mimportant_feautres_for_train\u001b[49m\u001b[43m]\u001b[49m)\n",
      "File \u001b[1;32mD:\\anaconda3\\envs\\ds_practicum_env\\lib\\site-packages\\pandas\\core\\frame.py:3899\u001b[0m, in \u001b[0;36mDataFrame.__getitem__\u001b[1;34m(self, key)\u001b[0m\n\u001b[0;32m   3897\u001b[0m     \u001b[38;5;28;01mif\u001b[39;00m is_iterator(key):\n\u001b[0;32m   3898\u001b[0m         key \u001b[38;5;241m=\u001b[39m \u001b[38;5;28mlist\u001b[39m(key)\n\u001b[1;32m-> 3899\u001b[0m     indexer \u001b[38;5;241m=\u001b[39m \u001b[38;5;28;43mself\u001b[39;49m\u001b[38;5;241;43m.\u001b[39;49m\u001b[43mcolumns\u001b[49m\u001b[38;5;241;43m.\u001b[39;49m\u001b[43m_get_indexer_strict\u001b[49m\u001b[43m(\u001b[49m\u001b[43mkey\u001b[49m\u001b[43m,\u001b[49m\u001b[43m \u001b[49m\u001b[38;5;124;43m\"\u001b[39;49m\u001b[38;5;124;43mcolumns\u001b[39;49m\u001b[38;5;124;43m\"\u001b[39;49m\u001b[43m)\u001b[49m[\u001b[38;5;241m1\u001b[39m]\n\u001b[0;32m   3901\u001b[0m \u001b[38;5;66;03m# take() does not accept boolean indexers\u001b[39;00m\n\u001b[0;32m   3902\u001b[0m \u001b[38;5;28;01mif\u001b[39;00m \u001b[38;5;28mgetattr\u001b[39m(indexer, \u001b[38;5;124m\"\u001b[39m\u001b[38;5;124mdtype\u001b[39m\u001b[38;5;124m\"\u001b[39m, \u001b[38;5;28;01mNone\u001b[39;00m) \u001b[38;5;241m==\u001b[39m \u001b[38;5;28mbool\u001b[39m:\n",
      "File \u001b[1;32mD:\\anaconda3\\envs\\ds_practicum_env\\lib\\site-packages\\pandas\\core\\indexes\\base.py:6114\u001b[0m, in \u001b[0;36mIndex._get_indexer_strict\u001b[1;34m(self, key, axis_name)\u001b[0m\n\u001b[0;32m   6111\u001b[0m \u001b[38;5;28;01melse\u001b[39;00m:\n\u001b[0;32m   6112\u001b[0m     keyarr, indexer, new_indexer \u001b[38;5;241m=\u001b[39m \u001b[38;5;28mself\u001b[39m\u001b[38;5;241m.\u001b[39m_reindex_non_unique(keyarr)\n\u001b[1;32m-> 6114\u001b[0m \u001b[38;5;28;43mself\u001b[39;49m\u001b[38;5;241;43m.\u001b[39;49m\u001b[43m_raise_if_missing\u001b[49m\u001b[43m(\u001b[49m\u001b[43mkeyarr\u001b[49m\u001b[43m,\u001b[49m\u001b[43m \u001b[49m\u001b[43mindexer\u001b[49m\u001b[43m,\u001b[49m\u001b[43m \u001b[49m\u001b[43maxis_name\u001b[49m\u001b[43m)\u001b[49m\n\u001b[0;32m   6116\u001b[0m keyarr \u001b[38;5;241m=\u001b[39m \u001b[38;5;28mself\u001b[39m\u001b[38;5;241m.\u001b[39mtake(indexer)\n\u001b[0;32m   6117\u001b[0m \u001b[38;5;28;01mif\u001b[39;00m \u001b[38;5;28misinstance\u001b[39m(key, Index):\n\u001b[0;32m   6118\u001b[0m     \u001b[38;5;66;03m# GH 42790 - Preserve name from an Index\u001b[39;00m\n",
      "File \u001b[1;32mD:\\anaconda3\\envs\\ds_practicum_env\\lib\\site-packages\\pandas\\core\\indexes\\base.py:6178\u001b[0m, in \u001b[0;36mIndex._raise_if_missing\u001b[1;34m(self, key, indexer, axis_name)\u001b[0m\n\u001b[0;32m   6175\u001b[0m     \u001b[38;5;28;01mraise\u001b[39;00m \u001b[38;5;167;01mKeyError\u001b[39;00m(\u001b[38;5;124mf\u001b[39m\u001b[38;5;124m\"\u001b[39m\u001b[38;5;124mNone of [\u001b[39m\u001b[38;5;132;01m{\u001b[39;00mkey\u001b[38;5;132;01m}\u001b[39;00m\u001b[38;5;124m] are in the [\u001b[39m\u001b[38;5;132;01m{\u001b[39;00maxis_name\u001b[38;5;132;01m}\u001b[39;00m\u001b[38;5;124m]\u001b[39m\u001b[38;5;124m\"\u001b[39m)\n\u001b[0;32m   6177\u001b[0m not_found \u001b[38;5;241m=\u001b[39m \u001b[38;5;28mlist\u001b[39m(ensure_index(key)[missing_mask\u001b[38;5;241m.\u001b[39mnonzero()[\u001b[38;5;241m0\u001b[39m]]\u001b[38;5;241m.\u001b[39munique())\n\u001b[1;32m-> 6178\u001b[0m \u001b[38;5;28;01mraise\u001b[39;00m \u001b[38;5;167;01mKeyError\u001b[39;00m(\u001b[38;5;124mf\u001b[39m\u001b[38;5;124m\"\u001b[39m\u001b[38;5;132;01m{\u001b[39;00mnot_found\u001b[38;5;132;01m}\u001b[39;00m\u001b[38;5;124m not in index\u001b[39m\u001b[38;5;124m\"\u001b[39m)\n",
      "\u001b[1;31mKeyError\u001b[0m: \"['log_20', '63_minus_10', '10_minus_63', '63_minus_35', 'log_33', '35_plus_63', 'Target'] not in index\""
     ]
    }
   ],
   "source": [
    "rscaler_base, rscaler_train, _ = checkRobustScaler(df_base[important_feautres], df_train[important_feautres_for_train])"
   ]
  },
  {
   "cell_type": "code",
   "execution_count": null,
   "metadata": {},
   "outputs": [],
   "source": [
    "%%time\n",
    "lsh_score, lsh_index = buildA5ScoreV2(rscaler_base, rscaler_train, short=False, k_value=5)\n",
    "print(\"A@5 Score on Robust Scaler V2:\", lsh_score)"
   ]
  },
  {
   "cell_type": "code",
   "execution_count": 150,
   "metadata": {},
   "outputs": [
    {
     "data": {
      "text/plain": [
       "69.675"
      ]
     },
     "execution_count": 150,
     "metadata": {},
     "output_type": "execute_result"
    }
   ],
   "source": [
    "lsh_score"
   ]
  },
  {
   "cell_type": "code",
   "execution_count": null,
   "metadata": {},
   "outputs": [],
   "source": []
  },
  {
   "cell_type": "code",
   "execution_count": null,
   "metadata": {},
   "outputs": [],
   "source": []
  },
  {
   "cell_type": "code",
   "execution_count": null,
   "metadata": {},
   "outputs": [],
   "source": []
  },
  {
   "cell_type": "code",
   "execution_count": null,
   "metadata": {},
   "outputs": [],
   "source": []
  },
  {
   "cell_type": "code",
   "execution_count": null,
   "metadata": {},
   "outputs": [],
   "source": []
  },
  {
   "cell_type": "code",
   "execution_count": null,
   "metadata": {},
   "outputs": [],
   "source": []
  },
  {
   "cell_type": "code",
   "execution_count": null,
   "metadata": {},
   "outputs": [],
   "source": []
  },
  {
   "cell_type": "code",
   "execution_count": null,
   "metadata": {},
   "outputs": [],
   "source": []
  },
  {
   "cell_type": "code",
   "execution_count": null,
   "metadata": {},
   "outputs": [],
   "source": []
  },
  {
   "cell_type": "code",
   "execution_count": null,
   "metadata": {},
   "outputs": [],
   "source": []
  },
  {
   "cell_type": "code",
   "execution_count": 44,
   "metadata": {},
   "outputs": [
    {
     "data": {
      "text/plain": [
       "'675816-base'"
      ]
     },
     "execution_count": 44,
     "metadata": {},
     "output_type": "execute_result"
    }
   ],
   "source": [
    "lsh_failed_targets[0]"
   ]
  },
  {
   "cell_type": "code",
   "execution_count": 62,
   "metadata": {},
   "outputs": [],
   "source": [
    "train1 = rscaler_train[rscaler_train['Target'] == '675816-base']"
   ]
  },
  {
   "cell_type": "code",
   "execution_count": 71,
   "metadata": {},
   "outputs": [
    {
     "data": {
      "text/html": [
       "<div>\n",
       "<style scoped>\n",
       "    .dataframe tbody tr th:only-of-type {\n",
       "        vertical-align: middle;\n",
       "    }\n",
       "\n",
       "    .dataframe tbody tr th {\n",
       "        vertical-align: top;\n",
       "    }\n",
       "\n",
       "    .dataframe thead th {\n",
       "        text-align: right;\n",
       "    }\n",
       "</style>\n",
       "<table border=\"1\" class=\"dataframe\">\n",
       "  <thead>\n",
       "    <tr style=\"text-align: right;\">\n",
       "      <th></th>\n",
       "      <th>46</th>\n",
       "      <th>67</th>\n",
       "      <th>37</th>\n",
       "      <th>62</th>\n",
       "      <th>32</th>\n",
       "      <th>26</th>\n",
       "      <th>27</th>\n",
       "      <th>47</th>\n",
       "      <th>31</th>\n",
       "      <th>61</th>\n",
       "      <th>...</th>\n",
       "      <th>41</th>\n",
       "      <th>7</th>\n",
       "      <th>56</th>\n",
       "      <th>35</th>\n",
       "      <th>13</th>\n",
       "      <th>11</th>\n",
       "      <th>1</th>\n",
       "      <th>54</th>\n",
       "      <th>42</th>\n",
       "      <th>21</th>\n",
       "    </tr>\n",
       "    <tr>\n",
       "      <th>Id</th>\n",
       "      <th></th>\n",
       "      <th></th>\n",
       "      <th></th>\n",
       "      <th></th>\n",
       "      <th></th>\n",
       "      <th></th>\n",
       "      <th></th>\n",
       "      <th></th>\n",
       "      <th></th>\n",
       "      <th></th>\n",
       "      <th></th>\n",
       "      <th></th>\n",
       "      <th></th>\n",
       "      <th></th>\n",
       "      <th></th>\n",
       "      <th></th>\n",
       "      <th></th>\n",
       "      <th></th>\n",
       "      <th></th>\n",
       "      <th></th>\n",
       "      <th></th>\n",
       "    </tr>\n",
       "  </thead>\n",
       "  <tbody>\n",
       "    <tr>\n",
       "      <th>675816-base</th>\n",
       "      <td>-0.285559</td>\n",
       "      <td>0.304065</td>\n",
       "      <td>-0.249466</td>\n",
       "      <td>-0.715156</td>\n",
       "      <td>0.542517</td>\n",
       "      <td>-0.32499</td>\n",
       "      <td>-0.396894</td>\n",
       "      <td>-0.954194</td>\n",
       "      <td>-0.27643</td>\n",
       "      <td>-0.415762</td>\n",
       "      <td>...</td>\n",
       "      <td>-0.130911</td>\n",
       "      <td>-0.087255</td>\n",
       "      <td>0.688407</td>\n",
       "      <td>-1.084891</td>\n",
       "      <td>0.101657</td>\n",
       "      <td>0.328388</td>\n",
       "      <td>1.349459</td>\n",
       "      <td>-0.554402</td>\n",
       "      <td>-0.210944</td>\n",
       "      <td>0.0</td>\n",
       "    </tr>\n",
       "  </tbody>\n",
       "</table>\n",
       "<p>1 rows × 63 columns</p>\n",
       "</div>"
      ],
      "text/plain": [
       "                   46        67        37        62        32       26  \\\n",
       "Id                                                                       \n",
       "675816-base -0.285559  0.304065 -0.249466 -0.715156  0.542517 -0.32499   \n",
       "\n",
       "                   27        47       31        61  ...        41         7  \\\n",
       "Id                                                  ...                       \n",
       "675816-base -0.396894 -0.954194 -0.27643 -0.415762  ... -0.130911 -0.087255   \n",
       "\n",
       "                   56        35        13        11         1        54  \\\n",
       "Id                                                                        \n",
       "675816-base  0.688407 -1.084891  0.101657  0.328388  1.349459 -0.554402   \n",
       "\n",
       "                   42   21  \n",
       "Id                          \n",
       "675816-base -0.210944  0.0  \n",
       "\n",
       "[1 rows x 63 columns]"
      ]
     },
     "execution_count": 71,
     "metadata": {},
     "output_type": "execute_result"
    }
   ],
   "source": [
    "base1 = rscaler_base[rscaler_base.index == '675816-base']\n",
    "base1"
   ]
  },
  {
   "cell_type": "code",
   "execution_count": 72,
   "metadata": {},
   "outputs": [
    {
     "data": {
      "text/html": [
       "<div>\n",
       "<style scoped>\n",
       "    .dataframe tbody tr th:only-of-type {\n",
       "        vertical-align: middle;\n",
       "    }\n",
       "\n",
       "    .dataframe tbody tr th {\n",
       "        vertical-align: top;\n",
       "    }\n",
       "\n",
       "    .dataframe thead th {\n",
       "        text-align: right;\n",
       "    }\n",
       "</style>\n",
       "<table border=\"1\" class=\"dataframe\">\n",
       "  <thead>\n",
       "    <tr style=\"text-align: right;\">\n",
       "      <th></th>\n",
       "      <th>46</th>\n",
       "      <th>67</th>\n",
       "      <th>37</th>\n",
       "      <th>62</th>\n",
       "      <th>32</th>\n",
       "      <th>26</th>\n",
       "      <th>27</th>\n",
       "      <th>47</th>\n",
       "      <th>31</th>\n",
       "      <th>61</th>\n",
       "      <th>...</th>\n",
       "      <th>41</th>\n",
       "      <th>7</th>\n",
       "      <th>56</th>\n",
       "      <th>35</th>\n",
       "      <th>13</th>\n",
       "      <th>11</th>\n",
       "      <th>1</th>\n",
       "      <th>54</th>\n",
       "      <th>42</th>\n",
       "      <th>21</th>\n",
       "    </tr>\n",
       "    <tr>\n",
       "      <th>Id</th>\n",
       "      <th></th>\n",
       "      <th></th>\n",
       "      <th></th>\n",
       "      <th></th>\n",
       "      <th></th>\n",
       "      <th></th>\n",
       "      <th></th>\n",
       "      <th></th>\n",
       "      <th></th>\n",
       "      <th></th>\n",
       "      <th></th>\n",
       "      <th></th>\n",
       "      <th></th>\n",
       "      <th></th>\n",
       "      <th></th>\n",
       "      <th></th>\n",
       "      <th></th>\n",
       "      <th></th>\n",
       "      <th></th>\n",
       "      <th></th>\n",
       "      <th></th>\n",
       "    </tr>\n",
       "  </thead>\n",
       "  <tbody>\n",
       "    <tr>\n",
       "      <th>755584-base</th>\n",
       "      <td>-1.158948</td>\n",
       "      <td>-0.44583</td>\n",
       "      <td>1.202662</td>\n",
       "      <td>0.964724</td>\n",
       "      <td>-1.022237</td>\n",
       "      <td>-0.233069</td>\n",
       "      <td>-0.446255</td>\n",
       "      <td>0.039741</td>\n",
       "      <td>-0.740189</td>\n",
       "      <td>0.108479</td>\n",
       "      <td>...</td>\n",
       "      <td>-0.678469</td>\n",
       "      <td>-1.508571</td>\n",
       "      <td>-1.330712</td>\n",
       "      <td>0.204835</td>\n",
       "      <td>-0.541061</td>\n",
       "      <td>-1.432634</td>\n",
       "      <td>-0.260633</td>\n",
       "      <td>-0.82335</td>\n",
       "      <td>0.846664</td>\n",
       "      <td>-0.689275</td>\n",
       "    </tr>\n",
       "  </tbody>\n",
       "</table>\n",
       "<p>1 rows × 63 columns</p>\n",
       "</div>"
      ],
      "text/plain": [
       "                   46       67        37        62        32        26  \\\n",
       "Id                                                                       \n",
       "755584-base -1.158948 -0.44583  1.202662  0.964724 -1.022237 -0.233069   \n",
       "\n",
       "                   27        47        31        61  ...        41         7  \\\n",
       "Id                                                   ...                       \n",
       "755584-base -0.446255  0.039741 -0.740189  0.108479  ... -0.678469 -1.508571   \n",
       "\n",
       "                   56        35        13        11         1       54  \\\n",
       "Id                                                                       \n",
       "755584-base -1.330712  0.204835 -0.541061 -1.432634 -0.260633 -0.82335   \n",
       "\n",
       "                   42        21  \n",
       "Id                               \n",
       "755584-base  0.846664 -0.689275  \n",
       "\n",
       "[1 rows x 63 columns]"
      ]
     },
     "execution_count": 72,
     "metadata": {},
     "output_type": "execute_result"
    }
   ],
   "source": [
    "base2 = rscaler_base[rscaler_base.index == '755584-base']\n",
    "base2"
   ]
  },
  {
   "cell_type": "code",
   "execution_count": 65,
   "metadata": {},
   "outputs": [
    {
     "data": {
      "text/plain": [
       "6.265501"
      ]
     },
     "execution_count": 65,
     "metadata": {},
     "output_type": "execute_result"
    }
   ],
   "source": [
    "test1 = train1.copy()\n",
    "test1.pop(\"Target\")\n",
    "np.linalg.norm(test1.values)"
   ]
  },
  {
   "cell_type": "code",
   "execution_count": 73,
   "metadata": {},
   "outputs": [
    {
     "data": {
      "text/plain": [
       "6.282187"
      ]
     },
     "execution_count": 73,
     "metadata": {},
     "output_type": "execute_result"
    }
   ],
   "source": [
    "test2 = base1.copy()\n",
    "np.linalg.norm(test2.values)"
   ]
  },
  {
   "cell_type": "code",
   "execution_count": 74,
   "metadata": {},
   "outputs": [
    {
     "data": {
      "text/plain": [
       "5.7175574"
      ]
     },
     "execution_count": 74,
     "metadata": {},
     "output_type": "execute_result"
    }
   ],
   "source": [
    "test3 = base2.copy()\n",
    "np.linalg.norm(test3.values)"
   ]
  },
  {
   "cell_type": "code",
   "execution_count": 70,
   "metadata": {},
   "outputs": [
    {
     "data": {
      "text/plain": [
       "array([[ 755584, 1136231,  143978,  336969,  232405,  454434, 1113711,\n",
       "        2360257, 1818641,   89840,  598613,  142730, 1037661, 1299775,\n",
       "         352715,  792610, 1307670,  629775,  455829, 1653095,  845854,\n",
       "         233844, 2295048,  223859,  480296, 2479662, 1394044,  271665,\n",
       "          13374,  960901, 1375244,  583287,  816981, 2054647,  251039,\n",
       "          58509, 1674977, 1472986,   57113,  450667, 1934845, 2700063,\n",
       "        2346335,  682218,   49353, 2356601, 1646333, 1142019, 1631947,\n",
       "        2186758, 1159463, 1374819, 1598432, 1747988,  622880,  854264,\n",
       "         445520,  382333, 1324342,  547719,  728097, 1121417, 1679537,\n",
       "        2212973, 2398299,  323974,  363988, 2711635, 2882082,  629636,\n",
       "        1224144, 1639495,  443428,  105660,  851029, 1713683, 1160145,\n",
       "        2042379,  725525, 1546520,  485661,  679629,  200263,  669932,\n",
       "         751217,  988777, 2145555,  703484, 2909593, 1162417, 1409261,\n",
       "         610835, 1307193, 2531948, 1379669, 1777975,  458465,  986050,\n",
       "        1195837,  453252]], dtype=int64)"
      ]
     },
     "execution_count": 70,
     "metadata": {},
     "output_type": "execute_result"
    }
   ],
   "source": [
    "#search_data = rscaler_train[rscaler_train['Target'] == '675816-base'];\n",
    "vecs, idx = lsh_index.search(np.ascontiguousarray(test1.values).astype('float32'), 100)\n",
    "idx"
   ]
  },
  {
   "cell_type": "code",
   "execution_count": null,
   "metadata": {},
   "outputs": [],
   "source": []
  },
  {
   "cell_type": "code",
   "execution_count": null,
   "metadata": {},
   "outputs": [],
   "source": []
  },
  {
   "cell_type": "markdown",
   "metadata": {},
   "source": [
    "### IndexHNSWFlat"
   ]
  },
  {
   "cell_type": "code",
   "execution_count": null,
   "metadata": {},
   "outputs": [],
   "source": []
  },
  {
   "cell_type": "code",
   "execution_count": 103,
   "metadata": {},
   "outputs": [],
   "source": [
    "def buildA5ScoreV3(df_base, df_train, short=True, k_value=5):\n",
    "    dims = df_base.shape[1]\n",
    "    n_cells = 100\n",
    "    # how many cells\n",
    "    #quantizer = faiss.IndexFlatL2(dims)\n",
    "    #idx_l2 = faiss.IndexIVFFlat(quantizer, dims, n_cells)\n",
    "    #idx_l2 = faiss.IndexLSH(dims, 1024)\n",
    "    #M = 2\n",
    "    #d2 = int((dims + M - 1) / M) * M\n",
    "    #q = faiss.IndexPQ (d2, M, 4)\n",
    "    #index_pq = faiss.IndexRefineFlat(q)\n",
    "    #remapper = faiss.RemapDimensionsTransform (dims, d2, True)\n",
    "    #idx_l2 = faiss.IndexPreTransform (remapper, index_pq)\n",
    "    #idx_l2 = faiss.index_factory(dims, \"OPQ16_64,IMI2x8,PQ8+16\")\n",
    "\n",
    "    idx_l2 = index = faiss.IndexHNSWFlat(dims, 512, faiss.METRIC_JensenShannon)\n",
    "    \n",
    "    if short:\n",
    "        idx_l2.train(np.ascontiguousarray(df_base[:50000].values).astype('float32'))\n",
    "        idx_l2.add(np.ascontiguousarray(df_base[:50000].values).astype('float32'))\n",
    "    else :\n",
    "        idx_l2.train(np.ascontiguousarray(df_base.values).astype('float32'))\n",
    "        idx_l2.add(np.ascontiguousarray(df_base.values).astype('float32'))\n",
    "    \n",
    "    base_index = {k: v for k, v in enumerate(df_base.index.to_list())}\n",
    "    #del df_base\n",
    "    \n",
    "    headon_solution_df_train = df_train.copy()\n",
    "    targets = headon_solution_df_train[\"Target\"]\n",
    "    headon_solution_df_train.drop(\"Target\", axis=1, inplace=True)\n",
    "\n",
    "    k=k_value\n",
    "    vecs, idx = idx_l2.search(np.ascontiguousarray(headon_solution_df_train.values).astype('float32'), k)\n",
    "    acc = 0\n",
    "    for target, el in zip(targets.values.tolist(), idx.tolist()):\n",
    "        acc += int(target in [base_index[r] if r in base_index else 0 for r in el])\n",
    "    \n",
    "    return 100 * acc / len(idx)\n",
    "\n"
   ]
  },
  {
   "cell_type": "code",
   "execution_count": null,
   "metadata": {},
   "outputs": [],
   "source": [
    "%%time\n",
    "print(\"A@5 Score on Robust Scaler V3:\", buildA5ScoreV3(rscaler_base, rscaler_train, short=False, k_value=5))"
   ]
  },
  {
   "cell_type": "code",
   "execution_count": 38,
   "metadata": {},
   "outputs": [],
   "source": [
    "def buildA5ScoreV4(df_base, df_train, short=True, k_value=5):\n",
    "    dims = df_base.shape[1]\n",
    "    n_cells = 100\n",
    "    # how many cells\n",
    "    quantizer = faiss.IndexFlatL2(dims)\n",
    "    idx_l2 = faiss.IndexIVFFlat(quantizer, dims, n_cells)\n",
    "\n",
    "    if short:\n",
    "        idx_l2.train(np.ascontiguousarray(df_base[:50000].values).astype('float32'))\n",
    "        idx_l2.add(np.ascontiguousarray(df_base[:50000].values).astype('float32'))\n",
    "    else :\n",
    "        idx_l2.train(np.ascontiguousarray(df_base.values).astype('float32'))\n",
    "        idx_l2.add(np.ascontiguousarray(df_base.values).astype('float32'))\n",
    "    \n",
    "    base_index = {k: v for k, v in enumerate(df_base.index.to_list())}\n",
    "    #del df_base\n",
    "    \n",
    "    headon_solution_df_train = df_train.copy()\n",
    "    targets = headon_solution_df_train[\"Target\"]\n",
    "    headon_solution_df_train.drop(\"Target\", axis=1, inplace=True)\n",
    "\n",
    "    k=5\n",
    "    vecs, idx = idx_l2.search(np.ascontiguousarray(headon_solution_df_train.values).astype('float32'), k)\n",
    "    acc = 0\n",
    "    for target, el in zip(targets.values.tolist(), idx.tolist()):\n",
    "        acc += int(target in [base_index[r] if r in base_index else 0 for r in el])\n",
    "    \n",
    "    return 100 * acc / len(idx)\n",
    "    "
   ]
  },
  {
   "cell_type": "code",
   "execution_count": null,
   "metadata": {},
   "outputs": [],
   "source": []
  },
  {
   "cell_type": "code",
   "execution_count": 35,
   "metadata": {},
   "outputs": [
    {
     "name": "stdout",
     "output_type": "stream",
     "text": [
      "A@5 Score on Robust Scaler V3: 70.065\n",
      "CPU times: total: 5min 42s\n",
      "Wall time: 25.2 s\n"
     ]
    }
   ],
   "source": [
    "%%time\n",
    "print(\"A@5 Score on Robust Scaler V3:\", buildA5ScoreV4(rscaler_base, rscaler_train, short=False, k_value=5))"
   ]
  },
  {
   "cell_type": "code",
   "execution_count": 36,
   "metadata": {},
   "outputs": [],
   "source": [
    "def buildA5ScoreV5(df_base, df_train, short=True, k_value=5):\n",
    "    dims = df_base.shape[1]\n",
    "    n_cells = 100\n",
    "    # how many cells\n",
    "    idx_l2 = faiss.index_factory(dims, \"IVF69,SQ8\")\n",
    "\n",
    "\n",
    "    if short:\n",
    "        idx_l2.train(np.ascontiguousarray(df_base[:50000].values).astype('float32'))\n",
    "        idx_l2.add(np.ascontiguousarray(df_base[:50000].values).astype('float32'))\n",
    "    else :\n",
    "        idx_l2.train(np.ascontiguousarray(df_base.values).astype('float32'))\n",
    "        idx_l2.add(np.ascontiguousarray(df_base.values).astype('float32'))\n",
    "\n",
    "    base_index = {k: v for k, v in enumerate(df_base.index.to_list())}\n",
    "    #del df_base\n",
    "    \n",
    "    headon_solution_df_train = df_train.copy()\n",
    "    targets = headon_solution_df_train[\"Target\"]\n",
    "    headon_solution_df_train.drop(\"Target\", axis=1, inplace=True)\n",
    "\n",
    "    k=k_value\n",
    "    vecs, idx = idx_l2.search(np.ascontiguousarray(headon_solution_df_train.values).astype('float32'), k)\n",
    "    acc = 0\n",
    "    for target, el in zip(targets.values.tolist(), idx.tolist()):\n",
    "        acc += int(target in [base_index[r] if r in base_index else 0 for r in el])\n",
    "    \n",
    "    return 100 * acc / len(idx)\n",
    "    "
   ]
  },
  {
   "cell_type": "code",
   "execution_count": 37,
   "metadata": {},
   "outputs": [
    {
     "name": "stdout",
     "output_type": "stream",
     "text": [
      "A@5 Score on Robust Scaler V3: 63.009\n",
      "CPU times: total: 8min 6s\n",
      "Wall time: 22.8 s\n"
     ]
    }
   ],
   "source": [
    "%%time\n",
    "print(\"A@5 Score on Robust Scaler V3:\", buildA5ScoreV5(rscaler_base, rscaler_train, short=False))"
   ]
  }
 ],
 "metadata": {
  "kernelspec": {
   "display_name": "Python 3 (ipykernel)",
   "language": "python",
   "name": "python3"
  },
  "language_info": {
   "codemirror_mode": {
    "name": "ipython",
    "version": 3
   },
   "file_extension": ".py",
   "mimetype": "text/x-python",
   "name": "python",
   "nbconvert_exporter": "python",
   "pygments_lexer": "ipython3",
   "version": "3.9.18"
  },
  "widgets": {
   "application/vnd.jupyter.widget-state+json": {
    "state": {},
    "version_major": 2,
    "version_minor": 0
   }
  }
 },
 "nbformat": 4,
 "nbformat_minor": 4
}
